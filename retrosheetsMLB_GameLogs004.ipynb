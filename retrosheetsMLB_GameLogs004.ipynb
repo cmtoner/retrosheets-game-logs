{
  "nbformat": 4,
  "nbformat_minor": 0,
  "metadata": {
    "colab": {
      "provenance": [],
      "toc_visible": true
    },
    "kernelspec": {
      "name": "python3",
      "display_name": "Python 3"
    },
    "language_info": {
      "name": "python"
    }
  },
  "cells": [
    {
      "cell_type": "markdown",
      "source": [
        "# Major League Baseball Game Logs, Generaliized Linear Model\n",
        "\n",
        "*The information used here was obtained free of charge from and is copyrighted by Retrosheet.  Interested parties may contact Retrosheet at \"www.retrosheet.org\".*"
      ],
      "metadata": {
        "id": "ztAe4g2F6ByA"
      }
    },
    {
      "cell_type": "markdown",
      "source": [
        "## 1. Introduction\n",
        "\n",
        "Major League Baseball game logs are a per-game summary of the events that occur during a single game in the form of counting statistics. In an earlier analysis, we examined the effect of these events by fitting a linear regression model to the number of runs scored. The resulting model produced coefficient estimates that appear reasonable, however the diagnostic measures revealed potential problems. Specifically, there was evidence of non-linear behavior in the response, heteroskedasticity, and multicollinearity among the regressors. The resulting model, therefore, is subject to biased coefficient estimates and unreliable confidence intervals. This project will address those problems by fitting a generalized linear model (GLM) to the number of runs scored and compare the results to the ordinary least squares (OLS) model.\n",
        "\n",
        "Recall that a GLM relates the conditional mean $E(Y|X=x)$ to a linear predictor $\\beta_0 + \\beta_1 x_1 + ... + \\beta_i x_i$ through a linking function, denoted $g()$. That is, \n",
        "\n",
        "$$ g(E(Y|X_i = x_i)) = \\beta_0 + \\beta_1 x_1 + ... + \\beta_i x_i$$\n",
        "or \n",
        "$$E(Y|X_i = x_i) = g^{-1} (\\beta_0 + \\beta_1 x_1 + ... + \\beta_i x_i)\n",
        "$$\n",
        "\n",
        "where $i$ is the number of independent variables. The model depends on the response distribution as well as the linking function. As a prelude to this analysis, we also examined the distribution of the game-log statistics in an earlier project. The various lengths of games (extra innings or rain-shortened) in the data set causes over dispersion and, as a result, the negative binomial distribution was the preferred method to model the counts. When over dispersion was not an issue, the Poisson and binomial distributions performed reasonably well. These appear to be the prime candidates for our model. We will also include the Gaussian distribution as a point of comparison to the OLS model from an earlier project.\n",
        "\n",
        "The choice of linking function is perhaps as important to the results of the model as the choice of the distribution for the response. We will be using the Statsmodels API for this analysis and for each response distribution there are several choices for the link function. The data set is relatively small and the time to compute the results is small enough that we will fit each of them and sort through the results to select the best model.\n"
      ],
      "metadata": {
        "id": "8VoKqFqY6OOW"
      }
    },
    {
      "cell_type": "markdown",
      "source": [
        "## 2. Motivation\n",
        "\n",
        "The primary motivation for this project is to fit a GLM to the MLB game log data set and infer the value each variable with respect to the number of runs scored. We will compare these results to those obtained from an OLS regression model developed in an earlier project and decide which model is more appropriate for making statistical inferences. Finally, we will determine if a GLM addresses the problems discovered in the OLS model.\n",
        "\n",
        "We will use the same data set, with the following variables.\n",
        "\n",
        "**Offensive Categories**\n",
        "- *season*: Season in which game is played (year).\n",
        "- *league*: League of the home team.\n",
        "- *win*: Indicator of win or loss.\n",
        "- *score*: Number of runs scored by a team's offense.\n",
        "- *ab*: Number of at-bats for a team's offense. An official at-bat comes when a batter reaches base via a fielder's choice, hit or an error (not including catcher's interference) or when a batter is put out on a non-sacrifice.\n",
        "- *1b*: Number singles for a team's offense.\n",
        "- *2b*: Number of doubles for a team's offense.\n",
        "- *3b*: Number of triples for a team's offense.\n",
        "- *4b*: Number of home runs for a team's offense.\n",
        "- *sach*: Number of sacrifice hits (or sacrifice bunts) for a team's offense. A sacrifice bunt occurs when a player is successful in his attempt to advance a runner (or multiple runners) at least one base with a bunt.\n",
        "- *sacf*: Number of sacrifice flies for a team's offense. A sacrifice fly occurs when a batter hits a fly-ball out to the outfield or foul territory that allows a runner to score. The batter is given credit for an RBI.\n",
        "- *hbp*: Number of hit-by-pitches for a team's offense. A hit-by-pitch occurs when a batter is struck by a pitched ball without swinging at it. He is awarded first base as a result. Strikes supersede hit-by-pitches, meaning if the umpire rules that the pitch was in the strike zone or that the batter swung, the HBP is nullified.\n",
        "- *bb*: Number of base-on-balls (walks) for a team's offense. A walk (or base on balls) occurs when a pitcher throws four pitches out of the strike zone, none of which are swung at by the hitter. After refraining from swinging at four pitches out of the zone, the batter is awarded first base. In the scorebook, a walk is denoted by the letters BB.\n",
        "- *ibb*: Number of intentional base-on-balls (walks) for a team's offense. An intentional walk occurs when the defending team chooses to walk a batter on purpose, putting him on first base instead of letting him try to hit.\n",
        "- *k*: Number of strikeouts for a team's offense.\n",
        "- *sb*: Number of stolen bases for a team.\n",
        "- *cs*: Number of caught stealing for a team.\n",
        "- *gidp*: Number of grounded-into-double-plays for a team's offense. A GIDP occurs when a player hits a ground ball that results in multiple outs on the bases.\n",
        "- *ci*: Number of catcher's interference awarded to a teams' offense. The batter is awarded first base if the catcher (or any other fielder) interferes with him at any point during a pitch. If first base was occupied at the time of the pitch, the runner who held the base is allowed to move up one base.\n",
        "- *lob*: The total number (over the course of a game) of runners left on base at the end of each inning by a team's offense.\n",
        "\n",
        "**Defensive Categories**\n",
        "\n",
        "- *oppNumPitchers*: Number of pitchers appearing in the for the opponent's defense.\n",
        "- *oppER*: Number of earned runs surrendered by the opponent's defense. An earned run is any run that scores against a pitcher without the benefit of an error or a passed ball.\n",
        "- *oppTeamER*: Number of earned runs surrendered by the opponent's defense that is not assigned to a specific pitcher.\n",
        "- *oppWP*: Number of wild pitches surrendered by the opponent's defense. A pitcher is charged with a wild pitch when his pitch is so errant that the catcher is unable to control it and, as a result, baserunner(s) advance.\n",
        "- *oppBalk*: Number of balks surrendered by the opponent's defense. A balk occurs when a pitcher makes an illegal motion on the mound that the umpire considers to be deceitful to the runner(s).\n",
        "- *oppPO*: Number of putouts recorded by the opponent's defense. A fielder is credited with a putout when he is the fielder who physically records the act of completing an out -- whether it be by stepping on the base for a force out, tagging a runner, catching a batted ball, or catching a third strike.\n",
        "- *oppAssist* Number of assists recorded by the opponent's defense. An assist is awarded to a fielder who touches the ball before a putout is recorded by another fielder. Typically, assists are awarded to fielders when they throw the ball to another player -- but a fielder receives an assist if he touches the ball, even if the contact was unintentional.\n",
        "- *opERR*: Number of errors recorded by the opponent's defense. A fielder is given an error if, in the judgment of the official scorer, he does not convert an out on a play that an average fielder should have made. Fielders can also be given errors if they make a poor play that allows one or more runners to advance on the bases.\n",
        "- *oppPB*: Number of passed balls recorded by the opponent's defense. A catcher is charged with a passed ball when he does not hold or control a legally pitched ball that, with ordinary effort, should have been maintained under his control, and, because of this loss of control, the batter, or a runner on base advances. A runner who advances due to a passed ball is not credited with a stolen base unless he breaks for the base before the pitcher begins his delivery.\n",
        "- *oppDP*: Number of double plays recorded by the opponent's defense. A double play occurs when two offensive players are ruled out within the same play.\n",
        "- *oppTP*: Number of triple plays recorded by the opponent's defense. A triple play occurs when three offensive players are ruled out within the same play.\n"
      ],
      "metadata": {
        "id": "VawgEy2S7akd"
      }
    },
    {
      "cell_type": "markdown",
      "source": [
        "## 3. Analysis"
      ],
      "metadata": {
        "id": "UAidOrbr7v81"
      }
    },
    {
      "cell_type": "markdown",
      "source": [
        "### 3.1 Imports and Function Definitions"
      ],
      "metadata": {
        "id": "DhhCFNAc7yWr"
      }
    },
    {
      "cell_type": "code",
      "source": [
        "import warnings\n",
        "# suppress keyword-only future warnings in pandas\n",
        "warnings.simplefilter(action='ignore', category=FutureWarning)\n",
        "\n",
        "import pandas as pd\n",
        "import random\n",
        "import numpy as np\n",
        "from statsmodels.stats.outliers_influence import variance_inflation_factor as VIF\n",
        "import statsmodels.api as sm\n",
        "from statsmodels.graphics.gofplots import ProbPlot\n",
        "import matplotlib.pyplot as plt\n",
        "import seaborn as sns\n",
        "import scipy.stats\n",
        "import itertools\n",
        "import json\n",
        "from google.colab import drive"
      ],
      "metadata": {
        "id": "_zNpwcgc8UEE"
      },
      "execution_count": null,
      "outputs": []
    },
    {
      "cell_type": "markdown",
      "source": [
        "Define convenience functions to (1) perform the split of the training, testing, and validation data, (2) create the diagnostic plot for a fitted model, and (3) calculate the variance inflation factor (VIF) and condition number for the proposed design matrix."
      ],
      "metadata": {
        "id": "ihiaBaOmFFhL"
      }
    },
    {
      "cell_type": "code",
      "source": [
        "def ttvSplit (ixIn, splitsIn=[0.8,0.1,0.1], shuffle_list=True):\n",
        "    \"\"\"\n",
        "    Parameters\n",
        "    ----------\n",
        "    ixIn : List or list-like object.\n",
        "        A list of indices for the data frame.\n",
        "    splitsIn : List or list-like object, optional\n",
        "        Proportions of ixIn in each split. If the proportions do not sum to 1,\n",
        "        they will be automatically scaled. The default is [0.1,0.1,0.8].\n",
        "    shuffle_list: Boolean.\n",
        "        Indicator if the incoming list should be randomly shuffled.\n",
        "\n",
        "    Returns\n",
        "    -------\n",
        "    A ragged list of indices for the training, testing, and validation data sets.\n",
        "\n",
        "    \"\"\"\n",
        "\n",
        "    ixIn = list(ixIn)\n",
        "\n",
        "    if shuffle_list==True:\n",
        "        random.shuffle(ixIn)\n",
        "\n",
        "    splitsIn = list(splitsIn)\n",
        "\n",
        "    #define break points\n",
        "    splits0 = [0]+[int(i) for i in np.rint(len(ixIn)*np.array(splitsIn).cumsum()/np.array(splitsIn).sum())]\n",
        "\n",
        "    #ragged list of partitions\n",
        "    splitsOut = [ixIn[splits0[i]:splits0[i+1]] for i in range(len(splits0)-1)]\n",
        "\n",
        "    return(splitsOut)\n",
        "\n",
        "def plotGLMResidualsHist(resGLM, figureSize=(10,5),plotTitle=''):\n",
        "    \"\"\"\n",
        "    Parameters\n",
        "    ----------\n",
        "    results : statsmodels.genmod.generalized_linear_model.GLMResultsWrapper\n",
        "        The results from fitting a GLM.\n",
        "    figureSize: tuple\n",
        "        The dimensions (inches) of the resulting plot. Default is 10 x 5\n",
        "    plotTitle: string\n",
        "        Title of the figure. Default is ''\n",
        "\n",
        "    Returns\n",
        "    -------\n",
        "    Two panel histogram of the Pearson and deviance residuals.\n",
        "\n",
        "    \"\"\"\n",
        "    # hist of pearson/deviance residuals\n",
        "    fig = plt.figure(figsize=figureSize, tight_layout=False)\n",
        "    fig.suptitle(plotTitle,fontweight='bold')\n",
        "    ax0 = plt.subplot(1,2,1)\n",
        "    sns.histplot(resGLM.resid_deviance,stat='density',kde=True, alpha=0.25, ax=ax0)\n",
        "    ax0.plot(np.linspace(-7,7,100),\n",
        "             scipy.stats.norm.pdf(np.linspace(-7,7,100),\n",
        "                                  resGLM.resid_deviance.mean(),\n",
        "                                  resGLM.resid_deviance.std()),\n",
        "             color='green')\n",
        "\n",
        "    ax0.set_title('Deviance Residuals')\n",
        "    ax0.legend(['KDE','Normal'])\n",
        "    ax1 = plt.subplot(1,2,2)\n",
        "    sns.histplot(resGLM.resid_pearson,stat='density',kde=True, alpha=0.25, ax=ax1)\n",
        "    ax1.plot(np.linspace(-7,7,100),\n",
        "             scipy.stats.norm.pdf(np.linspace(-7,7,100),\n",
        "                                  resGLM.resid_pearson.mean(),\n",
        "                                  resGLM.resid_pearson.std()),\n",
        "             color='green')\n",
        "\n",
        "    ax1.set_title('Pearson Residuals')\n",
        "    ax1.legend(['KDE','Normal'])\n",
        "    return()\n",
        "\n",
        "def glmDiagnosticPlots(glmResults, figureSize=(10,10), figureTitle=''):\n",
        "    \"\"\"\n",
        "    Parameters\n",
        "    ----------\n",
        "    glmResults : statsmodels.genmod.generalized_linear_model.GLMResultsWrapper\n",
        "        Results from a fitted glm model (statsmodels).\n",
        "    figureSize : Tuple, optional\n",
        "        Dimensions of the figure. The default is (10,10).\n",
        "    figureTitle : String, optional\n",
        "        Title of the figure. The default is ''.\n",
        "\n",
        "    Returns\n",
        "    -------\n",
        "    Fig.\n",
        "    matplotlib.figure.Figure\n",
        "    Four panel diagnostic plots for GLM regression\n",
        "\n",
        "    \"\"\"\n",
        "\n",
        "    # step 1. unpack model results\n",
        "    yTrue = glmResults.model.endog\n",
        "    yHat = glmResults.fittedvalues\n",
        "    X = glmResults.model.exog\n",
        "    XNames = glmResults.model.exog_names\n",
        "\n",
        "    residuals = np.array(glmResults.resid_deviance)\n",
        "    influence = glmResults.get_influence()\n",
        "    residNorm = influence.resid_studentized\n",
        "    residNormAbsSqrt = np.sqrt(np.abs(residNorm))\n",
        "    leverage = influence.hat_matrix_diag\n",
        "    cooksDistance = influence.cooks_distance[0]\n",
        "    numParams = len(glmResults.params)\n",
        "\n",
        "\n",
        "    # Step 2. Calc Cooks distance reference lines\n",
        "    formula0 = lambda x: np.sqrt((0.5 * numParams * (1 - x)) / x)\n",
        "    cooksDistx0 = np.linspace(0.001, max(leverage), 50)\n",
        "    cooksDisty0 = formula0(cooksDistx0)\n",
        "\n",
        "    formula1 = lambda x: np.sqrt((1.0 * numParams * (1 - x)) / x)\n",
        "    cooksDistx1 = np.linspace(0.001, max(leverage), 50)\n",
        "    cooksDisty1 = formula1(cooksDistx1)\n",
        "\n",
        "    fig = plt.figure(figsize=figureSize,tight_layout=False)\n",
        "    fig.suptitle(figureTitle,fontweight='bold')\n",
        "\n",
        "    ## Step 3. Create Plots\n",
        "    # Residuals vs fitted plot\n",
        "    ax0 = plt.subplot(2,2,1)\n",
        "    sns.residplot(x=yHat,\n",
        "                  y=residuals,\n",
        "                  lowess=True,scatter_kws={'alpha': 0.25},\n",
        "                  line_kws={'color': 'red', 'lw': 1, 'alpha': 0.8},\n",
        "                  ax=ax0)\n",
        "    ax0.set_title('Deviance Residuals vs. Fitted',fontweight='bold')\n",
        "    ax0.set_xlabel('Fitted')\n",
        "    ax0.set_ylabel('Deviance Residuals')\n",
        "\n",
        "    # QQ plot\n",
        "    ax1 = plt.subplot(2,2,2)\n",
        "    QQ = ProbPlot(residNorm)\n",
        "    QQ.qqplot(line='45', alpha=0.5, lw=1, ax=ax1)\n",
        "    ax1.set_title('Normal QQ', fontweight=\"bold\")\n",
        "    ax1.set_xlabel('Theoretical Quantiles')\n",
        "    ax1.set_ylabel('Standardized Residuals')\n",
        "\n",
        "    # Scale-Location plot\n",
        "    ax2 = plt.subplot(2,2,3)\n",
        "    ax2.scatter(yHat, residNormAbsSqrt, alpha=0.25);\n",
        "    sns.regplot(\n",
        "        x=yHat,\n",
        "        y=residNormAbsSqrt,\n",
        "        scatter=False, ci=False,\n",
        "        lowess=True,\n",
        "        line_kws={'color': 'red', 'lw': 1, 'alpha': 0.8},\n",
        "        ax=ax2)\n",
        "    # annotate plot with top 5 residuals\n",
        "    for i in np.argsort(residNormAbsSqrt,0)[-5:]:\n",
        "        ax2.annotate(i,\n",
        "                     xy=(yHat.iloc[i],residNormAbsSqrt[i]),\n",
        "                     color='red')\n",
        "\n",
        "    ax2.set_title('Scale-Location', fontweight=\"bold\")\n",
        "    ax2.set_xlabel('Fitted values')\n",
        "    ax2.set_ylabel(r'$\\sqrt{|\\mathrm{Standardized\\ Residuals}|}$')\n",
        "\n",
        "    #Leverage Plot\n",
        "    ax3 = plt.subplot(2,2,4)\n",
        "    ax3.set_xlim(0,1.1*max(leverage))\n",
        "    ax3.scatter(\n",
        "                leverage,\n",
        "                residNorm,\n",
        "                alpha=0.5)\n",
        "\n",
        "    sns.regplot(\n",
        "        x=leverage,\n",
        "        y=residNorm,\n",
        "        scatter=False,\n",
        "        ci=False,\n",
        "        lowess=True,\n",
        "        line_kws={'color': 'red', 'lw': 1, 'alpha': 0.8},\n",
        "        ax=ax3)\n",
        "\n",
        "    # annotations\n",
        "    for i in np.argsort(cooksDistance,0)[-5:]:\n",
        "        ax3.annotate(\n",
        "            i,\n",
        "            xy=(leverage[i], residNorm[i]),\n",
        "            color = 'red')\n",
        "\n",
        "    # Cooks distance 0.5 reference line\n",
        "    ax3.plot(cooksDistx0, cooksDisty0, label=\"Cook's distance\", lw=1, ls='--', color='red')\n",
        "    ax3.plot(cooksDistx1, cooksDisty1, lw=1, ls='--', color='red')\n",
        "\n",
        "    ax3.set_title('Residuals vs Leverage', fontweight=\"bold\")\n",
        "    ax3.set_xlabel('Leverage')\n",
        "    ax3.set_ylabel('Standardized Residuals')\n",
        "    ax3.legend(loc='upper right')\n",
        "\n",
        "    return(fig)\n",
        "\n",
        "def calcVIFCond(exog, verbose=True):\n",
        "    \"\"\"\n",
        "    Parameters\n",
        "    ----------\n",
        "    exog : Pandas dataframe\n",
        "        The design matrix for the features under consideration.\n",
        "\n",
        "    Returns\n",
        "    -------\n",
        "    Variance inflation factor and condition number for exog.\n",
        "\n",
        "    \"\"\"\n",
        "\n",
        "    vifDict= {}\n",
        "    if verbose==True:\n",
        "        print('VIF')\n",
        "    for c in range(len(exog.columns)):\n",
        "        try:\n",
        "            vifDict[exog.columns[c]] = VIF(exog.to_numpy(),c)\n",
        "            if verbose==True:\n",
        "                print('\\t',exog.columns[c],(20-len(exog.columns[c]))*\" \",vifDict[exog.columns[c]])\n",
        "        except TypeError as te:\n",
        "            print(te)\n",
        "\n",
        "    condNum = np.linalg.cond(exog.dropna())\n",
        "\n",
        "    if verbose==True:\n",
        "        print(f'\\nCondition Number: {condNum}\\n')\n",
        "\n",
        "    return(vifDict, condNum)"
      ],
      "metadata": {
        "id": "ai2lJ69ABRrm"
      },
      "execution_count": null,
      "outputs": []
    },
    {
      "cell_type": "markdown",
      "source": [
        "### 3.2 Load Data and Prepare the Data Frame"
      ],
      "metadata": {
        "id": "oTCQx7rKBxgN"
      }
    },
    {
      "cell_type": "markdown",
      "source": [
        "Load the data from a *CSV* file."
      ],
      "metadata": {
        "id": "xlg7Qh9Pin2H"
      }
    },
    {
      "cell_type": "code",
      "source": [
        "# load data without index column\n",
        "df = pd.read_csv('https://github.com/cmtoner/retrosheets-game-logs/raw/main/rs_GameLog_data02.zip', index_col=0)\n",
        "\n",
        "df.head()\n",
        "\n",
        "# drop seasons less than 1920 and game with score>15\n",
        "df = df[(df.season>=1920)&(df.score<=15)]\n",
        "\n",
        "df.head()"
      ],
      "metadata": {
        "colab": {
          "base_uri": "https://localhost:8080/",
          "height": 236
        },
        "id": "1s_CnzpoB03l",
        "outputId": "3b7860c6-1ffc-4f3d-b88a-ee620bd1e37f"
      },
      "execution_count": null,
      "outputs": [
        {
          "output_type": "execute_result",
          "data": {
            "text/plain": [
              "   season league  win  score    ab   1b   2b   3b   4b  sach  ...  oppER  \\\n",
              "0    1933     ML    1      4  31.0  8.0  0.0  0.0  1.0   1.0  ...    4.0   \n",
              "1    1935     ML    1      4  32.0  4.0  2.0  1.0  1.0   0.0  ...    4.0   \n",
              "2    1937     ML    1      8  35.0  8.0  3.0  1.0  1.0   0.0  ...    8.0   \n",
              "3    1939     ML    1      3  31.0  5.0  0.0  0.0  1.0   0.0  ...    2.0   \n",
              "4    1941     ML    1      7  36.0  7.0  3.0  0.0  1.0   0.0  ...    7.0   \n",
              "\n",
              "   oppTeamER  oppWP  oppBalk  oppPO  oppAssist  oppERR  oppPB  oppDP  oppTP  \n",
              "0        4.0    0.0      0.0   24.0       11.0     0.0    0.0    1.0    0.0  \n",
              "1        4.0    0.0      0.0   24.0        8.0     1.0    0.0    0.0    0.0  \n",
              "2        8.0    0.0      0.0   24.0        9.0     0.0    0.0    1.0    0.0  \n",
              "3        2.0    0.0      0.0   24.0        7.0     1.0    0.0    0.0    0.0  \n",
              "4        7.0    0.0      0.0   26.0        7.0     2.0    0.0    1.0    0.0  \n",
              "\n",
              "[5 rows x 31 columns]"
            ],
            "text/html": [
              "\n",
              "  <div id=\"df-2ff7efe4-530d-45b6-b49e-6ab530281151\">\n",
              "    <div class=\"colab-df-container\">\n",
              "      <div>\n",
              "<style scoped>\n",
              "    .dataframe tbody tr th:only-of-type {\n",
              "        vertical-align: middle;\n",
              "    }\n",
              "\n",
              "    .dataframe tbody tr th {\n",
              "        vertical-align: top;\n",
              "    }\n",
              "\n",
              "    .dataframe thead th {\n",
              "        text-align: right;\n",
              "    }\n",
              "</style>\n",
              "<table border=\"1\" class=\"dataframe\">\n",
              "  <thead>\n",
              "    <tr style=\"text-align: right;\">\n",
              "      <th></th>\n",
              "      <th>season</th>\n",
              "      <th>league</th>\n",
              "      <th>win</th>\n",
              "      <th>score</th>\n",
              "      <th>ab</th>\n",
              "      <th>1b</th>\n",
              "      <th>2b</th>\n",
              "      <th>3b</th>\n",
              "      <th>4b</th>\n",
              "      <th>sach</th>\n",
              "      <th>...</th>\n",
              "      <th>oppER</th>\n",
              "      <th>oppTeamER</th>\n",
              "      <th>oppWP</th>\n",
              "      <th>oppBalk</th>\n",
              "      <th>oppPO</th>\n",
              "      <th>oppAssist</th>\n",
              "      <th>oppERR</th>\n",
              "      <th>oppPB</th>\n",
              "      <th>oppDP</th>\n",
              "      <th>oppTP</th>\n",
              "    </tr>\n",
              "  </thead>\n",
              "  <tbody>\n",
              "    <tr>\n",
              "      <th>0</th>\n",
              "      <td>1933</td>\n",
              "      <td>ML</td>\n",
              "      <td>1</td>\n",
              "      <td>4</td>\n",
              "      <td>31.0</td>\n",
              "      <td>8.0</td>\n",
              "      <td>0.0</td>\n",
              "      <td>0.0</td>\n",
              "      <td>1.0</td>\n",
              "      <td>1.0</td>\n",
              "      <td>...</td>\n",
              "      <td>4.0</td>\n",
              "      <td>4.0</td>\n",
              "      <td>0.0</td>\n",
              "      <td>0.0</td>\n",
              "      <td>24.0</td>\n",
              "      <td>11.0</td>\n",
              "      <td>0.0</td>\n",
              "      <td>0.0</td>\n",
              "      <td>1.0</td>\n",
              "      <td>0.0</td>\n",
              "    </tr>\n",
              "    <tr>\n",
              "      <th>1</th>\n",
              "      <td>1935</td>\n",
              "      <td>ML</td>\n",
              "      <td>1</td>\n",
              "      <td>4</td>\n",
              "      <td>32.0</td>\n",
              "      <td>4.0</td>\n",
              "      <td>2.0</td>\n",
              "      <td>1.0</td>\n",
              "      <td>1.0</td>\n",
              "      <td>0.0</td>\n",
              "      <td>...</td>\n",
              "      <td>4.0</td>\n",
              "      <td>4.0</td>\n",
              "      <td>0.0</td>\n",
              "      <td>0.0</td>\n",
              "      <td>24.0</td>\n",
              "      <td>8.0</td>\n",
              "      <td>1.0</td>\n",
              "      <td>0.0</td>\n",
              "      <td>0.0</td>\n",
              "      <td>0.0</td>\n",
              "    </tr>\n",
              "    <tr>\n",
              "      <th>2</th>\n",
              "      <td>1937</td>\n",
              "      <td>ML</td>\n",
              "      <td>1</td>\n",
              "      <td>8</td>\n",
              "      <td>35.0</td>\n",
              "      <td>8.0</td>\n",
              "      <td>3.0</td>\n",
              "      <td>1.0</td>\n",
              "      <td>1.0</td>\n",
              "      <td>0.0</td>\n",
              "      <td>...</td>\n",
              "      <td>8.0</td>\n",
              "      <td>8.0</td>\n",
              "      <td>0.0</td>\n",
              "      <td>0.0</td>\n",
              "      <td>24.0</td>\n",
              "      <td>9.0</td>\n",
              "      <td>0.0</td>\n",
              "      <td>0.0</td>\n",
              "      <td>1.0</td>\n",
              "      <td>0.0</td>\n",
              "    </tr>\n",
              "    <tr>\n",
              "      <th>3</th>\n",
              "      <td>1939</td>\n",
              "      <td>ML</td>\n",
              "      <td>1</td>\n",
              "      <td>3</td>\n",
              "      <td>31.0</td>\n",
              "      <td>5.0</td>\n",
              "      <td>0.0</td>\n",
              "      <td>0.0</td>\n",
              "      <td>1.0</td>\n",
              "      <td>0.0</td>\n",
              "      <td>...</td>\n",
              "      <td>2.0</td>\n",
              "      <td>2.0</td>\n",
              "      <td>0.0</td>\n",
              "      <td>0.0</td>\n",
              "      <td>24.0</td>\n",
              "      <td>7.0</td>\n",
              "      <td>1.0</td>\n",
              "      <td>0.0</td>\n",
              "      <td>0.0</td>\n",
              "      <td>0.0</td>\n",
              "    </tr>\n",
              "    <tr>\n",
              "      <th>4</th>\n",
              "      <td>1941</td>\n",
              "      <td>ML</td>\n",
              "      <td>1</td>\n",
              "      <td>7</td>\n",
              "      <td>36.0</td>\n",
              "      <td>7.0</td>\n",
              "      <td>3.0</td>\n",
              "      <td>0.0</td>\n",
              "      <td>1.0</td>\n",
              "      <td>0.0</td>\n",
              "      <td>...</td>\n",
              "      <td>7.0</td>\n",
              "      <td>7.0</td>\n",
              "      <td>0.0</td>\n",
              "      <td>0.0</td>\n",
              "      <td>26.0</td>\n",
              "      <td>7.0</td>\n",
              "      <td>2.0</td>\n",
              "      <td>0.0</td>\n",
              "      <td>1.0</td>\n",
              "      <td>0.0</td>\n",
              "    </tr>\n",
              "  </tbody>\n",
              "</table>\n",
              "<p>5 rows × 31 columns</p>\n",
              "</div>\n",
              "      <button class=\"colab-df-convert\" onclick=\"convertToInteractive('df-2ff7efe4-530d-45b6-b49e-6ab530281151')\"\n",
              "              title=\"Convert this dataframe to an interactive table.\"\n",
              "              style=\"display:none;\">\n",
              "        \n",
              "  <svg xmlns=\"http://www.w3.org/2000/svg\" height=\"24px\"viewBox=\"0 0 24 24\"\n",
              "       width=\"24px\">\n",
              "    <path d=\"M0 0h24v24H0V0z\" fill=\"none\"/>\n",
              "    <path d=\"M18.56 5.44l.94 2.06.94-2.06 2.06-.94-2.06-.94-.94-2.06-.94 2.06-2.06.94zm-11 1L8.5 8.5l.94-2.06 2.06-.94-2.06-.94L8.5 2.5l-.94 2.06-2.06.94zm10 10l.94 2.06.94-2.06 2.06-.94-2.06-.94-.94-2.06-.94 2.06-2.06.94z\"/><path d=\"M17.41 7.96l-1.37-1.37c-.4-.4-.92-.59-1.43-.59-.52 0-1.04.2-1.43.59L10.3 9.45l-7.72 7.72c-.78.78-.78 2.05 0 2.83L4 21.41c.39.39.9.59 1.41.59.51 0 1.02-.2 1.41-.59l7.78-7.78 2.81-2.81c.8-.78.8-2.07 0-2.86zM5.41 20L4 18.59l7.72-7.72 1.47 1.35L5.41 20z\"/>\n",
              "  </svg>\n",
              "      </button>\n",
              "      \n",
              "  <style>\n",
              "    .colab-df-container {\n",
              "      display:flex;\n",
              "      flex-wrap:wrap;\n",
              "      gap: 12px;\n",
              "    }\n",
              "\n",
              "    .colab-df-convert {\n",
              "      background-color: #E8F0FE;\n",
              "      border: none;\n",
              "      border-radius: 50%;\n",
              "      cursor: pointer;\n",
              "      display: none;\n",
              "      fill: #1967D2;\n",
              "      height: 32px;\n",
              "      padding: 0 0 0 0;\n",
              "      width: 32px;\n",
              "    }\n",
              "\n",
              "    .colab-df-convert:hover {\n",
              "      background-color: #E2EBFA;\n",
              "      box-shadow: 0px 1px 2px rgba(60, 64, 67, 0.3), 0px 1px 3px 1px rgba(60, 64, 67, 0.15);\n",
              "      fill: #174EA6;\n",
              "    }\n",
              "\n",
              "    [theme=dark] .colab-df-convert {\n",
              "      background-color: #3B4455;\n",
              "      fill: #D2E3FC;\n",
              "    }\n",
              "\n",
              "    [theme=dark] .colab-df-convert:hover {\n",
              "      background-color: #434B5C;\n",
              "      box-shadow: 0px 1px 3px 1px rgba(0, 0, 0, 0.15);\n",
              "      filter: drop-shadow(0px 1px 2px rgba(0, 0, 0, 0.3));\n",
              "      fill: #FFFFFF;\n",
              "    }\n",
              "  </style>\n",
              "\n",
              "      <script>\n",
              "        const buttonEl =\n",
              "          document.querySelector('#df-2ff7efe4-530d-45b6-b49e-6ab530281151 button.colab-df-convert');\n",
              "        buttonEl.style.display =\n",
              "          google.colab.kernel.accessAllowed ? 'block' : 'none';\n",
              "\n",
              "        async function convertToInteractive(key) {\n",
              "          const element = document.querySelector('#df-2ff7efe4-530d-45b6-b49e-6ab530281151');\n",
              "          const dataTable =\n",
              "            await google.colab.kernel.invokeFunction('convertToInteractive',\n",
              "                                                     [key], {});\n",
              "          if (!dataTable) return;\n",
              "\n",
              "          const docLinkHtml = 'Like what you see? Visit the ' +\n",
              "            '<a target=\"_blank\" href=https://colab.research.google.com/notebooks/data_table.ipynb>data table notebook</a>'\n",
              "            + ' to learn more about interactive tables.';\n",
              "          element.innerHTML = '';\n",
              "          dataTable['output_type'] = 'display_data';\n",
              "          await google.colab.output.renderOutput(dataTable, element);\n",
              "          const docLink = document.createElement('div');\n",
              "          docLink.innerHTML = docLinkHtml;\n",
              "          element.appendChild(docLink);\n",
              "        }\n",
              "      </script>\n",
              "    </div>\n",
              "  </div>\n",
              "  "
            ]
          },
          "metadata": {},
          "execution_count": 4
        }
      ]
    },
    {
      "cell_type": "markdown",
      "source": [
        "Split the data frame indices into training, testing, and validation indices. We will slice the data frame using these indices rather than defining new data frames each time it is needed."
      ],
      "metadata": {
        "id": "dGXA_nPq2h9S"
      }
    },
    {
      "cell_type": "code",
      "source": [
        "#get Training, Testing, and validation indices\n",
        "ixTr, ixTe, ixV = ttvSplit(df.dropna().index, splitsIn=[0.60,0.20,0.20])\n"
      ],
      "metadata": {
        "id": "yBCuq0ES2jpB"
      },
      "execution_count": null,
      "outputs": []
    },
    {
      "cell_type": "markdown",
      "source": [
        "Drop features based on our earlier (OLS) analysis. We are not concerned with prediction as much as we are making good statistical inferences. League, for example, may be significant in predicting the final score of a game, but membership in a league is not an event that directly leads to run scoring in a game. Similarly, the season will be dropped. Rule changes or prevailing game strategies may be latent properties hidden within *season* and not measured, otherwise. This project, however, is only concerned with quantifying the value of, say, a double or a walk. Any variable that is not an on-field event is omitted."
      ],
      "metadata": {
        "id": "Xbs88zn42qGx"
      }
    },
    {
      "cell_type": "code",
      "source": [
        "# eliminate features based on previous analysis\n",
        "# define columns of interest\n",
        "xCols0 = ['ab','1b','2b','3b','4b','sach','sacf','hbp','bb','ibb','k','sb',\n",
        "          'cs','gidp','ci','oppWP','oppBalk','oppERR','oppPB','oppTP']\n",
        "\n",
        "#look for null values in each column of interest\n",
        "for c in xCols0:\n",
        "    if any(pd.isnull(df.loc[ixTr,c]))>0:\n",
        "        print(c)\n",
        "    else:\n",
        "        print(f'{c}: No null values present.')"
      ],
      "metadata": {
        "id": "lf09m1VC2x6a",
        "colab": {
          "base_uri": "https://localhost:8080/"
        },
        "outputId": "ad6472ef-c52b-4e33-f056-7db67086805b"
      },
      "execution_count": null,
      "outputs": [
        {
          "output_type": "stream",
          "name": "stdout",
          "text": [
            "ab: No null values present.\n",
            "1b: No null values present.\n",
            "2b: No null values present.\n",
            "3b: No null values present.\n",
            "4b: No null values present.\n",
            "sach: No null values present.\n",
            "sacf: No null values present.\n",
            "hbp: No null values present.\n",
            "bb: No null values present.\n",
            "ibb: No null values present.\n",
            "k: No null values present.\n",
            "sb: No null values present.\n",
            "cs: No null values present.\n",
            "gidp: No null values present.\n",
            "ci: No null values present.\n",
            "oppWP: No null values present.\n",
            "oppBalk: No null values present.\n",
            "oppERR: No null values present.\n",
            "oppPB: No null values present.\n",
            "oppTP: No null values present.\n"
          ]
        }
      ]
    },
    {
      "cell_type": "markdown",
      "source": [
        "### 3.3 Correlation Matrix\n",
        "\n",
        "Examine the correlation matrix, looking for large correlations (positive or negative) among the potential regressors. The variables *gidp* and *oppDP* are both counting double-plays, so *oppDP* will be eliminated. Likewise, for *oppER* and *oppTeamER*, so they will be eliminated.\n",
        "\n",
        "The variables *oppNumPitches*, *lob*, *season*, and *win* are not events that result in run scoring, so they are eliminated. On the defensive side, *oppPO* and *oppAssist* are certainly not independent of each other or variables such as *k* and *ab*, so they are also eliminated.\n"
      ],
      "metadata": {
        "id": "Z9_qJerPCGZU"
      }
    },
    {
      "cell_type": "code",
      "source": [
        "#plot corr matrix\n",
        "fig0 = plt.figure(figsize=(18,10), tight_layout=False)\n",
        "fig0.suptitle('Correlation Matrix')\n",
        "sns.heatmap(round(df.corr(),2),\n",
        "            cmap=\"YlGnBu\",\n",
        "            xticklabels=True, \n",
        "            yticklabels=True, \n",
        "            annot=True)\n",
        "\n",
        "# initial thoughts\n",
        "# 1. scoring runs is positively correlated to hits and BB (as expected)\n",
        "# 2. score has a weak positive correlation to SACF, SACH, HBP, IBB, SB, and CS\n",
        "# 3. score has a weak negative correlation to K, GIDP, BALK, ERR, & PB\n",
        "# 4. Lots of collinearity"
      ],
      "metadata": {
        "colab": {
          "base_uri": "https://localhost:8080/",
          "height": 752
        },
        "id": "NU27izExCLAU",
        "outputId": "6f900cd5-5edc-407a-9f93-d695c1b3339d"
      },
      "execution_count": null,
      "outputs": [
        {
          "output_type": "execute_result",
          "data": {
            "text/plain": [
              "<matplotlib.axes._subplots.AxesSubplot at 0x7fd850473700>"
            ]
          },
          "metadata": {},
          "execution_count": 7
        },
        {
          "output_type": "display_data",
          "data": {
            "text/plain": [
              "<Figure size 1296x720 with 2 Axes>"
            ],
            "image/png": "[encoded data removed]"
          },
          "metadata": {
            "needs_background": "light"
          }
        }
      ]
    },
    {
      "cell_type": "markdown",
      "source": [
        "### 3.4 Multicollinearity"
      ],
      "metadata": {
        "id": "CK2bLpStENHT"
      }
    },
    {
      "cell_type": "markdown",
      "source": [
        "#### 3.4.1 Variance Inflation Factor and Condition Number\n",
        "\n",
        "Variance inflation factor (VIF) is one method to quantify collinearity among the regressors, with values above 5 indicating a problem and values above 10 indicating a critical level above which p-value and coefficient estimates are unreliable. Removing a variable, linearly combining collinear variables, centering, and using LASSO/Ridge regression/principal component analysis are the most common methods for dealing with collinearity in a data set. \n",
        "\n",
        "The condition number is another measure of collinearity. Values above 10 show moderate collinearity and values above 30 show severe levels of collinearity.\n"
      ],
      "metadata": {
        "id": "dpAZe8yuEQLS"
      }
    },
    {
      "cell_type": "code",
      "source": [
        "# quick check of VIF/cond number on xCols0 and xCols0Cent\n",
        "print('Uncentered Data')\n",
        "_,_ = calcVIFCond(df.loc[ixTr, xCols0])"
      ],
      "metadata": {
        "colab": {
          "base_uri": "https://localhost:8080/"
        },
        "id": "mLVwarbLEWZS",
        "outputId": "2eef3851-27c8-4926-b648-42286af8157b"
      },
      "execution_count": null,
      "outputs": [
        {
          "output_type": "stream",
          "name": "stdout",
          "text": [
            "Uncentered Data\n",
            "VIF\n",
            "\t ab                    24.49115968182998\n",
            "\t 1b                    10.035173061181965\n",
            "\t 2b                    2.7483169442419864\n",
            "\t 3b                    1.2839230214190982\n",
            "\t 4b                    1.8337238278611363\n",
            "\t sach                  1.5265351422971138\n",
            "\t sacf                  1.2628139475857618\n",
            "\t hbp                   1.2533108254049292\n",
            "\t bb                    4.145679757466919\n",
            "\t ibb                   1.440379198142936\n",
            "\t k                     5.171316418104258\n",
            "\t sb                    1.4897152484597405\n",
            "\t cs                    1.296187433006954\n",
            "\t gidp                  1.832643711868771\n",
            "\t ci                    1.009855178604578\n",
            "\t oppWP                 1.3181351149959148\n",
            "\t oppBalk               1.0409301949875334\n",
            "\t oppERR                1.862519492294548\n",
            "\t oppPB                 1.0844501649215423\n",
            "\t oppTP                 1.0014836021205764\n",
            "\n",
            "Condition Number: 1091.684904331401\n",
            "\n"
          ]
        }
      ]
    },
    {
      "cell_type": "markdown",
      "source": [
        "The VIF and the condition number indicate potential problems, but they do not indicate which combinations of variables are the cause. To help identify those variables, we will calculate the VIF and condition number for two and three variable combinations and look for a pattern amongst the highest figures."
      ],
      "metadata": {
        "id": "-wsBDQvR4O7H"
      }
    },
    {
      "cell_type": "code",
      "source": [
        "# check 2 and 3 feature combos for high VIF/cond number\n",
        "resVC = {}\n",
        "k = 0\n",
        "\n",
        "print('Working...')\n",
        "for n in range(2,4,1):\n",
        "    for c in itertools.combinations(xCols0,n):\n",
        "        v,cN = calcVIFCond(df.loc[ixTr, c], verbose=False)\n",
        "        resVC[k] = {'VIF':v,\n",
        "                    'Cond_Num':cN}\n",
        "        k += 1\n",
        "print('Done\\n\\n')\n",
        "\n",
        "for k in resVC.keys():\n",
        "    if resVC[k]['Cond_Num']>78:\n",
        "        print(json.dumps(resVC[k], indent=4))"
      ],
      "metadata": {
        "colab": {
          "base_uri": "https://localhost:8080/"
        },
        "id": "uylGZrqM4jin",
        "outputId": "73138d26-6eaf-4e56-92c3-f21de31b3bfa"
      },
      "execution_count": null,
      "outputs": [
        {
          "output_type": "stream",
          "name": "stdout",
          "text": [
            "Working...\n",
            "Done\n",
            "\n",
            "\n",
            "{\n",
            "    \"VIF\": {\n",
            "        \"ab\": 1.0040115536000211,\n",
            "        \"ci\": 1.004011553600019\n",
            "    },\n",
            "    \"Cond_Num\": 504.54654164461635\n",
            "}\n",
            "{\n",
            "    \"VIF\": {\n",
            "        \"ab\": 1.0360855107561948,\n",
            "        \"oppBalk\": 1.0360855107561822\n",
            "    },\n",
            "    \"Cond_Num\": 166.88439107578287\n",
            "}\n",
            "{\n",
            "    \"VIF\": {\n",
            "        \"ab\": 1.0740548115883541,\n",
            "        \"oppPB\": 1.07405481158836\n",
            "    },\n",
            "    \"Cond_Num\": 116.36000970827797\n",
            "}\n",
            "{\n",
            "    \"VIF\": {\n",
            "        \"ab\": 1.0009833760261073,\n",
            "        \"oppTP\": 1.0009833760261162\n",
            "    },\n",
            "    \"Cond_Num\": 1052.4751631400477\n",
            "}\n",
            "{\n",
            "    \"VIF\": {\n",
            "        \"1b\": 1.0033875613476755,\n",
            "        \"ci\": 1.0033875613476848\n",
            "    },\n",
            "    \"Cond_Num\": 100.74231548382723\n",
            "}\n",
            "{\n",
            "    \"VIF\": {\n",
            "        \"1b\": 1.0011897735160504,\n",
            "        \"oppTP\": 1.0011897735160458\n",
            "    },\n",
            "    \"Cond_Num\": 210.2336317420002\n",
            "}\n",
            "{\n",
            "    \"VIF\": {\n",
            "        \"bb\": 1.0009388487342579,\n",
            "        \"oppTP\": 1.000938848734268\n",
            "    },\n",
            "    \"Cond_Num\": 124.56216403408058\n",
            "}\n",
            "{\n",
            "    \"VIF\": {\n",
            "        \"k\": 1.0036809803325144,\n",
            "        \"ci\": 1.0036809803325244\n",
            "    },\n",
            "    \"Cond_Num\": 91.25215216507702\n",
            "}\n",
            "{\n",
            "    \"VIF\": {\n",
            "        \"k\": 1.0005842423746423,\n",
            "        \"oppTP\": 1.0005842423746394\n",
            "    },\n",
            "    \"Cond_Num\": 190.3436814710079\n",
            "}\n",
            "{\n",
            "    \"VIF\": {\n",
            "        \"ab\": 8.269255798086677,\n",
            "        \"1b\": 8.264116463253151,\n",
            "        \"ci\": 1.0040227255149388\n",
            "    },\n",
            "    \"Cond_Num\": 513.3599398704702\n",
            "}\n",
            "{\n",
            "    \"VIF\": {\n",
            "        \"ab\": 8.280086065223115,\n",
            "        \"1b\": 8.268580126808112,\n",
            "        \"oppBalk\": 1.036656662439565\n",
            "    },\n",
            "    \"Cond_Num\": 169.84565575434092\n",
            "}\n",
            "{\n",
            "    \"VIF\": {\n",
            "        \"ab\": 8.293194018577767,\n",
            "        \"1b\": 8.275752480351338,\n",
            "        \"oppPB\": 1.075579067236927\n",
            "    },\n",
            "    \"Cond_Num\": 118.47699637361175\n",
            "}\n",
            "{\n",
            "    \"VIF\": {\n",
            "        \"ab\": 8.264089672646467,\n",
            "        \"1b\": 8.265793684327354,\n",
            "        \"oppTP\": 1.0011976683398582\n",
            "    },\n",
            "    \"Cond_Num\": 1070.9684310277498\n",
            "}\n",
            "{\n",
            "    \"VIF\": {\n",
            "        \"ab\": 2.606566011476074,\n",
            "        \"2b\": 2.602745943304984,\n",
            "        \"ci\": 1.0040129641957276\n",
            "    },\n",
            "    \"Cond_Num\": 505.13021352430644\n",
            "}\n",
            "{\n",
            "    \"VIF\": {\n",
            "        \"ab\": 2.635148897627008,\n",
            "        \"2b\": 2.60290303937888,\n",
            "        \"oppBalk\": 1.0361495023662373\n",
            "    },\n",
            "    \"Cond_Num\": 167.08260919755156\n",
            "}\n",
            "{\n",
            "    \"VIF\": {\n",
            "        \"ab\": 2.66371282431608,\n",
            "        \"2b\": 2.6037786430229044,\n",
            "        \"oppPB\": 1.0744824773062924\n",
            "    },\n",
            "    \"Cond_Num\": 116.51891868821662\n",
            "}\n",
            "{\n",
            "    \"VIF\": {\n",
            "        \"ab\": 2.603755129948663,\n",
            "        \"2b\": 2.602742639765913,\n",
            "        \"oppTP\": 1.0009835118659562\n",
            "    },\n",
            "    \"Cond_Num\": 1053.6920221017226\n",
            "}\n",
            "{\n",
            "    \"VIF\": {\n",
            "        \"ab\": 1.2563142948770485,\n",
            "        \"3b\": 1.2518511940998618,\n",
            "        \"ci\": 1.0040781280510278\n",
            "    },\n",
            "    \"Cond_Num\": 504.57952297648546\n",
            "}\n",
            "{\n",
            "    \"VIF\": {\n",
            "        \"ab\": 1.2875468596828115,\n",
            "        \"3b\": 1.2517714502462418,\n",
            "        \"oppBalk\": 1.0360882081864635\n",
            "    },\n",
            "    \"Cond_Num\": 166.88993142309155\n",
            "}\n",
            "{\n",
            "    \"VIF\": {\n",
            "        \"ab\": 1.3238813007483463,\n",
            "        \"3b\": 1.2518325661189307,\n",
            "        \"oppPB\": 1.074110047130599\n",
            "    },\n",
            "    \"Cond_Num\": 116.36791991946498\n",
            "}\n",
            "{\n",
            "    \"VIF\": {\n",
            "        \"ab\": 1.2527007940174248,\n",
            "        \"3b\": 1.2517715370420843,\n",
            "        \"oppTP\": 1.0009860514753828\n",
            "    },\n",
            "    \"Cond_Num\": 1052.509924270571\n",
            "}\n",
            "{\n",
            "    \"VIF\": {\n",
            "        \"ab\": 1.7755204883518472,\n",
            "        \"4b\": 1.7722917387143602,\n",
            "        \"ci\": 1.0040557923508049\n",
            "    },\n",
            "    \"Cond_Num\": 504.7216819924448\n",
            "}\n",
            "{\n",
            "    \"VIF\": {\n",
            "        \"ab\": 1.8097091362573021,\n",
            "        \"4b\": 1.772244629395265,\n",
            "        \"oppBalk\": 1.0361036213281056\n",
            "    },\n",
            "    \"Cond_Num\": 166.94015431464388\n",
            "}\n",
            "{\n",
            "    \"VIF\": {\n",
            "        \"ab\": 1.8489286617338283,\n",
            "        \"4b\": 1.7722674233801474,\n",
            "        \"oppPB\": 1.074087400211547\n",
            "    },\n",
            "    \"Cond_Num\": 116.39977304773201\n",
            "}\n",
            "{\n",
            "    \"VIF\": {\n",
            "        \"ab\": 1.7733352542043594,\n",
            "        \"4b\": 1.7722240774136189,\n",
            "        \"oppTP\": 1.0009892648300338\n",
            "    },\n",
            "    \"Cond_Num\": 1052.8203013496748\n",
            "}\n",
            "{\n",
            "    \"VIF\": {\n",
            "        \"ab\": 1.3753997375671194,\n",
            "        \"sach\": 1.3709790667967945,\n",
            "        \"ci\": 1.0040444732251614\n",
            "    },\n",
            "    \"Cond_Num\": 504.6009440869746\n",
            "}\n",
            "{\n",
            "    \"VIF\": {\n",
            "        \"ab\": 1.4064175351723194,\n",
            "        \"sach\": 1.3709434846109836,\n",
            "        \"oppBalk\": 1.0360925907350658\n",
            "    },\n",
            "    \"Cond_Num\": 166.90024015233408\n",
            "}\n",
            "{\n",
            "    \"VIF\": {\n",
            "        \"ab\": 1.4376415557393676,\n",
            "        \"sach\": 1.3716506075603951,\n",
            "        \"oppPB\": 1.0746161446844757\n",
            "    },\n",
            "    \"Cond_Num\": 116.4063699340589\n",
            "}\n",
            "{\n",
            "    \"VIF\": {\n",
            "        \"ab\": 1.3717797677562487,\n",
            "        \"sach\": 1.3709533117494823,\n",
            "        \"oppTP\": 1.0009973913936174\n",
            "    },\n",
            "    \"Cond_Num\": 1052.5786323882564\n",
            "}\n",
            "{\n",
            "    \"VIF\": {\n",
            "        \"ab\": 1.2007731163506228,\n",
            "        \"sacf\": 1.1976308906856625,\n",
            "        \"ci\": 1.0041715536003704\n",
            "    },\n",
            "    \"Cond_Num\": 504.5978818075676\n",
            "}\n",
            "{\n",
            "    \"VIF\": {\n",
            "        \"ab\": 1.2291530315614918,\n",
            "        \"sacf\": 1.1983060218381039,\n",
            "        \"oppBalk\": 1.0368347795934039\n",
            "    },\n",
            "    \"Cond_Num\": 166.9607155106654\n",
            "}\n",
            "{\n",
            "    \"VIF\": {\n",
            "        \"ab\": 1.2647903806572902,\n",
            "        \"sacf\": 1.1984216947225352,\n",
            "        \"oppPB\": 1.0749352926412754\n",
            "    },\n",
            "    \"Cond_Num\": 116.43625701937985\n",
            "}\n",
            "{\n",
            "    \"VIF\": {\n",
            "        \"ab\": 1.1985042532013086,\n",
            "        \"sacf\": 1.1974497391638408,\n",
            "        \"oppTP\": 1.0009914623576426\n",
            "    },\n",
            "    \"Cond_Num\": 1052.5010554081066\n",
            "}\n",
            "{\n",
            "    \"VIF\": {\n",
            "        \"ab\": 1.234021775363694,\n",
            "        \"hbp\": 1.2301325785997448,\n",
            "        \"ci\": 1.0040153757679142\n",
            "    },\n",
            "    \"Cond_Num\": 504.5613222026526\n",
            "}\n",
            "{\n",
            "    \"VIF\": {\n",
            "        \"ab\": 1.2646652898000408,\n",
            "        \"hbp\": 1.2302189174464502,\n",
            "        \"oppBalk\": 1.0361621746422143\n",
            "    },\n",
            "    \"Cond_Num\": 166.8962241895563\n",
            "}\n",
            "{\n",
            "    \"VIF\": {\n",
            "        \"ab\": 1.2992874268912948,\n",
            "        \"hbp\": 1.2305801500312268,\n",
            "        \"oppPB\": 1.0744496859888357\n",
            "    },\n",
            "    \"Cond_Num\": 116.39418780360266\n",
            "}\n",
            "{\n",
            "    \"VIF\": {\n",
            "        \"ab\": 1.2310280342194955,\n",
            "        \"hbp\": 1.2301377337453907,\n",
            "        \"oppTP\": 1.000991381526715\n",
            "    },\n",
            "    \"Cond_Num\": 1052.5081830922286\n",
            "}\n",
            "{\n",
            "    \"VIF\": {\n",
            "        \"ab\": 3.4218429719359595,\n",
            "        \"bb\": 3.4194157270224768,\n",
            "        \"ci\": 1.004071673420204\n",
            "    },\n",
            "    \"Cond_Num\": 507.06597440902874\n",
            "}\n",
            "{\n",
            "    \"VIF\": {\n",
            "        \"ab\": 3.434302510268311,\n",
            "        \"bb\": 3.4256109722406234,\n",
            "        \"oppBalk\": 1.0380248274692032\n",
            "    },\n",
            "    \"Cond_Num\": 167.87090458589245\n",
            "}\n",
            "{\n",
            "    \"VIF\": {\n",
            "        \"ab\": 3.4421076625032625,\n",
            "        \"bb\": 3.4401250379677055,\n",
            "        \"oppPB\": 1.0806244085611825\n",
            "    },\n",
            "    \"Cond_Num\": 117.30094919027466\n",
            "}\n",
            "{\n",
            "    \"VIF\": {\n",
            "        \"ab\": 3.4195756578146406,\n",
            "        \"bb\": 3.419423542957471,\n",
            "        \"oppTP\": 1.0010456026565546\n",
            "    },\n",
            "    \"Cond_Num\": 1057.7318436784544\n",
            "}\n",
            "{\n",
            "    \"VIF\": {\n",
            "        \"ab\": 1.2572982934309638,\n",
            "        \"ibb\": 1.2532480102150416,\n",
            "        \"ci\": 1.0040119314088365\n",
            "    },\n",
            "    \"Cond_Num\": 504.56670535453674\n",
            "}\n",
            "{\n",
            "    \"VIF\": {\n",
            "        \"ab\": 1.283234038060108,\n",
            "        \"ibb\": 1.254661421545435,\n",
            "        \"oppBalk\": 1.0372543968453007\n",
            "    },\n",
            "    \"Cond_Num\": 166.9972677799054\n",
            "}\n",
            "{\n",
            "    \"VIF\": {\n",
            "        \"ab\": 1.3190827377261651,\n",
            "        \"ibb\": 1.2544640016584334,\n",
            "        \"oppPB\": 1.0750973414481486\n",
            "    },\n",
            "    \"Cond_Num\": 116.43840414584862\n",
            "}\n",
            "{\n",
            "    \"VIF\": {\n",
            "        \"ab\": 1.254352599305615,\n",
            "        \"ibb\": 1.2532650927675875,\n",
            "        \"oppTP\": 1.0009973967287205\n",
            "    },\n",
            "    \"Cond_Num\": 1052.5244162118486\n",
            "}\n",
            "{\n",
            "    \"VIF\": {\n",
            "        \"ab\": 4.358690336892105,\n",
            "        \"k\": 4.3572552274040435,\n",
            "        \"ci\": 1.0041247258307644\n",
            "    },\n",
            "    \"Cond_Num\": 510.9420660301498\n",
            "}\n",
            "{\n",
            "    \"VIF\": {\n",
            "        \"ab\": 4.384787953448931,\n",
            "        \"k\": 4.357425474942206,\n",
            "        \"oppBalk\": 1.0362427850661136\n",
            "    },\n",
            "    \"Cond_Num\": 169.00311382674624\n",
            "}\n",
            "{\n",
            "    \"VIF\": {\n",
            "        \"ab\": 4.423742118489982,\n",
            "        \"k\": 4.356994973992721,\n",
            "        \"oppPB\": 1.0741117199151997\n",
            "    },\n",
            "    \"Cond_Num\": 117.83143444070495\n",
            "}\n",
            "{\n",
            "    \"VIF\": {\n",
            "        \"ab\": 4.358715132386453,\n",
            "        \"k\": 4.3569771316082315,\n",
            "        \"oppTP\": 1.0010323133380366\n",
            "    },\n",
            "    \"Cond_Num\": 1065.7820779344215\n",
            "}\n",
            "{\n",
            "    \"VIF\": {\n",
            "        \"ab\": 1.401850075611632,\n",
            "        \"sb\": 1.398407400458586,\n",
            "        \"ci\": 1.004054977566106\n",
            "    },\n",
            "    \"Cond_Num\": 504.62837171119315\n",
            "}\n",
            "{\n",
            "    \"VIF\": {\n",
            "        \"ab\": 1.4253198797228896,\n",
            "        \"sb\": 1.4006993751528507,\n",
            "        \"oppBalk\": 1.0378285283934447\n",
            "    },\n",
            "    \"Cond_Num\": 167.0556662729099\n",
            "}\n",
            "{\n",
            "    \"VIF\": {\n",
            "        \"ab\": 1.4623246376294914,\n",
            "        \"sb\": 1.3996571348035345,\n",
            "        \"oppPB\": 1.075061172092471\n",
            "    },\n",
            "    \"Cond_Num\": 116.43719014051499\n",
            "}\n",
            "{\n",
            "    \"VIF\": {\n",
            "        \"ab\": 1.3993450391368771,\n",
            "        \"sb\": 1.3983471138044221,\n",
            "        \"oppTP\": 1.0009835138238345\n",
            "    },\n",
            "    \"Cond_Num\": 1052.6230422464455\n",
            "}\n",
            "{\n",
            "    \"VIF\": {\n",
            "        \"ab\": 1.263697454827469,\n",
            "        \"cs\": 1.2599288780402376,\n",
            "        \"ci\": 1.0040243226259151\n",
            "    },\n",
            "    \"Cond_Num\": 504.5666799359182\n",
            "}\n",
            "{\n",
            "    \"VIF\": {\n",
            "        \"ab\": 1.2928531669391312,\n",
            "        \"cs\": 1.2602625521598532,\n",
            "        \"oppBalk\": 1.0363730835980922\n",
            "    },\n",
            "    \"Cond_Num\": 166.91687674190024\n",
            "}\n",
            "{\n",
            "    \"VIF\": {\n",
            "        \"ab\": 1.3331875721022948,\n",
            "        \"cs\": 1.259922880836407,\n",
            "        \"oppPB\": 1.0740633589080886\n",
            "    },\n",
            "    \"Cond_Num\": 116.3645473207335\n",
            "}\n",
            "{\n",
            "    \"VIF\": {\n",
            "        \"ab\": 1.2608760625498832,\n",
            "        \"cs\": 1.259913360938401,\n",
            "        \"oppTP\": 1.0009837784163584\n",
            "    },\n",
            "    \"Cond_Num\": 1052.510587395317\n",
            "}\n",
            "{\n",
            "    \"VIF\": {\n",
            "        \"ab\": 1.73636670828842,\n",
            "        \"gidp\": 1.7338673630513828,\n",
            "        \"ci\": 1.0041684822539434\n",
            "    },\n",
            "    \"Cond_Num\": 504.70455252052153\n",
            "}\n",
            "{\n",
            "    \"VIF\": {\n",
            "        \"ab\": 1.7715629636262922,\n",
            "        \"gidp\": 1.733652794903198,\n",
            "        \"oppBalk\": 1.0361192157676462\n",
            "    },\n",
            "    \"Cond_Num\": 166.92641259904653\n",
            "}\n",
            "{\n",
            "    \"VIF\": {\n",
            "        \"ab\": 1.812181319500378,\n",
            "        \"gidp\": 1.7337548111173868,\n",
            "        \"oppPB\": 1.0741529562325796\n",
            "    },\n",
            "    \"Cond_Num\": 116.39333346768973\n",
            "}\n",
            "{\n",
            "    \"VIF\": {\n",
            "        \"ab\": 1.7344066192959902,\n",
            "        \"gidp\": 1.733616199742178,\n",
            "        \"oppTP\": 1.0009948089785394\n",
            "    },\n",
            "    \"Cond_Num\": 1052.7280172942853\n",
            "}\n",
            "{\n",
            "    \"VIF\": {\n",
            "        \"ab\": 1.262575716811518,\n",
            "        \"ci\": 1.0040800467523234,\n",
            "        \"oppWP\": 1.2591646723512522\n",
            "    },\n",
            "    \"Cond_Num\": 504.5825218908757\n",
            "}\n",
            "{\n",
            "    \"VIF\": {\n",
            "        \"ab\": 1.0399769193694266,\n",
            "        \"ci\": 1.004037007348409,\n",
            "        \"oppBalk\": 1.0361117776450508\n",
            "    },\n",
            "    \"Cond_Num\": 504.5540496392206\n",
            "}\n",
            "{\n",
            "    \"VIF\": {\n",
            "        \"ab\": 1.756093254061895,\n",
            "        \"ci\": 1.008704607695556,\n",
            "        \"oppERR\": 1.7642853994891057\n",
            "    },\n",
            "    \"Cond_Num\": 505.8830997555408\n",
            "}\n",
            "{\n",
            "    \"VIF\": {\n",
            "        \"ab\": 1.0778933959306098,\n",
            "        \"ci\": 1.0040374227369295,\n",
            "        \"oppPB\": 1.0740824854441624\n",
            "    },\n",
            "    \"Cond_Num\": 504.55478650192185\n",
            "}\n",
            "{\n",
            "    \"VIF\": {\n",
            "        \"ab\": 1.0050028390929322,\n",
            "        \"ci\": 1.00401551430633,\n",
            "        \"oppTP\": 1.0009873247866068\n",
            "    },\n",
            "    \"Cond_Num\": 1052.4778668184342\n",
            "}\n",
            "{\n",
            "    \"VIF\": {\n",
            "        \"ab\": 1.2921458753214123,\n",
            "        \"oppWP\": 1.2594009921375382,\n",
            "        \"oppBalk\": 1.0363506575744679\n",
            "    },\n",
            "    \"Cond_Num\": 166.91495989854326\n",
            "}\n",
            "{\n",
            "    \"VIF\": {\n",
            "        \"ab\": 1.323693509516748,\n",
            "        \"oppWP\": 1.2606723177147083,\n",
            "        \"oppPB\": 1.07541417713043\n",
            "    },\n",
            "    \"Cond_Num\": 116.46376068734492\n",
            "}\n",
            "{\n",
            "    \"VIF\": {\n",
            "        \"ab\": 1.260100123514348,\n",
            "        \"oppWP\": 1.2590805260720985,\n",
            "        \"oppTP\": 1.0009847652533779\n",
            "    },\n",
            "    \"Cond_Num\": 1052.5145461616362\n",
            "}\n",
            "{\n",
            "    \"VIF\": {\n",
            "        \"ab\": 1.790382728899302,\n",
            "        \"oppBalk\": 1.0361163841362175,\n",
            "        \"oppERR\": 1.7561292916386682\n",
            "    },\n",
            "    \"Cond_Num\": 166.93745296695786\n",
            "}\n",
            "{\n",
            "    \"VIF\": {\n",
            "        \"ab\": 1.1096211468604076,\n",
            "        \"oppBalk\": 1.0361119196918345,\n",
            "        \"oppPB\": 1.074082188329085\n",
            "    },\n",
            "    \"Cond_Num\": 166.88898344498247\n",
            "}\n",
            "{\n",
            "    \"VIF\": {\n",
            "        \"ab\": 1.0370515735519483,\n",
            "        \"oppBalk\": 1.0360877187232163,\n",
            "        \"oppTP\": 1.0009855091881497\n",
            "    },\n",
            "    \"Cond_Num\": 1052.476995369306\n",
            "}\n",
            "{\n",
            "    \"VIF\": {\n",
            "        \"ab\": 1.821213989538365,\n",
            "        \"oppERR\": 1.7567452300176174,\n",
            "        \"oppPB\": 1.0744635376716036\n",
            "    },\n",
            "    \"Cond_Num\": 116.4195516424507\n",
            "}\n",
            "{\n",
            "    \"VIF\": {\n",
            "        \"ab\": 1.7565368966346346,\n",
            "        \"oppERR\": 1.7563052857118229,\n",
            "        \"oppTP\": 1.001113522005846\n",
            "    },\n",
            "    \"Cond_Num\": 1052.8619323179662\n",
            "}\n",
            "{\n",
            "    \"VIF\": {\n",
            "        \"ab\": 1.0750426224540368,\n",
            "        \"oppPB\": 1.074054883941717,\n",
            "        \"oppTP\": 1.0009834434570333\n",
            "    },\n",
            "    \"Cond_Num\": 1052.478077515161\n",
            "}\n",
            "{\n",
            "    \"VIF\": {\n",
            "        \"1b\": 2.0547008763418892,\n",
            "        \"2b\": 2.0529655135388367,\n",
            "        \"ci\": 1.0035449463770816\n",
            "    },\n",
            "    \"Cond_Num\": 103.25929563213175\n",
            "}\n",
            "{\n",
            "    \"VIF\": {\n",
            "        \"1b\": 2.0538658832906815,\n",
            "        \"2b\": 2.05264397740914,\n",
            "        \"oppTP\": 1.0011899825490862\n",
            "    },\n",
            "    \"Cond_Num\": 215.46928340774335\n",
            "}\n",
            "{\n",
            "    \"VIF\": {\n",
            "        \"1b\": 1.221843131042103,\n",
            "        \"3b\": 1.2182596375268684,\n",
            "        \"ci\": 1.0034026564309517\n",
            "    },\n",
            "    \"Cond_Num\": 100.8147814807635\n",
            "}\n",
            "{\n",
            "    \"VIF\": {\n",
            "        \"1b\": 1.2193983341827765,\n",
            "        \"3b\": 1.2182425858733912,\n",
            "        \"oppTP\": 1.0011908219399133\n",
            "    },\n",
            "    \"Cond_Num\": 210.38335840050505\n",
            "}\n",
            "{\n",
            "    \"VIF\": {\n",
            "        \"1b\": 1.5188712011464423,\n",
            "        \"4b\": 1.5170520096909796,\n",
            "        \"ci\": 1.0036373282045263\n",
            "    },\n",
            "    \"Cond_Num\": 101.41002992676043\n",
            "}\n",
            "{\n",
            "    \"VIF\": {\n",
            "        \"1b\": 1.5179419590986298,\n",
            "        \"4b\": 1.5166780814383536,\n",
            "        \"oppTP\": 1.0011921551275431\n",
            "    },\n",
            "    \"Cond_Num\": 211.60087286769848\n",
            "}\n",
            "{\n",
            "    \"VIF\": {\n",
            "        \"1b\": 1.4105284296612122,\n",
            "        \"sach\": 1.406869219719994,\n",
            "        \"ci\": 1.003402499199445\n",
            "    },\n",
            "    \"Cond_Num\": 100.9920600497479\n",
            "}\n",
            "{\n",
            "    \"VIF\": {\n",
            "        \"1b\": 1.4079884564405514,\n",
            "        \"sach\": 1.4068501007223075,\n",
            "        \"oppTP\": 1.0011910725294582\n",
            "    },\n",
            "    \"Cond_Num\": 210.75336227472326\n",
            "}\n",
            "{\n",
            "    \"VIF\": {\n",
            "        \"1b\": 1.207529078830196,\n",
            "        \"sacf\": 1.2051181537414932,\n",
            "        \"ci\": 1.0035996128911335\n",
            "    },\n",
            "    \"Cond_Num\": 100.80692273924983\n",
            "}\n",
            "{\n",
            "    \"VIF\": {\n",
            "        \"1b\": 1.206197483400826,\n",
            "        \"sacf\": 1.2048877589124574,\n",
            "        \"oppTP\": 1.0012099123936196\n",
            "    },\n",
            "    \"Cond_Num\": 210.34793361835762\n",
            "}\n",
            "{\n",
            "    \"VIF\": {\n",
            "        \"1b\": 1.1981520461365935,\n",
            "        \"hbp\": 1.1951186631175104,\n",
            "        \"ci\": 1.0034255678653616\n",
            "    },\n",
            "    \"Cond_Num\": 100.80487952595168\n",
            "}\n",
            "{\n",
            "    \"VIF\": {\n",
            "        \"1b\": 1.1961917025981712,\n",
            "        \"hbp\": 1.1950801771273065,\n",
            "        \"oppTP\": 1.0011954545985924\n",
            "    },\n",
            "    \"Cond_Num\": 210.36074632431618\n",
            "}\n",
            "{\n",
            "    \"VIF\": {\n",
            "        \"1b\": 2.6623345329596653,\n",
            "        \"bb\": 2.6621005296305618,\n",
            "        \"ci\": 1.0037382325938724\n",
            "    },\n",
            "    \"Cond_Num\": 112.4351049817654\n",
            "}\n",
            "{\n",
            "    \"VIF\": {\n",
            "        \"1b\": 2.6619191249794256,\n",
            "        \"bb\": 2.6612519772585346,\n",
            "        \"oppTP\": 1.0012204329461785\n",
            "    },\n",
            "    \"Cond_Num\": 234.59727612627822\n",
            "}\n",
            "{\n",
            "    \"VIF\": {\n",
            "        \"1b\": 1.2434212672528222,\n",
            "        \"ibb\": 1.2401864624771757,\n",
            "        \"ci\": 1.0033941521833074\n",
            "    },\n",
            "    \"Cond_Num\": 100.83960723253429\n",
            "}\n",
            "{\n",
            "    \"VIF\": {\n",
            "        \"1b\": 1.2415405544495897,\n",
            "        \"ibb\": 1.240208431345187,\n",
            "        \"oppTP\": 1.001214085272964\n",
            "    },\n",
            "    \"Cond_Num\": 210.4385290171385\n",
            "}\n",
            "{\n",
            "    \"VIF\": {\n",
            "        \"1b\": 2.5085100451959907,\n",
            "        \"k\": 2.5092436046891122,\n",
            "        \"ci\": 1.0039949711490495\n",
            "    },\n",
            "    \"Cond_Num\": 128.18715655458158\n",
            "}\n",
            "{\n",
            "    \"VIF\": {\n",
            "        \"1b\": 2.5092846221706937,\n",
            "        \"k\": 2.50776697784234,\n",
            "        \"oppTP\": 1.0012063211652102\n",
            "    },\n",
            "    \"Cond_Num\": 267.4280703065347\n",
            "}\n",
            "{\n",
            "    \"VIF\": {\n",
            "        \"1b\": 1.3894729567451367,\n",
            "        \"sb\": 1.3869226485681099,\n",
            "        \"ci\": 1.0034908751873213\n",
            "    },\n",
            "    \"Cond_Num\": 101.10018216146379\n",
            "}\n",
            "{\n",
            "    \"VIF\": {\n",
            "        \"1b\": 1.3880618555959012,\n",
            "        \"sb\": 1.3867860287629439,\n",
            "        \"oppTP\": 1.0011942279926325\n",
            "    },\n",
            "    \"Cond_Num\": 210.97000025731253\n",
            "}\n",
            "{\n",
            "    \"VIF\": {\n",
            "        \"1b\": 1.2651600429998118,\n",
            "        \"cs\": 1.2621715429544036,\n",
            "        \"ci\": 1.0034246293107192\n",
            "    },\n",
            "    \"Cond_Num\": 100.82975709704304\n",
            "}\n",
            "{\n",
            "    \"VIF\": {\n",
            "        \"1b\": 1.2633510704980573,\n",
            "        \"cs\": 1.2621262354038891,\n",
            "        \"oppTP\": 1.0011908197425263\n",
            "    },\n",
            "    \"Cond_Num\": 210.41227606222634\n",
            "}\n",
            "{\n",
            "    \"VIF\": {\n",
            "        \"1b\": 1.7103872074726658,\n",
            "        \"gidp\": 1.7089873914971787,\n",
            "        \"ci\": 1.0036863374472307\n",
            "    },\n",
            "    \"Cond_Num\": 101.3453321803979\n",
            "}\n",
            "{\n",
            "    \"VIF\": {\n",
            "        \"1b\": 1.7096117310624592,\n",
            "        \"gidp\": 1.7084803316318593,\n",
            "        \"oppTP\": 1.001190751790021\n",
            "    },\n",
            "    \"Cond_Num\": 211.4604806073265\n",
            "}\n",
            "{\n",
            "    \"VIF\": {\n",
            "        \"1b\": 1.2480981013312098,\n",
            "        \"ci\": 1.0035187735995195,\n",
            "        \"oppWP\": 1.2455002476509611\n",
            "    },\n",
            "    \"Cond_Num\": 100.83836361237172\n",
            "}\n",
            "{\n",
            "    \"VIF\": {\n",
            "        \"1b\": 1.0379001199912186,\n",
            "        \"ci\": 1.003426331627887,\n",
            "        \"oppBalk\": 1.0346857530655065\n",
            "    },\n",
            "    \"Cond_Num\": 100.74607429955532\n",
            "}\n",
            "{\n",
            "    \"VIF\": {\n",
            "        \"1b\": 1.7030177139252853,\n",
            "        \"ci\": 1.0086994066453001,\n",
            "        \"oppERR\": 1.7120262856061919\n",
            "    },\n",
            "    \"Cond_Num\": 101.75599893031871\n",
            "}\n",
            "{\n",
            "    \"VIF\": {\n",
            "        \"1b\": 1.0749783209602997,\n",
            "        \"ci\": 1.0034324187030172,\n",
            "        \"oppPB\": 1.0718438667433818\n",
            "    },\n",
            "    \"Cond_Num\": 100.75141466093746\n",
            "}\n",
            "{\n",
            "    \"VIF\": {\n",
            "        \"1b\": 1.0045854142064714,\n",
            "        \"ci\": 1.003391605448077,\n",
            "        \"oppTP\": 1.0011938087583945\n",
            "    },\n",
            "    \"Cond_Num\": 210.23421680576809\n",
            "}\n",
            "{\n",
            "    \"VIF\": {\n",
            "        \"1b\": 1.2466099203449823,\n",
            "        \"oppWP\": 1.2453444549111157,\n",
            "        \"oppTP\": 1.0011954486947676\n",
            "    },\n",
            "    \"Cond_Num\": 210.42072524984724\n",
            "}\n",
            "{\n",
            "    \"VIF\": {\n",
            "        \"1b\": 1.0358228448384796,\n",
            "        \"oppBalk\": 1.034646793303898,\n",
            "        \"oppTP\": 1.0011907589048643\n",
            "    },\n",
            "    \"Cond_Num\": 210.23702327158693\n",
            "}\n",
            "{\n",
            "    \"VIF\": {\n",
            "        \"1b\": 1.7037295347638142,\n",
            "        \"oppERR\": 1.7031537055318737,\n",
            "        \"oppTP\": 1.0012738473140876\n",
            "    },\n",
            "    \"Cond_Num\": 211.79543877738206\n",
            "}\n",
            "{\n",
            "    \"VIF\": {\n",
            "        \"1b\": 1.073003836402768,\n",
            "        \"oppPB\": 1.0717969722270697,\n",
            "        \"oppTP\": 1.001190727348133\n",
            "    },\n",
            "    \"Cond_Num\": 210.24776081041392\n",
            "}\n",
            "{\n",
            "    \"VIF\": {\n",
            "        \"2b\": 1.860421026541059,\n",
            "        \"bb\": 1.8610619566507833,\n",
            "        \"oppTP\": 1.0009622082128244\n",
            "    },\n",
            "    \"Cond_Num\": 133.0987959044027\n",
            "}\n",
            "{\n",
            "    \"VIF\": {\n",
            "        \"2b\": 1.7980604488036132,\n",
            "        \"k\": 1.8001065898045134,\n",
            "        \"ci\": 1.0038619073483872\n",
            "    },\n",
            "    \"Cond_Num\": 93.69890146809891\n",
            "}\n",
            "{\n",
            "    \"VIF\": {\n",
            "        \"2b\": 1.7979576275768032,\n",
            "        \"k\": 1.797939849907325,\n",
            "        \"oppTP\": 1.000707382916145\n",
            "    },\n",
            "    \"Cond_Num\": 195.441777061215\n",
            "}\n",
            "{\n",
            "    \"VIF\": {\n",
            "        \"3b\": 1.1724854733581112,\n",
            "        \"bb\": 1.1733036770149656,\n",
            "        \"oppTP\": 1.000955554399965\n",
            "    },\n",
            "    \"Cond_Num\": 124.77307151185256\n",
            "}\n",
            "{\n",
            "    \"VIF\": {\n",
            "        \"3b\": 1.1348591519884395,\n",
            "        \"k\": 1.1385301653370103,\n",
            "        \"ci\": 1.0036810300498373\n",
            "    },\n",
            "    \"Cond_Num\": 91.30478320212625\n",
            "}\n",
            "{\n",
            "    \"VIF\": {\n",
            "        \"3b\": 1.1349256699060224,\n",
            "        \"k\": 1.13531530798955,\n",
            "        \"oppTP\": 1.0006429395543142\n",
            "    },\n",
            "    \"Cond_Num\": 190.45906449276657\n",
            "}\n",
            "{\n",
            "    \"VIF\": {\n",
            "        \"4b\": 1.4819723639795468,\n",
            "        \"bb\": 1.4828355894858598,\n",
            "        \"oppTP\": 1.0009417719876204\n",
            "    },\n",
            "    \"Cond_Num\": 126.85702429646476\n",
            "}\n",
            "{\n",
            "    \"VIF\": {\n",
            "        \"4b\": 1.559610553803981,\n",
            "        \"k\": 1.5619374011303617,\n",
            "        \"ci\": 1.003851922154761\n",
            "    },\n",
            "    \"Cond_Num\": 92.0244586660557\n",
            "}\n",
            "{\n",
            "    \"VIF\": {\n",
            "        \"4b\": 1.5593920016672502,\n",
            "        \"k\": 1.5597475494435389,\n",
            "        \"oppTP\": 1.0006144185174268\n",
            "    },\n",
            "    \"Cond_Num\": 191.94114021652797\n",
            "}\n",
            "{\n",
            "    \"VIF\": {\n",
            "        \"sach\": 1.3446716251625854,\n",
            "        \"bb\": 1.3454223858759127,\n",
            "        \"oppTP\": 1.0009603264141036\n",
            "    },\n",
            "    \"Cond_Num\": 125.35785944997207\n",
            "}\n",
            "{\n",
            "    \"VIF\": {\n",
            "        \"sach\": 1.1844428470610324,\n",
            "        \"k\": 1.1878708005694538,\n",
            "        \"ci\": 1.0037010625592726\n",
            "    },\n",
            "    \"Cond_Num\": 91.40198783288957\n",
            "}\n",
            "{\n",
            "    \"VIF\": {\n",
            "        \"sach\": 1.1845584932998467,\n",
            "        \"k\": 1.1847999669302534,\n",
            "        \"oppTP\": 1.000701959308034\n",
            "    },\n",
            "    \"Cond_Num\": 190.66553918514134\n",
            "}\n",
            "{\n",
            "    \"VIF\": {\n",
            "        \"sacf\": 1.1848420337130336,\n",
            "        \"bb\": 1.1858326925941658,\n",
            "        \"oppTP\": 1.0009434334014644\n",
            "    },\n",
            "    \"Cond_Num\": 124.73776602666894\n",
            "}\n",
            "{\n",
            "    \"VIF\": {\n",
            "        \"sacf\": 1.159127579668716,\n",
            "        \"k\": 1.1617861372247094,\n",
            "        \"ci\": 1.0039353300412217\n",
            "    },\n",
            "    \"Cond_Num\": 91.31185054560807\n",
            "}\n",
            "{\n",
            "    \"VIF\": {\n",
            "        \"sacf\": 1.1588357990387375,\n",
            "        \"k\": 1.1593938254682417,\n",
            "        \"oppTP\": 1.0005858720768246\n",
            "    },\n",
            "    \"Cond_Num\": 190.44379253647656\n",
            "}\n",
            "{\n",
            "    \"VIF\": {\n",
            "        \"hbp\": 1.1845205129806353,\n",
            "        \"bb\": 1.1853250686154901,\n",
            "        \"oppTP\": 1.0009580096728692\n",
            "    },\n",
            "    \"Cond_Num\": 124.769332624318\n",
            "}\n",
            "{\n",
            "    \"VIF\": {\n",
            "        \"hbp\": 1.201516338952436,\n",
            "        \"k\": 1.2049182094480249,\n",
            "        \"ci\": 1.003703314581005\n",
            "    },\n",
            "    \"Cond_Num\": 91.32205103221881\n",
            "}\n",
            "{\n",
            "    \"VIF\": {\n",
            "        \"hbp\": 1.2015453053685694,\n",
            "        \"k\": 1.2019354595725986,\n",
            "        \"oppTP\": 1.0006306305518375\n",
            "    },\n",
            "    \"Cond_Num\": 190.49176458810663\n",
            "}\n",
            "{\n",
            "    \"VIF\": {\n",
            "        \"bb\": 1.3889795972631795,\n",
            "        \"ibb\": 1.387837106878559,\n",
            "        \"oppTP\": 1.0009800127201325\n",
            "    },\n",
            "    \"Cond_Num\": 125.0626920761711\n",
            "}\n",
            "{\n",
            "    \"VIF\": {\n",
            "        \"bb\": 2.27315927956726,\n",
            "        \"k\": 2.274023888959744,\n",
            "        \"ci\": 1.004012345010919\n",
            "    },\n",
            "    \"Cond_Num\": 103.29886556032997\n",
            "}\n",
            "{\n",
            "    \"VIF\": {\n",
            "        \"bb\": 2.2732224217696007,\n",
            "        \"k\": 2.272417078737295,\n",
            "        \"oppTP\": 1.000942387360583\n",
            "    },\n",
            "    \"Cond_Num\": 215.47503694389067\n",
            "}\n",
            "{\n",
            "    \"VIF\": {\n",
            "        \"bb\": 1.3766164514681885,\n",
            "        \"sb\": 1.3756959305781291,\n",
            "        \"oppTP\": 1.0009390810502685\n",
            "    },\n",
            "    \"Cond_Num\": 125.81544485071805\n",
            "}\n",
            "{\n",
            "    \"VIF\": {\n",
            "        \"bb\": 1.221523305459051,\n",
            "        \"cs\": 1.220644949005206,\n",
            "        \"oppTP\": 1.0009427221909697\n",
            "    },\n",
            "    \"Cond_Num\": 124.82775649602414\n",
            "}\n",
            "{\n",
            "    \"VIF\": {\n",
            "        \"bb\": 1.531138015389668,\n",
            "        \"gidp\": 1.5305083136918647,\n",
            "        \"oppTP\": 1.000976031157292\n",
            "    },\n",
            "    \"Cond_Num\": 126.34927985724829\n",
            "}\n",
            "{\n",
            "    \"VIF\": {\n",
            "        \"bb\": 1.0042444266642485,\n",
            "        \"ci\": 1.0033024774032508,\n",
            "        \"oppTP\": 1.000941949260981\n",
            "    },\n",
            "    \"Cond_Num\": 124.56247218866454\n",
            "}\n",
            "{\n",
            "    \"VIF\": {\n",
            "        \"bb\": 1.2592176136094677,\n",
            "        \"oppWP\": 1.2582547018744417,\n",
            "        \"oppTP\": 1.0009394779252727\n",
            "    },\n",
            "    \"Cond_Num\": 124.89409871382357\n",
            "}\n",
            "{\n",
            "    \"VIF\": {\n",
            "        \"bb\": 1.0343821419418218,\n",
            "        \"oppBalk\": 1.03346674039913,\n",
            "        \"oppTP\": 1.0009420995354223\n",
            "    },\n",
            "    \"Cond_Num\": 124.56774096849789\n",
            "}\n",
            "{\n",
            "    \"VIF\": {\n",
            "        \"bb\": 1.5004979218397927,\n",
            "        \"oppERR\": 1.5003668129757493,\n",
            "        \"oppTP\": 1.0011370668931043\n",
            "    },\n",
            "    \"Cond_Num\": 126.77930097395917\n",
            "}\n",
            "{\n",
            "    \"VIF\": {\n",
            "        \"bb\": 1.0743755416547092,\n",
            "        \"oppPB\": 1.0734361662986376,\n",
            "        \"oppTP\": 1.0009388497446685\n",
            "    },\n",
            "    \"Cond_Num\": 124.58641901927251\n",
            "}\n",
            "{\n",
            "    \"VIF\": {\n",
            "        \"ibb\": 1.174698344626275,\n",
            "        \"k\": 1.1781067464637576,\n",
            "        \"ci\": 1.0037051046099181\n",
            "    },\n",
            "    \"Cond_Num\": 91.33566415230037\n",
            "}\n",
            "{\n",
            "    \"VIF\": {\n",
            "        \"ibb\": 1.1746729347272529,\n",
            "        \"k\": 1.1752234464792781,\n",
            "        \"oppTP\": 1.0005866480622467\n",
            "    },\n",
            "    \"Cond_Num\": 190.51579555393647\n",
            "}\n",
            "{\n",
            "    \"VIF\": {\n",
            "        \"k\": 1.3214689263586679,\n",
            "        \"sb\": 1.3186578232287962,\n",
            "        \"ci\": 1.0038014485695888\n",
            "    },\n",
            "    \"Cond_Num\": 91.59664155444338\n",
            "}\n",
            "{\n",
            "    \"VIF\": {\n",
            "        \"k\": 1.3189502445417627,\n",
            "        \"sb\": 1.3185354065836592,\n",
            "        \"oppTP\": 1.0006114392579257\n",
            "    },\n",
            "    \"Cond_Num\": 191.05333672024918\n",
            "}\n",
            "{\n",
            "    \"VIF\": {\n",
            "        \"k\": 1.185888226585503,\n",
            "        \"cs\": 1.1827411115517716,\n",
            "        \"ci\": 1.0037587911551413\n",
            "    },\n",
            "    \"Cond_Num\": 91.3261368709369\n",
            "}\n",
            "{\n",
            "    \"VIF\": {\n",
            "        \"k\": 1.1831205511423204,\n",
            "        \"cs\": 1.1826888044195398,\n",
            "        \"oppTP\": 1.0006175585086101\n",
            "    },\n",
            "    \"Cond_Num\": 190.49370234824417\n",
            "}\n",
            "{\n",
            "    \"VIF\": {\n",
            "        \"k\": 1.4000246985071378,\n",
            "        \"gidp\": 1.3984699372970186,\n",
            "        \"ci\": 1.0041521118782282\n",
            "    },\n",
            "    \"Cond_Num\": 91.72311622773609\n",
            "}\n",
            "{\n",
            "    \"VIF\": {\n",
            "        \"k\": 1.3980915374118084,\n",
            "        \"gidp\": 1.3980118318137056,\n",
            "        \"oppTP\": 1.0007259988498982\n",
            "    },\n",
            "    \"Cond_Num\": 191.29453810974638\n",
            "}\n",
            "{\n",
            "    \"VIF\": {\n",
            "        \"k\": 1.2350321069336607,\n",
            "        \"ci\": 1.0037987593625135,\n",
            "        \"oppWP\": 1.2321011481409987\n",
            "    },\n",
            "    \"Cond_Num\": 91.35205411023007\n",
            "}\n",
            "{\n",
            "    \"VIF\": {\n",
            "        \"k\": 1.0331652397391515,\n",
            "        \"ci\": 1.003724288715178,\n",
            "        \"oppBalk\": 1.0296644336054603\n",
            "    },\n",
            "    \"Cond_Num\": 91.25585427421397\n",
            "}\n",
            "{\n",
            "    \"VIF\": {\n",
            "        \"k\": 1.3807140903163024,\n",
            "        \"ci\": 1.0088914683146986,\n",
            "        \"oppERR\": 1.3876119729193142\n",
            "    },\n",
            "    \"Cond_Num\": 92.0458948126819\n",
            "}\n",
            "{\n",
            "    \"VIF\": {\n",
            "        \"k\": 1.0613132765360225,\n",
            "        \"ci\": 1.0037381455785521,\n",
            "        \"oppPB\": 1.0579093045787402\n",
            "    },\n",
            "    \"Cond_Num\": 91.26095609817777\n",
            "}\n",
            "{\n",
            "    \"VIF\": {\n",
            "        \"k\": 1.0042695330585303,\n",
            "        \"ci\": 1.0036831388381107,\n",
            "        \"oppTP\": 1.000586394220407\n",
            "    },\n",
            "    \"Cond_Num\": 190.34398931602533\n",
            "}\n",
            "{\n",
            "    \"VIF\": {\n",
            "        \"k\": 1.2324735233938104,\n",
            "        \"oppWP\": 1.2319675163623804,\n",
            "        \"oppTP\": 1.00059312346251\n",
            "    },\n",
            "    \"Cond_Num\": 190.54158983894834\n",
            "}\n",
            "{\n",
            "    \"VIF\": {\n",
            "        \"k\": 1.0301776720856557,\n",
            "        \"oppBalk\": 1.029630762541958,\n",
            "        \"oppTP\": 1.0005946956106246\n",
            "    },\n",
            "    \"Cond_Num\": 190.34781742192897\n",
            "}\n",
            "{\n",
            "    \"VIF\": {\n",
            "        \"k\": 1.3805950423924291,\n",
            "        \"oppERR\": 1.3809636494417907,\n",
            "        \"oppTP\": 1.0009597695101082\n",
            "    },\n",
            "    \"Cond_Num\": 191.5370007113855\n",
            "}\n",
            "{\n",
            "    \"VIF\": {\n",
            "        \"k\": 1.0584057703080783,\n",
            "        \"oppPB\": 1.057855128352211,\n",
            "        \"oppTP\": 1.0005899877530258\n",
            "    },\n",
            "    \"Cond_Num\": 190.3568807791559\n",
            "}\n"
          ]
        }
      ]
    },
    {
      "cell_type": "markdown",
      "source": [
        "#### 3.4.2 Addressing Collinearity\n",
        "\n",
        "In this data set, relatively rare events, such as triple plays or catcher interference, appear to be causing the collinearity problem. We can address this by grouping similar types of events into a single variable. For example, we will define *rbMisc* (\"reached base: miscellaneous\") as the sum of hit-by-pitch and catcher interference. This will preserve the information in the *ci* variable while dealing with collinearity."
      ],
      "metadata": {
        "id": "E-D3BnV34phm"
      }
    },
    {
      "cell_type": "code",
      "source": [
        "# rare events like ci and oppTP seem to cause high VIF/cN. Deal with this by combining \n",
        "# variable/centering columns\n",
        "\n",
        "# combine cols into logical groupings:\n",
        "# create new col rbMisc (reached base - misc)\n",
        "df['rbMisc'] = df['hbp'] + df['ci']\n",
        "# create new col xbMIsc (extra base - misc)\n",
        "df['xbMisc'] = df['oppWP'] +df['oppBalk'] +df['oppPB'] \n",
        "# combine gidp and oppTP into multOuts\n",
        "df['multOuts'] = df['gidp'] + df['oppTP']\n",
        "# combine bb and ibb into bbMisc\n",
        "df['bbMisc'] = df['bb'] + df['ibb']\n",
        "# combin sacf, sach into sacMisc\n",
        "df['sacMisc'] = df['sacf'] + df['sach']"
      ],
      "metadata": {
        "id": "takFwINr4rWW"
      },
      "execution_count": null,
      "outputs": []
    },
    {
      "cell_type": "markdown",
      "source": [
        "Another method for dealing with collinearity is to scale the data set. Here, we will center the dependent variables about the mean of the training data. Our primary goal is inference; we want to know how changes in the counting statistics effect run scoring. Centering allows us to do this while removing the problem of collinearity and maintaining easy interpretability."
      ],
      "metadata": {
        "id": "0arWhAgY419H"
      }
    },
    {
      "cell_type": "code",
      "source": [
        "# center columns on the training data\n",
        "uncentCols = ['ab','1b','2b','3b','4b','sach','sacf','hbp','bb','ibb','k','sb',\n",
        "              'cs','gidp','ci','oppWP','oppBalk','oppERR','oppPB','oppTP','rbMisc',\n",
        "              'xbMisc','multOuts','bbMisc','sacMisc']\n",
        "\n",
        "# subtract mean of each column (training data)\n",
        "for c in uncentCols:\n",
        "    df[c+'Cent'] = df[c] - df.loc[ixTr,c].mean()\n",
        "\n",
        "del(c, uncentCols)"
      ],
      "metadata": {
        "id": "hXNIP75XqxLW"
      },
      "execution_count": null,
      "outputs": []
    },
    {
      "cell_type": "markdown",
      "source": [
        "Now create a dictionary of the various design matrices that will be used to fit a model. We must take care to avoid reintroducing collinearity back into our independent variables by including a 'combined' variable and any of its original components. That is, if we include *rbMisc* in the design matrix, we must exclude * hbp* and *ci*.\n",
        "\n",
        "Repeat this process for the centered variables, as well.\n"
      ],
      "metadata": {
        "id": "hvUxe4Xvq2Lp"
      }
    },
    {
      "cell_type": "code",
      "source": [
        "# define new exogs\n",
        "# 1. make dict to store exogs\n",
        "# 2. define combined vars and remove component vars\n",
        "xCols = {'xCols0':xCols0}\n",
        "ix = 1\n",
        "combVar = ['rbMisc','xbMisc','multOuts','bbMisc','sacMisc']\n",
        "\n",
        "for n in range(1,len(combVar)+1,1):\n",
        "    for c in itertools.combinations(combVar, n):\n",
        "        xCols[f'xCols{ix}'] = xCols0 + list(c)\n",
        "        ix += 1\n",
        "\n",
        "# remove orig vars if group is present\n",
        "for k in xCols.keys():\n",
        "    if 'rbMisc' in xCols[k]:\n",
        "        xCols[k].remove('hbp')\n",
        "        xCols[k].remove('ci')\n",
        "    if 'xbMisc' in xCols[k]:\n",
        "        xCols[k].remove('oppWP')\n",
        "        xCols[k].remove('oppBalk')\n",
        "        xCols[k].remove('oppPB')\n",
        "    if 'multOuts' in xCols[k]:\n",
        "        xCols[k].remove('gidp')\n",
        "        xCols[k].remove('oppTP')\n",
        "    if 'bbMisc' in xCols[k]:\n",
        "        xCols[k].remove('bb')\n",
        "        xCols[k].remove('ibb')\n",
        "    if 'sacMisc' in xCols[k]:\n",
        "        xCols[k].remove('sacf')\n",
        "        xCols[k].remove('sach')\n",
        "        \n",
        "# repeat above for cent cols\n",
        "xCols0Cent = [c+'Cent' for c in xCols0]\n",
        "xCols['xCols0Cent'] = xCols0Cent\n",
        "\n",
        "combVarCent = ['rbMiscCent','xbMiscCent','multOutsCent','bbMiscCent','sacMiscCent']\n",
        "\n",
        "for n in range(1,len(combVarCent)+1,1):\n",
        "    for c in itertools.combinations(combVarCent, n):\n",
        "        xCols[f'xCols{ix}Cent'] = xCols0Cent + list(c)\n",
        "        ix += 1\n",
        "       \n",
        "# remove orig vars if group is present\n",
        "for k in xCols.keys():\n",
        "    if 'rbMiscCent' in xCols[k]:\n",
        "        xCols[k].remove('hbpCent')\n",
        "        xCols[k].remove('ciCent')\n",
        "    if 'xbMiscCent' in xCols[k]:\n",
        "        xCols[k].remove('oppWPCent')\n",
        "        xCols[k].remove('oppBalkCent')\n",
        "        xCols[k].remove('oppPBCent')\n",
        "    if 'multOutsCent' in xCols[k]:\n",
        "        xCols[k].remove('gidpCent')\n",
        "        xCols[k].remove('oppTPCent')\n",
        "    if 'bbMiscCent' in xCols[k]:\n",
        "        xCols[k].remove('bbCent')\n",
        "        xCols[k].remove('ibbCent')\n",
        "    if 'sacMiscCent' in xCols[k]:\n",
        "        xCols[k].remove('sacfCent')\n",
        "        xCols[k].remove('sachCent')\n",
        "\n"
      ],
      "metadata": {
        "id": "nx9vcCfk44z3"
      },
      "execution_count": null,
      "outputs": []
    },
    {
      "cell_type": "markdown",
      "source": [
        "Finally, we can recheck the VIFs and condition numbers for the newly defined design matrices. If a instance occurs where the condition number is less than 20, then collinearity has been successfully dealt with."
      ],
      "metadata": {
        "id": "U67Vgahxru0I"
      }
    },
    {
      "cell_type": "code",
      "source": [
        "# recheck the VIf/Cond numbers\n",
        "# print message if an exog has low VIF/cond num\n",
        "for k in xCols.keys():    \n",
        "    v,cN = calcVIFCond(df.loc[ixTr,xCols[k]], verbose=False)\n",
        "    if cN<20:\n",
        "      print(f'____________________\\n{k}')\n",
        "      print('VIF')\n",
        "      print(json.dumps(v,indent=4))\n",
        "      print(f'\\nConditions numner: {cN}')\n",
        "\n",
        "del(ix, k, v, cN)"
      ],
      "metadata": {
        "colab": {
          "base_uri": "https://localhost:8080/"
        },
        "id": "RMNDTPL9rvXf",
        "outputId": "071d5996-cf49-4835-a321-9af441ef8b20"
      },
      "execution_count": null,
      "outputs": [
        {
          "output_type": "stream",
          "name": "stdout",
          "text": [
            "____________________\n",
            "xCols47Cent\n",
            "VIF\n",
            "{\n",
            "    \"abCent\": 2.244346657462842,\n",
            "    \"1bCent\": 2.028364566136531,\n",
            "    \"2bCent\": 1.1830972414222911,\n",
            "    \"3bCent\": 1.040907462634998,\n",
            "    \"4bCent\": 1.0730466957486293,\n",
            "    \"sachCent\": 1.1473663061004606,\n",
            "    \"sacfCent\": 1.0823683019860182,\n",
            "    \"bbCent\": 1.2209393985404475,\n",
            "    \"ibbCent\": 1.2040097450396512,\n",
            "    \"kCent\": 1.1987811456253201,\n",
            "    \"sbCent\": 1.071831135850481,\n",
            "    \"csCent\": 1.0482486320876077,\n",
            "    \"oppERRCent\": 1.0944476314245726,\n",
            "    \"rbMiscCent\": 1.0190455963696758,\n",
            "    \"xbMiscCent\": 1.0646710036862934,\n",
            "    \"multOutsCent\": 1.0882960727943518\n",
            "}\n",
            "\n",
            "Conditions numner: 10.527131429018533\n",
            "____________________\n",
            "xCols57Cent\n",
            "VIF\n",
            "{\n",
            "    \"abCent\": 2.2162657483900468,\n",
            "    \"1bCent\": 2.0264344004037045,\n",
            "    \"2bCent\": 1.1808612986307119,\n",
            "    \"3bCent\": 1.0408099510897237,\n",
            "    \"4bCent\": 1.0701522948471165,\n",
            "    \"sachCent\": 1.132525771320231,\n",
            "    \"sacfCent\": 1.0812111129214454,\n",
            "    \"kCent\": 1.1986131063397898,\n",
            "    \"sbCent\": 1.071661239663348,\n",
            "    \"csCent\": 1.0481250357547776,\n",
            "    \"oppERRCent\": 1.0944063730774771,\n",
            "    \"rbMiscCent\": 1.0189688224289355,\n",
            "    \"xbMiscCent\": 1.063766565015288,\n",
            "    \"multOutsCent\": 1.0877512324704393,\n",
            "    \"bbMiscCent\": 1.1474997988595963\n",
            "}\n",
            "\n",
            "Conditions numner: 10.490431678820528\n",
            "____________________\n",
            "xCols58Cent\n",
            "VIF\n",
            "{\n",
            "    \"abCent\": 2.230490994653671,\n",
            "    \"1bCent\": 2.0232064877376437,\n",
            "    \"2bCent\": 1.1753110464590764,\n",
            "    \"3bCent\": 1.040082628916989,\n",
            "    \"4bCent\": 1.0698528545140102,\n",
            "    \"bbCent\": 1.2209238459625322,\n",
            "    \"ibbCent\": 1.2018154604200717,\n",
            "    \"kCent\": 1.1850160278960775,\n",
            "    \"sbCent\": 1.0702553158844057,\n",
            "    \"csCent\": 1.0449527840603552,\n",
            "    \"oppERRCent\": 1.0939876566515647,\n",
            "    \"rbMiscCent\": 1.0182006348484165,\n",
            "    \"xbMiscCent\": 1.0619633170784109,\n",
            "    \"multOutsCent\": 1.0882949236031403,\n",
            "    \"sacMiscCent\": 1.193396515277497\n",
            "}\n",
            "\n",
            "Conditions numner: 9.289753399209317\n",
            "____________________\n",
            "xCols62Cent\n",
            "VIF\n",
            "{\n",
            "    \"abCent\": 2.2008722676328807,\n",
            "    \"1bCent\": 2.0210297934295918,\n",
            "    \"2bCent\": 1.1733738836829597,\n",
            "    \"3bCent\": 1.039962558698359,\n",
            "    \"4bCent\": 1.0667219411241935,\n",
            "    \"kCent\": 1.184714400124648,\n",
            "    \"sbCent\": 1.0701217652300081,\n",
            "    \"csCent\": 1.0447765339950987,\n",
            "    \"oppERRCent\": 1.0939560238841914,\n",
            "    \"rbMiscCent\": 1.0181034703735603,\n",
            "    \"xbMiscCent\": 1.0609364742368397,\n",
            "    \"multOutsCent\": 1.087747440841758,\n",
            "    \"bbMiscCent\": 1.1467070788741422,\n",
            "    \"sacMiscCent\": 1.1789156158790286\n",
            "}\n",
            "\n",
            "Conditions numner: 9.253095078988117\n"
          ]
        }
      ]
    },
    {
      "cell_type": "markdown",
      "source": [
        "### 3.5 GLM For 'score'\n",
        "\n",
        "Based on the distribution of the response variables, *score*, there are three candidates for the choice of GLM family: the (1) negative binomial, (2) Poisson, and (3) Gaussian. We include Gaussian model for comparison with the OLS model in the previous analysis. The negative binomial and Poisson distributions are the closest fits to the empirical distribution of *score*.\n",
        "\n",
        "Each family has a number of link functions beyond the canonical link function. In the cases where the link function does not respect the domain of the response variable, the Statsmodels API will give a warning or encounter a runtime error. We will remove such models from our results in the next section.\n"
      ],
      "metadata": {
        "id": "S45moAbdqaV3"
      }
    },
    {
      "cell_type": "markdown",
      "source": [
        "#### 3.5.1 Initial Fit\n",
        "\n",
        "Start by fitting *xCols0* to a Poisson GLM (using the default *log()* link function). "
      ],
      "metadata": {
        "id": "TWmi26d1ttXo"
      }
    },
    {
      "cell_type": "code",
      "source": [
        "## Poisson model\n",
        "# initial fit with uncentered data\n",
        "glm0 = sm.GLM(df.loc[ixTr,'score'],\n",
        "             sm.add_constant(df.loc[ixTr,xCols0]),\n",
        "             family=sm.families.Poisson())\n",
        "\n",
        "res0 = glm0.fit()\n",
        "print('\\n')\n",
        "print(res0.summary())\n",
        "print(res0.summary2())\n",
        "\n",
        "#del(glm0, res0)"
      ],
      "metadata": {
        "id": "eZLmQorhtyzZ",
        "colab": {
          "base_uri": "https://localhost:8080/"
        },
        "outputId": "93904905-1772-4752-ac37-dde24c8c9ff7"
      },
      "execution_count": null,
      "outputs": [
        {
          "output_type": "stream",
          "name": "stdout",
          "text": [
            "\n",
            "\n",
            "                 Generalized Linear Model Regression Results                  \n",
            "==============================================================================\n",
            "Dep. Variable:                  score   No. Observations:               104824\n",
            "Model:                            GLM   Df Residuals:                   104803\n",
            "Model Family:                 Poisson   Df Model:                           20\n",
            "Link Function:                    log   Scale:                          1.0000\n",
            "Method:                          IRLS   Log-Likelihood:            -1.9610e+05\n",
            "Date:                Thu, 15 Dec 2022   Deviance:                       70199.\n",
            "Time:                        15:38:54   Pearson chi2:                 6.08e+04\n",
            "No. Iterations:                     5                                         \n",
            "Covariance Type:            nonrobust                                         \n",
            "==============================================================================\n",
            "                 coef    std err          z      P>|z|      [0.025      0.975]\n",
            "------------------------------------------------------------------------------\n",
            "const          0.9700      0.014     69.608      0.000       0.943       0.997\n",
            "ab            -0.0379      0.001    -72.449      0.000      -0.039      -0.037\n",
            "1b             0.1311      0.001    176.338      0.000       0.130       0.133\n",
            "2b             0.1759      0.001    159.891      0.000       0.174       0.178\n",
            "3b             0.2205      0.002     90.820      0.000       0.216       0.225\n",
            "4b             0.2940      0.001    220.897      0.000       0.291       0.297\n",
            "sach          -0.0052      0.002     -2.660      0.008      -0.009      -0.001\n",
            "sacf           0.0590      0.003     21.446      0.000       0.054       0.064\n",
            "hbp            0.0688      0.003     26.304      0.000       0.064       0.074\n",
            "bb             0.0683      0.001     97.375      0.000       0.067       0.070\n",
            "ibb           -0.0196      0.002     -8.114      0.000      -0.024      -0.015\n",
            "k             -0.0035      0.001     -6.133      0.000      -0.005      -0.002\n",
            "sb             0.0170      0.002     10.960      0.000       0.014       0.020\n",
            "cs            -0.0676      0.003    -24.473      0.000      -0.073      -0.062\n",
            "gidp          -0.0884      0.002    -48.111      0.000      -0.092      -0.085\n",
            "ci            -0.0752      0.021     -3.542      0.000      -0.117      -0.034\n",
            "oppWP          0.0391      0.002     16.439      0.000       0.034       0.044\n",
            "oppBalk        0.0326      0.007      4.825      0.000       0.019       0.046\n",
            "oppERR         0.1065      0.001     73.616      0.000       0.104       0.109\n",
            "oppPB          0.0403      0.005      8.699      0.000       0.031       0.049\n",
            "oppTP         -0.1194      0.044     -2.688      0.007      -0.206      -0.032\n",
            "==============================================================================\n",
            "                Results: Generalized linear model\n",
            "==================================================================\n",
            "Model:              GLM              AIC:            392251.5620  \n",
            "Link Function:      log              BIC:            -1141327.3054\n",
            "Dependent Variable: score            Log-Likelihood: -1.9610e+05  \n",
            "Date:               2022-12-15 15:38 LL-Null:        -2.6970e+05  \n",
            "No. Observations:   104824           Deviance:       70199.       \n",
            "Df Model:           20               Pearson chi2:   6.08e+04     \n",
            "Df Residuals:       104803           Scale:          1.0000       \n",
            "Method:             IRLS                                          \n",
            "--------------------------------------------------------------------\n",
            "           Coef.    Std.Err.      z       P>|z|     [0.025    0.975]\n",
            "--------------------------------------------------------------------\n",
            "const      0.9700     0.0139    69.6077   0.0000    0.9427    0.9973\n",
            "ab        -0.0379     0.0005   -72.4489   0.0000   -0.0389   -0.0369\n",
            "1b         0.1311     0.0007   176.3378   0.0000    0.1296    0.1325\n",
            "2b         0.1759     0.0011   159.8910   0.0000    0.1737    0.1780\n",
            "3b         0.2205     0.0024    90.8203   0.0000    0.2157    0.2253\n",
            "4b         0.2940     0.0013   220.8966   0.0000    0.2914    0.2966\n",
            "sach      -0.0052     0.0020    -2.6604   0.0078   -0.0091   -0.0014\n",
            "sacf       0.0590     0.0027    21.4457   0.0000    0.0536    0.0644\n",
            "hbp        0.0688     0.0026    26.3040   0.0000    0.0636    0.0739\n",
            "bb         0.0683     0.0007    97.3748   0.0000    0.0669    0.0696\n",
            "ibb       -0.0196     0.0024    -8.1135   0.0000   -0.0244   -0.0149\n",
            "k         -0.0035     0.0006    -6.1330   0.0000   -0.0046   -0.0024\n",
            "sb         0.0170     0.0016    10.9600   0.0000    0.0140    0.0201\n",
            "cs        -0.0676     0.0028   -24.4733   0.0000   -0.0730   -0.0621\n",
            "gidp      -0.0884     0.0018   -48.1107   0.0000   -0.0920   -0.0848\n",
            "ci        -0.0752     0.0212    -3.5422   0.0004   -0.1168   -0.0336\n",
            "oppWP      0.0391     0.0024    16.4388   0.0000    0.0344    0.0437\n",
            "oppBalk    0.0326     0.0068     4.8252   0.0000    0.0193    0.0458\n",
            "oppERR     0.1065     0.0014    73.6156   0.0000    0.1037    0.1093\n",
            "oppPB      0.0403     0.0046     8.6995   0.0000    0.0312    0.0494\n",
            "oppTP     -0.1194     0.0444    -2.6885   0.0072   -0.2064   -0.0323\n",
            "==================================================================\n",
            "\n"
          ]
        }
      ]
    },
    {
      "cell_type": "markdown",
      "source": [
        "#### 3.5.2 Model Search"
      ],
      "metadata": {
        "id": "2H0V4zaP6-ss"
      }
    },
    {
      "cell_type": "markdown",
      "source": [
        "Loop through all of the columns in *xCols* that represent the design matrices and *yDict* that represents the response. If we wanted to transform the response, add it to *yDict* here. Create a dictionary *resDict* to store the results."
      ],
      "metadata": {
        "id": "1ueXsGzT7J0k"
      }
    },
    {
      "cell_type": "code",
      "source": [
        "#create dict to store results\n",
        "resDict = {}\n",
        "\n",
        "## Transorm response variable\n",
        "# if we wanted to make any transformations of the response, put it here \n",
        "# and it will be evaluated \n",
        "\n",
        "#df['scoreSQRT'] = df['score']**0.5\n",
        "yDict = {'score':df.loc[ixTr,'score']}\n",
        "# yDict = {'score':df.loc[ixTr,'score'],\n",
        "#          'scoreSQRT':df.loc[ixTr,'scoreSQRT']}"
      ],
      "metadata": {
        "id": "x5WNWKvh7QSz"
      },
      "execution_count": null,
      "outputs": []
    },
    {
      "cell_type": "markdown",
      "source": [
        "##### 3.5.2.1 Poisson GLM"
      ],
      "metadata": {
        "id": "yrCSO2GP725j"
      }
    },
    {
      "cell_type": "code",
      "source": [
        "#get dict of available links for Poisson model\n",
        "# not using sqrt link for interpretability reasons\n",
        "linkFuncts = {'log':sm.genmod.families.links.log(),\n",
        "              'ident':sm.genmod.families.links.identity()}\n",
        "\n",
        "for k0 in yDict.keys():\n",
        "    Y = yDict[k0]\n",
        "    for k1 in xCols.keys():\n",
        "        x = xCols[k1]\n",
        "        for k2 in linkFuncts.keys():\n",
        "            glm  = sm.GLM(Y,\n",
        "                          sm.add_constant(df.loc[ixTr,x]),\n",
        "                          family=sm.families.Poisson(link=linkFuncts[k2])\n",
        "                          )\n",
        "            try:\n",
        "                res = glm.fit()\n",
        "            except ValueError as ve:\n",
        "                print(ve)\n",
        "            else:                \n",
        "                print(f'Adding poisson_{k0}_{k1}_{k2}')\n",
        "                resDict[f'poisson_{k0}_{k1}_{k2}'] = res"
      ],
      "metadata": {
        "colab": {
          "base_uri": "https://localhost:8080/"
        },
        "id": "oeuoKttS76qj",
        "outputId": "de9495d4-4712-462a-c70f-3dd4d9121ec8"
      },
      "execution_count": null,
      "outputs": [
        {
          "output_type": "stream",
          "name": "stdout",
          "text": [
            "Adding poisson_score_xCols0_log\n"
          ]
        },
        {
          "output_type": "stream",
          "name": "stderr",
          "text": [
            "/usr/local/lib/python3.8/dist-packages/statsmodels/genmod/generalized_linear_model.py:293: DomainWarning: The identity link function does not respect the domain of the Poisson family.\n",
            "  warnings.warn((f\"The {type(family.link).__name__} link function \"\n"
          ]
        },
        {
          "output_type": "stream",
          "name": "stdout",
          "text": [
            "Adding poisson_score_xCols0_ident\n",
            "Adding poisson_score_xCols1_log\n"
          ]
        },
        {
          "output_type": "stream",
          "name": "stderr",
          "text": [
            "/usr/local/lib/python3.8/dist-packages/statsmodels/genmod/generalized_linear_model.py:293: DomainWarning: The identity link function does not respect the domain of the Poisson family.\n",
            "  warnings.warn((f\"The {type(family.link).__name__} link function \"\n"
          ]
        },
        {
          "output_type": "stream",
          "name": "stdout",
          "text": [
            "Adding poisson_score_xCols1_ident\n",
            "Adding poisson_score_xCols2_log\n"
          ]
        },
        {
          "output_type": "stream",
          "name": "stderr",
          "text": [
            "/usr/local/lib/python3.8/dist-packages/statsmodels/genmod/generalized_linear_model.py:293: DomainWarning: The identity link function does not respect the domain of the Poisson family.\n",
            "  warnings.warn((f\"The {type(family.link).__name__} link function \"\n"
          ]
        },
        {
          "output_type": "stream",
          "name": "stdout",
          "text": [
            "Adding poisson_score_xCols2_ident\n",
            "Adding poisson_score_xCols3_log\n"
          ]
        },
        {
          "output_type": "stream",
          "name": "stderr",
          "text": [
            "/usr/local/lib/python3.8/dist-packages/statsmodels/genmod/generalized_linear_model.py:293: DomainWarning: The identity link function does not respect the domain of the Poisson family.\n",
            "  warnings.warn((f\"The {type(family.link).__name__} link function \"\n"
          ]
        },
        {
          "output_type": "stream",
          "name": "stdout",
          "text": [
            "Adding poisson_score_xCols3_ident\n",
            "Adding poisson_score_xCols4_log\n"
          ]
        },
        {
          "output_type": "stream",
          "name": "stderr",
          "text": [
            "/usr/local/lib/python3.8/dist-packages/statsmodels/genmod/generalized_linear_model.py:293: DomainWarning: The identity link function does not respect the domain of the Poisson family.\n",
            "  warnings.warn((f\"The {type(family.link).__name__} link function \"\n"
          ]
        },
        {
          "output_type": "stream",
          "name": "stdout",
          "text": [
            "Adding poisson_score_xCols4_ident\n",
            "Adding poisson_score_xCols5_log\n"
          ]
        },
        {
          "output_type": "stream",
          "name": "stderr",
          "text": [
            "/usr/local/lib/python3.8/dist-packages/statsmodels/genmod/generalized_linear_model.py:293: DomainWarning: The identity link function does not respect the domain of the Poisson family.\n",
            "  warnings.warn((f\"The {type(family.link).__name__} link function \"\n"
          ]
        },
        {
          "output_type": "stream",
          "name": "stdout",
          "text": [
            "Adding poisson_score_xCols5_ident\n",
            "Adding poisson_score_xCols6_log\n"
          ]
        },
        {
          "output_type": "stream",
          "name": "stderr",
          "text": [
            "/usr/local/lib/python3.8/dist-packages/statsmodels/genmod/generalized_linear_model.py:293: DomainWarning: The identity link function does not respect the domain of the Poisson family.\n",
            "  warnings.warn((f\"The {type(family.link).__name__} link function \"\n"
          ]
        },
        {
          "output_type": "stream",
          "name": "stdout",
          "text": [
            "Adding poisson_score_xCols6_ident\n",
            "Adding poisson_score_xCols7_log\n"
          ]
        },
        {
          "output_type": "stream",
          "name": "stderr",
          "text": [
            "/usr/local/lib/python3.8/dist-packages/statsmodels/genmod/generalized_linear_model.py:293: DomainWarning: The identity link function does not respect the domain of the Poisson family.\n",
            "  warnings.warn((f\"The {type(family.link).__name__} link function \"\n"
          ]
        },
        {
          "output_type": "stream",
          "name": "stdout",
          "text": [
            "Adding poisson_score_xCols7_ident\n",
            "Adding poisson_score_xCols8_log\n"
          ]
        },
        {
          "output_type": "stream",
          "name": "stderr",
          "text": [
            "/usr/local/lib/python3.8/dist-packages/statsmodels/genmod/generalized_linear_model.py:293: DomainWarning: The identity link function does not respect the domain of the Poisson family.\n",
            "  warnings.warn((f\"The {type(family.link).__name__} link function \"\n"
          ]
        },
        {
          "output_type": "stream",
          "name": "stdout",
          "text": [
            "Adding poisson_score_xCols8_ident\n",
            "Adding poisson_score_xCols9_log\n"
          ]
        },
        {
          "output_type": "stream",
          "name": "stderr",
          "text": [
            "/usr/local/lib/python3.8/dist-packages/statsmodels/genmod/generalized_linear_model.py:293: DomainWarning: The identity link function does not respect the domain of the Poisson family.\n",
            "  warnings.warn((f\"The {type(family.link).__name__} link function \"\n"
          ]
        },
        {
          "output_type": "stream",
          "name": "stdout",
          "text": [
            "Adding poisson_score_xCols9_ident\n",
            "Adding poisson_score_xCols10_log\n"
          ]
        },
        {
          "output_type": "stream",
          "name": "stderr",
          "text": [
            "/usr/local/lib/python3.8/dist-packages/statsmodels/genmod/generalized_linear_model.py:293: DomainWarning: The identity link function does not respect the domain of the Poisson family.\n",
            "  warnings.warn((f\"The {type(family.link).__name__} link function \"\n"
          ]
        },
        {
          "output_type": "stream",
          "name": "stdout",
          "text": [
            "Adding poisson_score_xCols10_ident\n",
            "Adding poisson_score_xCols11_log\n"
          ]
        },
        {
          "output_type": "stream",
          "name": "stderr",
          "text": [
            "/usr/local/lib/python3.8/dist-packages/statsmodels/genmod/generalized_linear_model.py:293: DomainWarning: The identity link function does not respect the domain of the Poisson family.\n",
            "  warnings.warn((f\"The {type(family.link).__name__} link function \"\n"
          ]
        },
        {
          "output_type": "stream",
          "name": "stdout",
          "text": [
            "Adding poisson_score_xCols11_ident\n",
            "Adding poisson_score_xCols12_log\n"
          ]
        },
        {
          "output_type": "stream",
          "name": "stderr",
          "text": [
            "/usr/local/lib/python3.8/dist-packages/statsmodels/genmod/generalized_linear_model.py:293: DomainWarning: The identity link function does not respect the domain of the Poisson family.\n",
            "  warnings.warn((f\"The {type(family.link).__name__} link function \"\n"
          ]
        },
        {
          "output_type": "stream",
          "name": "stdout",
          "text": [
            "Adding poisson_score_xCols12_ident\n",
            "Adding poisson_score_xCols13_log\n"
          ]
        },
        {
          "output_type": "stream",
          "name": "stderr",
          "text": [
            "/usr/local/lib/python3.8/dist-packages/statsmodels/genmod/generalized_linear_model.py:293: DomainWarning: The identity link function does not respect the domain of the Poisson family.\n",
            "  warnings.warn((f\"The {type(family.link).__name__} link function \"\n"
          ]
        },
        {
          "output_type": "stream",
          "name": "stdout",
          "text": [
            "Adding poisson_score_xCols13_ident\n",
            "Adding poisson_score_xCols14_log\n"
          ]
        },
        {
          "output_type": "stream",
          "name": "stderr",
          "text": [
            "/usr/local/lib/python3.8/dist-packages/statsmodels/genmod/generalized_linear_model.py:293: DomainWarning: The identity link function does not respect the domain of the Poisson family.\n",
            "  warnings.warn((f\"The {type(family.link).__name__} link function \"\n"
          ]
        },
        {
          "output_type": "stream",
          "name": "stdout",
          "text": [
            "Adding poisson_score_xCols14_ident\n",
            "Adding poisson_score_xCols15_log\n"
          ]
        },
        {
          "output_type": "stream",
          "name": "stderr",
          "text": [
            "/usr/local/lib/python3.8/dist-packages/statsmodels/genmod/generalized_linear_model.py:293: DomainWarning: The identity link function does not respect the domain of the Poisson family.\n",
            "  warnings.warn((f\"The {type(family.link).__name__} link function \"\n"
          ]
        },
        {
          "output_type": "stream",
          "name": "stdout",
          "text": [
            "Adding poisson_score_xCols15_ident\n",
            "Adding poisson_score_xCols16_log\n"
          ]
        },
        {
          "output_type": "stream",
          "name": "stderr",
          "text": [
            "/usr/local/lib/python3.8/dist-packages/statsmodels/genmod/generalized_linear_model.py:293: DomainWarning: The identity link function does not respect the domain of the Poisson family.\n",
            "  warnings.warn((f\"The {type(family.link).__name__} link function \"\n"
          ]
        },
        {
          "output_type": "stream",
          "name": "stdout",
          "text": [
            "Adding poisson_score_xCols16_ident\n",
            "Adding poisson_score_xCols17_log\n"
          ]
        },
        {
          "output_type": "stream",
          "name": "stderr",
          "text": [
            "/usr/local/lib/python3.8/dist-packages/statsmodels/genmod/generalized_linear_model.py:293: DomainWarning: The identity link function does not respect the domain of the Poisson family.\n",
            "  warnings.warn((f\"The {type(family.link).__name__} link function \"\n"
          ]
        },
        {
          "output_type": "stream",
          "name": "stdout",
          "text": [
            "Adding poisson_score_xCols17_ident\n",
            "Adding poisson_score_xCols18_log\n"
          ]
        },
        {
          "output_type": "stream",
          "name": "stderr",
          "text": [
            "/usr/local/lib/python3.8/dist-packages/statsmodels/genmod/generalized_linear_model.py:293: DomainWarning: The identity link function does not respect the domain of the Poisson family.\n",
            "  warnings.warn((f\"The {type(family.link).__name__} link function \"\n"
          ]
        },
        {
          "output_type": "stream",
          "name": "stdout",
          "text": [
            "Adding poisson_score_xCols18_ident\n",
            "Adding poisson_score_xCols19_log\n"
          ]
        },
        {
          "output_type": "stream",
          "name": "stderr",
          "text": [
            "/usr/local/lib/python3.8/dist-packages/statsmodels/genmod/generalized_linear_model.py:293: DomainWarning: The identity link function does not respect the domain of the Poisson family.\n",
            "  warnings.warn((f\"The {type(family.link).__name__} link function \"\n"
          ]
        },
        {
          "output_type": "stream",
          "name": "stdout",
          "text": [
            "Adding poisson_score_xCols19_ident\n",
            "Adding poisson_score_xCols20_log\n"
          ]
        },
        {
          "output_type": "stream",
          "name": "stderr",
          "text": [
            "/usr/local/lib/python3.8/dist-packages/statsmodels/genmod/generalized_linear_model.py:293: DomainWarning: The identity link function does not respect the domain of the Poisson family.\n",
            "  warnings.warn((f\"The {type(family.link).__name__} link function \"\n"
          ]
        },
        {
          "output_type": "stream",
          "name": "stdout",
          "text": [
            "Adding poisson_score_xCols20_ident\n",
            "Adding poisson_score_xCols21_log\n"
          ]
        },
        {
          "output_type": "stream",
          "name": "stderr",
          "text": [
            "/usr/local/lib/python3.8/dist-packages/statsmodels/genmod/generalized_linear_model.py:293: DomainWarning: The identity link function does not respect the domain of the Poisson family.\n",
            "  warnings.warn((f\"The {type(family.link).__name__} link function \"\n"
          ]
        },
        {
          "output_type": "stream",
          "name": "stdout",
          "text": [
            "Adding poisson_score_xCols21_ident\n",
            "Adding poisson_score_xCols22_log\n"
          ]
        },
        {
          "output_type": "stream",
          "name": "stderr",
          "text": [
            "/usr/local/lib/python3.8/dist-packages/statsmodels/genmod/generalized_linear_model.py:293: DomainWarning: The identity link function does not respect the domain of the Poisson family.\n",
            "  warnings.warn((f\"The {type(family.link).__name__} link function \"\n"
          ]
        },
        {
          "output_type": "stream",
          "name": "stdout",
          "text": [
            "Adding poisson_score_xCols22_ident\n",
            "Adding poisson_score_xCols23_log\n"
          ]
        },
        {
          "output_type": "stream",
          "name": "stderr",
          "text": [
            "/usr/local/lib/python3.8/dist-packages/statsmodels/genmod/generalized_linear_model.py:293: DomainWarning: The identity link function does not respect the domain of the Poisson family.\n",
            "  warnings.warn((f\"The {type(family.link).__name__} link function \"\n"
          ]
        },
        {
          "output_type": "stream",
          "name": "stdout",
          "text": [
            "Adding poisson_score_xCols23_ident\n",
            "Adding poisson_score_xCols24_log\n"
          ]
        },
        {
          "output_type": "stream",
          "name": "stderr",
          "text": [
            "/usr/local/lib/python3.8/dist-packages/statsmodels/genmod/generalized_linear_model.py:293: DomainWarning: The identity link function does not respect the domain of the Poisson family.\n",
            "  warnings.warn((f\"The {type(family.link).__name__} link function \"\n"
          ]
        },
        {
          "output_type": "stream",
          "name": "stdout",
          "text": [
            "Adding poisson_score_xCols24_ident\n",
            "Adding poisson_score_xCols25_log\n"
          ]
        },
        {
          "output_type": "stream",
          "name": "stderr",
          "text": [
            "/usr/local/lib/python3.8/dist-packages/statsmodels/genmod/generalized_linear_model.py:293: DomainWarning: The identity link function does not respect the domain of the Poisson family.\n",
            "  warnings.warn((f\"The {type(family.link).__name__} link function \"\n"
          ]
        },
        {
          "output_type": "stream",
          "name": "stdout",
          "text": [
            "Adding poisson_score_xCols25_ident\n",
            "Adding poisson_score_xCols26_log\n"
          ]
        },
        {
          "output_type": "stream",
          "name": "stderr",
          "text": [
            "/usr/local/lib/python3.8/dist-packages/statsmodels/genmod/generalized_linear_model.py:293: DomainWarning: The identity link function does not respect the domain of the Poisson family.\n",
            "  warnings.warn((f\"The {type(family.link).__name__} link function \"\n"
          ]
        },
        {
          "output_type": "stream",
          "name": "stdout",
          "text": [
            "Adding poisson_score_xCols26_ident\n",
            "Adding poisson_score_xCols27_log\n"
          ]
        },
        {
          "output_type": "stream",
          "name": "stderr",
          "text": [
            "/usr/local/lib/python3.8/dist-packages/statsmodels/genmod/generalized_linear_model.py:293: DomainWarning: The identity link function does not respect the domain of the Poisson family.\n",
            "  warnings.warn((f\"The {type(family.link).__name__} link function \"\n"
          ]
        },
        {
          "output_type": "stream",
          "name": "stdout",
          "text": [
            "Adding poisson_score_xCols27_ident\n",
            "Adding poisson_score_xCols28_log\n"
          ]
        },
        {
          "output_type": "stream",
          "name": "stderr",
          "text": [
            "/usr/local/lib/python3.8/dist-packages/statsmodels/genmod/generalized_linear_model.py:293: DomainWarning: The identity link function does not respect the domain of the Poisson family.\n",
            "  warnings.warn((f\"The {type(family.link).__name__} link function \"\n"
          ]
        },
        {
          "output_type": "stream",
          "name": "stdout",
          "text": [
            "Adding poisson_score_xCols28_ident\n",
            "Adding poisson_score_xCols29_log\n"
          ]
        },
        {
          "output_type": "stream",
          "name": "stderr",
          "text": [
            "/usr/local/lib/python3.8/dist-packages/statsmodels/genmod/generalized_linear_model.py:293: DomainWarning: The identity link function does not respect the domain of the Poisson family.\n",
            "  warnings.warn((f\"The {type(family.link).__name__} link function \"\n"
          ]
        },
        {
          "output_type": "stream",
          "name": "stdout",
          "text": [
            "Adding poisson_score_xCols29_ident\n",
            "Adding poisson_score_xCols30_log\n"
          ]
        },
        {
          "output_type": "stream",
          "name": "stderr",
          "text": [
            "/usr/local/lib/python3.8/dist-packages/statsmodels/genmod/generalized_linear_model.py:293: DomainWarning: The identity link function does not respect the domain of the Poisson family.\n",
            "  warnings.warn((f\"The {type(family.link).__name__} link function \"\n"
          ]
        },
        {
          "output_type": "stream",
          "name": "stdout",
          "text": [
            "Adding poisson_score_xCols30_ident\n",
            "Adding poisson_score_xCols31_log\n"
          ]
        },
        {
          "output_type": "stream",
          "name": "stderr",
          "text": [
            "/usr/local/lib/python3.8/dist-packages/statsmodels/genmod/generalized_linear_model.py:293: DomainWarning: The identity link function does not respect the domain of the Poisson family.\n",
            "  warnings.warn((f\"The {type(family.link).__name__} link function \"\n"
          ]
        },
        {
          "output_type": "stream",
          "name": "stdout",
          "text": [
            "Adding poisson_score_xCols31_ident\n",
            "Adding poisson_score_xCols0Cent_log\n"
          ]
        },
        {
          "output_type": "stream",
          "name": "stderr",
          "text": [
            "/usr/local/lib/python3.8/dist-packages/statsmodels/genmod/generalized_linear_model.py:293: DomainWarning: The identity link function does not respect the domain of the Poisson family.\n",
            "  warnings.warn((f\"The {type(family.link).__name__} link function \"\n"
          ]
        },
        {
          "output_type": "stream",
          "name": "stdout",
          "text": [
            "Adding poisson_score_xCols0Cent_ident\n",
            "Adding poisson_score_xCols32Cent_log\n"
          ]
        },
        {
          "output_type": "stream",
          "name": "stderr",
          "text": [
            "/usr/local/lib/python3.8/dist-packages/statsmodels/genmod/generalized_linear_model.py:293: DomainWarning: The identity link function does not respect the domain of the Poisson family.\n",
            "  warnings.warn((f\"The {type(family.link).__name__} link function \"\n"
          ]
        },
        {
          "output_type": "stream",
          "name": "stdout",
          "text": [
            "Adding poisson_score_xCols32Cent_ident\n",
            "Adding poisson_score_xCols33Cent_log\n"
          ]
        },
        {
          "output_type": "stream",
          "name": "stderr",
          "text": [
            "/usr/local/lib/python3.8/dist-packages/statsmodels/genmod/generalized_linear_model.py:293: DomainWarning: The identity link function does not respect the domain of the Poisson family.\n",
            "  warnings.warn((f\"The {type(family.link).__name__} link function \"\n"
          ]
        },
        {
          "output_type": "stream",
          "name": "stdout",
          "text": [
            "Adding poisson_score_xCols33Cent_ident\n",
            "Adding poisson_score_xCols34Cent_log\n"
          ]
        },
        {
          "output_type": "stream",
          "name": "stderr",
          "text": [
            "/usr/local/lib/python3.8/dist-packages/statsmodels/genmod/generalized_linear_model.py:293: DomainWarning: The identity link function does not respect the domain of the Poisson family.\n",
            "  warnings.warn((f\"The {type(family.link).__name__} link function \"\n"
          ]
        },
        {
          "output_type": "stream",
          "name": "stdout",
          "text": [
            "Adding poisson_score_xCols34Cent_ident\n",
            "Adding poisson_score_xCols35Cent_log\n"
          ]
        },
        {
          "output_type": "stream",
          "name": "stderr",
          "text": [
            "/usr/local/lib/python3.8/dist-packages/statsmodels/genmod/generalized_linear_model.py:293: DomainWarning: The identity link function does not respect the domain of the Poisson family.\n",
            "  warnings.warn((f\"The {type(family.link).__name__} link function \"\n"
          ]
        },
        {
          "output_type": "stream",
          "name": "stdout",
          "text": [
            "Adding poisson_score_xCols35Cent_ident\n",
            "Adding poisson_score_xCols36Cent_log\n"
          ]
        },
        {
          "output_type": "stream",
          "name": "stderr",
          "text": [
            "/usr/local/lib/python3.8/dist-packages/statsmodels/genmod/generalized_linear_model.py:293: DomainWarning: The identity link function does not respect the domain of the Poisson family.\n",
            "  warnings.warn((f\"The {type(family.link).__name__} link function \"\n"
          ]
        },
        {
          "output_type": "stream",
          "name": "stdout",
          "text": [
            "Adding poisson_score_xCols36Cent_ident\n",
            "Adding poisson_score_xCols37Cent_log\n"
          ]
        },
        {
          "output_type": "stream",
          "name": "stderr",
          "text": [
            "/usr/local/lib/python3.8/dist-packages/statsmodels/genmod/generalized_linear_model.py:293: DomainWarning: The identity link function does not respect the domain of the Poisson family.\n",
            "  warnings.warn((f\"The {type(family.link).__name__} link function \"\n"
          ]
        },
        {
          "output_type": "stream",
          "name": "stdout",
          "text": [
            "Adding poisson_score_xCols37Cent_ident\n",
            "Adding poisson_score_xCols38Cent_log\n"
          ]
        },
        {
          "output_type": "stream",
          "name": "stderr",
          "text": [
            "/usr/local/lib/python3.8/dist-packages/statsmodels/genmod/generalized_linear_model.py:293: DomainWarning: The identity link function does not respect the domain of the Poisson family.\n",
            "  warnings.warn((f\"The {type(family.link).__name__} link function \"\n"
          ]
        },
        {
          "output_type": "stream",
          "name": "stdout",
          "text": [
            "Adding poisson_score_xCols38Cent_ident\n",
            "Adding poisson_score_xCols39Cent_log\n"
          ]
        },
        {
          "output_type": "stream",
          "name": "stderr",
          "text": [
            "/usr/local/lib/python3.8/dist-packages/statsmodels/genmod/generalized_linear_model.py:293: DomainWarning: The identity link function does not respect the domain of the Poisson family.\n",
            "  warnings.warn((f\"The {type(family.link).__name__} link function \"\n"
          ]
        },
        {
          "output_type": "stream",
          "name": "stdout",
          "text": [
            "Adding poisson_score_xCols39Cent_ident\n",
            "Adding poisson_score_xCols40Cent_log\n"
          ]
        },
        {
          "output_type": "stream",
          "name": "stderr",
          "text": [
            "/usr/local/lib/python3.8/dist-packages/statsmodels/genmod/generalized_linear_model.py:293: DomainWarning: The identity link function does not respect the domain of the Poisson family.\n",
            "  warnings.warn((f\"The {type(family.link).__name__} link function \"\n"
          ]
        },
        {
          "output_type": "stream",
          "name": "stdout",
          "text": [
            "Adding poisson_score_xCols40Cent_ident\n",
            "Adding poisson_score_xCols41Cent_log\n"
          ]
        },
        {
          "output_type": "stream",
          "name": "stderr",
          "text": [
            "/usr/local/lib/python3.8/dist-packages/statsmodels/genmod/generalized_linear_model.py:293: DomainWarning: The identity link function does not respect the domain of the Poisson family.\n",
            "  warnings.warn((f\"The {type(family.link).__name__} link function \"\n"
          ]
        },
        {
          "output_type": "stream",
          "name": "stdout",
          "text": [
            "Adding poisson_score_xCols41Cent_ident\n",
            "Adding poisson_score_xCols42Cent_log\n"
          ]
        },
        {
          "output_type": "stream",
          "name": "stderr",
          "text": [
            "/usr/local/lib/python3.8/dist-packages/statsmodels/genmod/generalized_linear_model.py:293: DomainWarning: The identity link function does not respect the domain of the Poisson family.\n",
            "  warnings.warn((f\"The {type(family.link).__name__} link function \"\n"
          ]
        },
        {
          "output_type": "stream",
          "name": "stdout",
          "text": [
            "Adding poisson_score_xCols42Cent_ident\n",
            "Adding poisson_score_xCols43Cent_log\n"
          ]
        },
        {
          "output_type": "stream",
          "name": "stderr",
          "text": [
            "/usr/local/lib/python3.8/dist-packages/statsmodels/genmod/generalized_linear_model.py:293: DomainWarning: The identity link function does not respect the domain of the Poisson family.\n",
            "  warnings.warn((f\"The {type(family.link).__name__} link function \"\n"
          ]
        },
        {
          "output_type": "stream",
          "name": "stdout",
          "text": [
            "Adding poisson_score_xCols43Cent_ident\n",
            "Adding poisson_score_xCols44Cent_log\n"
          ]
        },
        {
          "output_type": "stream",
          "name": "stderr",
          "text": [
            "/usr/local/lib/python3.8/dist-packages/statsmodels/genmod/generalized_linear_model.py:293: DomainWarning: The identity link function does not respect the domain of the Poisson family.\n",
            "  warnings.warn((f\"The {type(family.link).__name__} link function \"\n"
          ]
        },
        {
          "output_type": "stream",
          "name": "stdout",
          "text": [
            "Adding poisson_score_xCols44Cent_ident\n",
            "Adding poisson_score_xCols45Cent_log\n"
          ]
        },
        {
          "output_type": "stream",
          "name": "stderr",
          "text": [
            "/usr/local/lib/python3.8/dist-packages/statsmodels/genmod/generalized_linear_model.py:293: DomainWarning: The identity link function does not respect the domain of the Poisson family.\n",
            "  warnings.warn((f\"The {type(family.link).__name__} link function \"\n"
          ]
        },
        {
          "output_type": "stream",
          "name": "stdout",
          "text": [
            "Adding poisson_score_xCols45Cent_ident\n",
            "Adding poisson_score_xCols46Cent_log\n"
          ]
        },
        {
          "output_type": "stream",
          "name": "stderr",
          "text": [
            "/usr/local/lib/python3.8/dist-packages/statsmodels/genmod/generalized_linear_model.py:293: DomainWarning: The identity link function does not respect the domain of the Poisson family.\n",
            "  warnings.warn((f\"The {type(family.link).__name__} link function \"\n"
          ]
        },
        {
          "output_type": "stream",
          "name": "stdout",
          "text": [
            "Adding poisson_score_xCols46Cent_ident\n",
            "Adding poisson_score_xCols47Cent_log\n"
          ]
        },
        {
          "output_type": "stream",
          "name": "stderr",
          "text": [
            "/usr/local/lib/python3.8/dist-packages/statsmodels/genmod/generalized_linear_model.py:293: DomainWarning: The identity link function does not respect the domain of the Poisson family.\n",
            "  warnings.warn((f\"The {type(family.link).__name__} link function \"\n"
          ]
        },
        {
          "output_type": "stream",
          "name": "stdout",
          "text": [
            "Adding poisson_score_xCols47Cent_ident\n",
            "Adding poisson_score_xCols48Cent_log\n"
          ]
        },
        {
          "output_type": "stream",
          "name": "stderr",
          "text": [
            "/usr/local/lib/python3.8/dist-packages/statsmodels/genmod/generalized_linear_model.py:293: DomainWarning: The identity link function does not respect the domain of the Poisson family.\n",
            "  warnings.warn((f\"The {type(family.link).__name__} link function \"\n"
          ]
        },
        {
          "output_type": "stream",
          "name": "stdout",
          "text": [
            "Adding poisson_score_xCols48Cent_ident\n",
            "Adding poisson_score_xCols49Cent_log\n"
          ]
        },
        {
          "output_type": "stream",
          "name": "stderr",
          "text": [
            "/usr/local/lib/python3.8/dist-packages/statsmodels/genmod/generalized_linear_model.py:293: DomainWarning: The identity link function does not respect the domain of the Poisson family.\n",
            "  warnings.warn((f\"The {type(family.link).__name__} link function \"\n"
          ]
        },
        {
          "output_type": "stream",
          "name": "stdout",
          "text": [
            "Adding poisson_score_xCols49Cent_ident\n",
            "Adding poisson_score_xCols50Cent_log\n"
          ]
        },
        {
          "output_type": "stream",
          "name": "stderr",
          "text": [
            "/usr/local/lib/python3.8/dist-packages/statsmodels/genmod/generalized_linear_model.py:293: DomainWarning: The identity link function does not respect the domain of the Poisson family.\n",
            "  warnings.warn((f\"The {type(family.link).__name__} link function \"\n"
          ]
        },
        {
          "output_type": "stream",
          "name": "stdout",
          "text": [
            "Adding poisson_score_xCols50Cent_ident\n",
            "Adding poisson_score_xCols51Cent_log\n"
          ]
        },
        {
          "output_type": "stream",
          "name": "stderr",
          "text": [
            "/usr/local/lib/python3.8/dist-packages/statsmodels/genmod/generalized_linear_model.py:293: DomainWarning: The identity link function does not respect the domain of the Poisson family.\n",
            "  warnings.warn((f\"The {type(family.link).__name__} link function \"\n"
          ]
        },
        {
          "output_type": "stream",
          "name": "stdout",
          "text": [
            "Adding poisson_score_xCols51Cent_ident\n",
            "Adding poisson_score_xCols52Cent_log\n"
          ]
        },
        {
          "output_type": "stream",
          "name": "stderr",
          "text": [
            "/usr/local/lib/python3.8/dist-packages/statsmodels/genmod/generalized_linear_model.py:293: DomainWarning: The identity link function does not respect the domain of the Poisson family.\n",
            "  warnings.warn((f\"The {type(family.link).__name__} link function \"\n"
          ]
        },
        {
          "output_type": "stream",
          "name": "stdout",
          "text": [
            "Adding poisson_score_xCols52Cent_ident\n",
            "Adding poisson_score_xCols53Cent_log\n"
          ]
        },
        {
          "output_type": "stream",
          "name": "stderr",
          "text": [
            "/usr/local/lib/python3.8/dist-packages/statsmodels/genmod/generalized_linear_model.py:293: DomainWarning: The identity link function does not respect the domain of the Poisson family.\n",
            "  warnings.warn((f\"The {type(family.link).__name__} link function \"\n"
          ]
        },
        {
          "output_type": "stream",
          "name": "stdout",
          "text": [
            "Adding poisson_score_xCols53Cent_ident\n",
            "Adding poisson_score_xCols54Cent_log\n"
          ]
        },
        {
          "output_type": "stream",
          "name": "stderr",
          "text": [
            "/usr/local/lib/python3.8/dist-packages/statsmodels/genmod/generalized_linear_model.py:293: DomainWarning: The identity link function does not respect the domain of the Poisson family.\n",
            "  warnings.warn((f\"The {type(family.link).__name__} link function \"\n"
          ]
        },
        {
          "output_type": "stream",
          "name": "stdout",
          "text": [
            "Adding poisson_score_xCols54Cent_ident\n",
            "Adding poisson_score_xCols55Cent_log\n"
          ]
        },
        {
          "output_type": "stream",
          "name": "stderr",
          "text": [
            "/usr/local/lib/python3.8/dist-packages/statsmodels/genmod/generalized_linear_model.py:293: DomainWarning: The identity link function does not respect the domain of the Poisson family.\n",
            "  warnings.warn((f\"The {type(family.link).__name__} link function \"\n"
          ]
        },
        {
          "output_type": "stream",
          "name": "stdout",
          "text": [
            "Adding poisson_score_xCols55Cent_ident\n",
            "Adding poisson_score_xCols56Cent_log\n"
          ]
        },
        {
          "output_type": "stream",
          "name": "stderr",
          "text": [
            "/usr/local/lib/python3.8/dist-packages/statsmodels/genmod/generalized_linear_model.py:293: DomainWarning: The identity link function does not respect the domain of the Poisson family.\n",
            "  warnings.warn((f\"The {type(family.link).__name__} link function \"\n"
          ]
        },
        {
          "output_type": "stream",
          "name": "stdout",
          "text": [
            "Adding poisson_score_xCols56Cent_ident\n",
            "Adding poisson_score_xCols57Cent_log\n"
          ]
        },
        {
          "output_type": "stream",
          "name": "stderr",
          "text": [
            "/usr/local/lib/python3.8/dist-packages/statsmodels/genmod/generalized_linear_model.py:293: DomainWarning: The identity link function does not respect the domain of the Poisson family.\n",
            "  warnings.warn((f\"The {type(family.link).__name__} link function \"\n"
          ]
        },
        {
          "output_type": "stream",
          "name": "stdout",
          "text": [
            "Adding poisson_score_xCols57Cent_ident\n",
            "Adding poisson_score_xCols58Cent_log\n"
          ]
        },
        {
          "output_type": "stream",
          "name": "stderr",
          "text": [
            "/usr/local/lib/python3.8/dist-packages/statsmodels/genmod/generalized_linear_model.py:293: DomainWarning: The identity link function does not respect the domain of the Poisson family.\n",
            "  warnings.warn((f\"The {type(family.link).__name__} link function \"\n"
          ]
        },
        {
          "output_type": "stream",
          "name": "stdout",
          "text": [
            "Adding poisson_score_xCols58Cent_ident\n",
            "Adding poisson_score_xCols59Cent_log\n"
          ]
        },
        {
          "output_type": "stream",
          "name": "stderr",
          "text": [
            "/usr/local/lib/python3.8/dist-packages/statsmodels/genmod/generalized_linear_model.py:293: DomainWarning: The identity link function does not respect the domain of the Poisson family.\n",
            "  warnings.warn((f\"The {type(family.link).__name__} link function \"\n"
          ]
        },
        {
          "output_type": "stream",
          "name": "stdout",
          "text": [
            "Adding poisson_score_xCols59Cent_ident\n",
            "Adding poisson_score_xCols60Cent_log\n"
          ]
        },
        {
          "output_type": "stream",
          "name": "stderr",
          "text": [
            "/usr/local/lib/python3.8/dist-packages/statsmodels/genmod/generalized_linear_model.py:293: DomainWarning: The identity link function does not respect the domain of the Poisson family.\n",
            "  warnings.warn((f\"The {type(family.link).__name__} link function \"\n"
          ]
        },
        {
          "output_type": "stream",
          "name": "stdout",
          "text": [
            "Adding poisson_score_xCols60Cent_ident\n",
            "Adding poisson_score_xCols61Cent_log\n"
          ]
        },
        {
          "output_type": "stream",
          "name": "stderr",
          "text": [
            "/usr/local/lib/python3.8/dist-packages/statsmodels/genmod/generalized_linear_model.py:293: DomainWarning: The identity link function does not respect the domain of the Poisson family.\n",
            "  warnings.warn((f\"The {type(family.link).__name__} link function \"\n"
          ]
        },
        {
          "output_type": "stream",
          "name": "stdout",
          "text": [
            "Adding poisson_score_xCols61Cent_ident\n",
            "Adding poisson_score_xCols62Cent_log\n"
          ]
        },
        {
          "output_type": "stream",
          "name": "stderr",
          "text": [
            "/usr/local/lib/python3.8/dist-packages/statsmodels/genmod/generalized_linear_model.py:293: DomainWarning: The identity link function does not respect the domain of the Poisson family.\n",
            "  warnings.warn((f\"The {type(family.link).__name__} link function \"\n"
          ]
        },
        {
          "output_type": "stream",
          "name": "stdout",
          "text": [
            "Adding poisson_score_xCols62Cent_ident\n"
          ]
        }
      ]
    },
    {
      "cell_type": "markdown",
      "source": [
        "##### 3.5.2.2 Negative Binomial GLM"
      ],
      "metadata": {
        "id": "2ol5Qoo78C1b"
      }
    },
    {
      "cell_type": "code",
      "source": [
        "#get dict of available links for Negative Binomial model\n",
        "# ldkfjsdl\n",
        "linkFuncts = {'log':sm.genmod.families.links.log(),\n",
        "              'cloglog':sm.genmod.families.links.cloglog(),\n",
        "              'ident':sm.genmod.families.links.identity(),\n",
        "              'nb':sm.genmod.families.links.nbinom(),\n",
        "              'pow2':sm.genmod.families.links.Power(2),\n",
        "              'pow3':sm.genmod.families.links.Power(3)}\n",
        "\n",
        "for k0 in yDict.keys():\n",
        "    Y = yDict[k0]\n",
        "    for k1 in xCols.keys():\n",
        "        x = xCols[k1]\n",
        "        for k2 in linkFuncts.keys():\n",
        "            glm  = sm.GLM(Y,\n",
        "                          sm.add_constant(df.loc[ixTr,x]),\n",
        "                          family=sm.families.NegativeBinomial(link=linkFuncts[k2])\n",
        "                          )\n",
        "            try:\n",
        "                res = glm.fit()\n",
        "            except ValueError as ve:\n",
        "                print(ve)\n",
        "            else:                \n",
        "                print(f'Adding negbinom_{k0}_{k1}_{k2}')\n",
        "                resDict[f'negbinom_{k0}_{k1}_{k2}'] = res"
      ],
      "metadata": {
        "colab": {
          "base_uri": "https://localhost:8080/"
        },
        "id": "9N5TQIaF8J0z",
        "outputId": "efa3702f-80c9-4de9-aa46-7587f3aba768"
      },
      "execution_count": null,
      "outputs": [
        {
          "output_type": "stream",
          "name": "stdout",
          "text": [
            "Adding negbinom_score_xCols0_log\n"
          ]
        },
        {
          "output_type": "stream",
          "name": "stderr",
          "text": [
            "/usr/local/lib/python3.8/dist-packages/statsmodels/genmod/generalized_linear_model.py:293: DomainWarning: The cloglog link function does not respect the domain of the NegativeBinomial family.\n",
            "  warnings.warn((f\"The {type(family.link).__name__} link function \"\n",
            "/usr/local/lib/python3.8/dist-packages/statsmodels/genmod/families/links.py:820: RuntimeWarning: overflow encountered in exp\n",
            "  return 1 - np.exp(-np.exp(z))\n",
            "/usr/local/lib/python3.8/dist-packages/statsmodels/genmod/families/family.py:1227: RuntimeWarning: divide by zero encountered in true_divide\n",
            "  endog_mu = self._clean(endog / mu)\n",
            "/usr/local/lib/python3.8/dist-packages/statsmodels/genmod/families/family.py:1227: RuntimeWarning: invalid value encountered in true_divide\n",
            "  endog_mu = self._clean(endog / mu)\n"
          ]
        },
        {
          "output_type": "stream",
          "name": "stdout",
          "text": [
            "Adding negbinom_score_xCols0_cloglog\n"
          ]
        },
        {
          "output_type": "stream",
          "name": "stderr",
          "text": [
            "/usr/local/lib/python3.8/dist-packages/statsmodels/genmod/generalized_linear_model.py:293: DomainWarning: The identity link function does not respect the domain of the NegativeBinomial family.\n",
            "  warnings.warn((f\"The {type(family.link).__name__} link function \"\n",
            "/usr/local/lib/python3.8/dist-packages/statsmodels/genmod/families/family.py:1231: RuntimeWarning: invalid value encountered in log\n",
            "  resid_dev -= endog_alpha * np.log(endog_alpha / mu_alpha)\n"
          ]
        },
        {
          "output_type": "stream",
          "name": "stdout",
          "text": [
            "Adding negbinom_score_xCols0_ident\n"
          ]
        },
        {
          "output_type": "stream",
          "name": "stderr",
          "text": [
            "/usr/local/lib/python3.8/dist-packages/statsmodels/genmod/generalized_linear_model.py:293: DomainWarning: The nbinom link function does not respect the domain of the NegativeBinomial family.\n",
            "  warnings.warn((f\"The {type(family.link).__name__} link function \"\n",
            "/usr/local/lib/python3.8/dist-packages/statsmodels/genmod/families/family.py:1231: RuntimeWarning: divide by zero encountered in true_divide\n",
            "  resid_dev -= endog_alpha * np.log(endog_alpha / mu_alpha)\n",
            "/usr/local/lib/python3.8/dist-packages/statsmodels/genmod/families/links.py:971: RuntimeWarning: divide by zero encountered in true_divide\n",
            "  return 1/(p + self.alpha * p**2)\n",
            "/usr/local/lib/python3.8/dist-packages/statsmodels/genmod/generalized_linear_model.py:293: DomainWarning: The Power link function does not respect the domain of the NegativeBinomial family.\n",
            "  warnings.warn((f\"The {type(family.link).__name__} link function \"\n"
          ]
        },
        {
          "output_type": "stream",
          "name": "stdout",
          "text": [
            "NaN, inf or invalid value detected in endog, estimation infeasible.\n"
          ]
        },
        {
          "output_type": "stream",
          "name": "stderr",
          "text": [
            "/usr/local/lib/python3.8/dist-packages/statsmodels/genmod/families/links.py:319: RuntimeWarning: invalid value encountered in power\n",
            "  return np.power(z, 1. / self.power)\n",
            "/usr/local/lib/python3.8/dist-packages/statsmodels/genmod/generalized_linear_model.py:293: DomainWarning: The Power link function does not respect the domain of the NegativeBinomial family.\n",
            "  warnings.warn((f\"The {type(family.link).__name__} link function \"\n"
          ]
        },
        {
          "output_type": "stream",
          "name": "stdout",
          "text": [
            "NaN, inf or invalid value detected in weights, estimation infeasible.\n",
            "NaN, inf or invalid value detected in weights, estimation infeasible.\n",
            "Adding negbinom_score_xCols1_log\n"
          ]
        },
        {
          "output_type": "stream",
          "name": "stderr",
          "text": [
            "/usr/local/lib/python3.8/dist-packages/statsmodels/genmod/generalized_linear_model.py:293: DomainWarning: The cloglog link function does not respect the domain of the NegativeBinomial family.\n",
            "  warnings.warn((f\"The {type(family.link).__name__} link function \"\n"
          ]
        },
        {
          "output_type": "stream",
          "name": "stdout",
          "text": [
            "Adding negbinom_score_xCols1_cloglog\n"
          ]
        },
        {
          "output_type": "stream",
          "name": "stderr",
          "text": [
            "/usr/local/lib/python3.8/dist-packages/statsmodels/genmod/generalized_linear_model.py:293: DomainWarning: The identity link function does not respect the domain of the NegativeBinomial family.\n",
            "  warnings.warn((f\"The {type(family.link).__name__} link function \"\n"
          ]
        },
        {
          "output_type": "stream",
          "name": "stdout",
          "text": [
            "Adding negbinom_score_xCols1_ident\n"
          ]
        },
        {
          "output_type": "stream",
          "name": "stderr",
          "text": [
            "/usr/local/lib/python3.8/dist-packages/statsmodels/genmod/generalized_linear_model.py:293: DomainWarning: The nbinom link function does not respect the domain of the NegativeBinomial family.\n",
            "  warnings.warn((f\"The {type(family.link).__name__} link function \"\n",
            "/usr/local/lib/python3.8/dist-packages/statsmodels/genmod/families/family.py:134: RuntimeWarning: overflow encountered in square\n",
            "  return 1. / (self.link.deriv(mu)**2 * self.variance(mu))\n"
          ]
        },
        {
          "output_type": "stream",
          "name": "stdout",
          "text": [
            "NaN, inf or invalid value detected in endog, estimation infeasible.\n"
          ]
        },
        {
          "output_type": "stream",
          "name": "stderr",
          "text": [
            "/usr/local/lib/python3.8/dist-packages/statsmodels/genmod/generalized_linear_model.py:293: DomainWarning: The Power link function does not respect the domain of the NegativeBinomial family.\n",
            "  warnings.warn((f\"The {type(family.link).__name__} link function \"\n"
          ]
        },
        {
          "output_type": "stream",
          "name": "stdout",
          "text": [
            "NaN, inf or invalid value detected in weights, estimation infeasible.\n"
          ]
        },
        {
          "output_type": "stream",
          "name": "stderr",
          "text": [
            "/usr/local/lib/python3.8/dist-packages/statsmodels/genmod/generalized_linear_model.py:293: DomainWarning: The Power link function does not respect the domain of the NegativeBinomial family.\n",
            "  warnings.warn((f\"The {type(family.link).__name__} link function \"\n"
          ]
        },
        {
          "output_type": "stream",
          "name": "stdout",
          "text": [
            "NaN, inf or invalid value detected in weights, estimation infeasible.\n",
            "Adding negbinom_score_xCols2_log\n"
          ]
        },
        {
          "output_type": "stream",
          "name": "stderr",
          "text": [
            "/usr/local/lib/python3.8/dist-packages/statsmodels/genmod/generalized_linear_model.py:293: DomainWarning: The cloglog link function does not respect the domain of the NegativeBinomial family.\n",
            "  warnings.warn((f\"The {type(family.link).__name__} link function \"\n"
          ]
        },
        {
          "output_type": "stream",
          "name": "stdout",
          "text": [
            "Adding negbinom_score_xCols2_cloglog\n"
          ]
        },
        {
          "output_type": "stream",
          "name": "stderr",
          "text": [
            "/usr/local/lib/python3.8/dist-packages/statsmodels/genmod/generalized_linear_model.py:293: DomainWarning: The identity link function does not respect the domain of the NegativeBinomial family.\n",
            "  warnings.warn((f\"The {type(family.link).__name__} link function \"\n"
          ]
        },
        {
          "output_type": "stream",
          "name": "stdout",
          "text": [
            "Adding negbinom_score_xCols2_ident\n"
          ]
        },
        {
          "output_type": "stream",
          "name": "stderr",
          "text": [
            "/usr/local/lib/python3.8/dist-packages/statsmodels/genmod/generalized_linear_model.py:293: DomainWarning: The nbinom link function does not respect the domain of the NegativeBinomial family.\n",
            "  warnings.warn((f\"The {type(family.link).__name__} link function \"\n"
          ]
        },
        {
          "output_type": "stream",
          "name": "stdout",
          "text": [
            "NaN, inf or invalid value detected in endog, estimation infeasible.\n"
          ]
        },
        {
          "output_type": "stream",
          "name": "stderr",
          "text": [
            "/usr/local/lib/python3.8/dist-packages/statsmodels/genmod/generalized_linear_model.py:293: DomainWarning: The Power link function does not respect the domain of the NegativeBinomial family.\n",
            "  warnings.warn((f\"The {type(family.link).__name__} link function \"\n"
          ]
        },
        {
          "output_type": "stream",
          "name": "stdout",
          "text": [
            "NaN, inf or invalid value detected in weights, estimation infeasible.\n"
          ]
        },
        {
          "output_type": "stream",
          "name": "stderr",
          "text": [
            "/usr/local/lib/python3.8/dist-packages/statsmodels/genmod/generalized_linear_model.py:293: DomainWarning: The Power link function does not respect the domain of the NegativeBinomial family.\n",
            "  warnings.warn((f\"The {type(family.link).__name__} link function \"\n"
          ]
        },
        {
          "output_type": "stream",
          "name": "stdout",
          "text": [
            "NaN, inf or invalid value detected in weights, estimation infeasible.\n",
            "Adding negbinom_score_xCols3_log\n"
          ]
        },
        {
          "output_type": "stream",
          "name": "stderr",
          "text": [
            "/usr/local/lib/python3.8/dist-packages/statsmodels/genmod/generalized_linear_model.py:293: DomainWarning: The cloglog link function does not respect the domain of the NegativeBinomial family.\n",
            "  warnings.warn((f\"The {type(family.link).__name__} link function \"\n"
          ]
        },
        {
          "output_type": "stream",
          "name": "stdout",
          "text": [
            "Adding negbinom_score_xCols3_cloglog\n"
          ]
        },
        {
          "output_type": "stream",
          "name": "stderr",
          "text": [
            "/usr/local/lib/python3.8/dist-packages/statsmodels/genmod/generalized_linear_model.py:293: DomainWarning: The identity link function does not respect the domain of the NegativeBinomial family.\n",
            "  warnings.warn((f\"The {type(family.link).__name__} link function \"\n"
          ]
        },
        {
          "output_type": "stream",
          "name": "stdout",
          "text": [
            "Adding negbinom_score_xCols3_ident\n"
          ]
        },
        {
          "output_type": "stream",
          "name": "stderr",
          "text": [
            "/usr/local/lib/python3.8/dist-packages/statsmodels/genmod/generalized_linear_model.py:293: DomainWarning: The nbinom link function does not respect the domain of the NegativeBinomial family.\n",
            "  warnings.warn((f\"The {type(family.link).__name__} link function \"\n"
          ]
        },
        {
          "output_type": "stream",
          "name": "stdout",
          "text": [
            "NaN, inf or invalid value detected in endog, estimation infeasible.\n"
          ]
        },
        {
          "output_type": "stream",
          "name": "stderr",
          "text": [
            "/usr/local/lib/python3.8/dist-packages/statsmodels/genmod/generalized_linear_model.py:293: DomainWarning: The Power link function does not respect the domain of the NegativeBinomial family.\n",
            "  warnings.warn((f\"The {type(family.link).__name__} link function \"\n"
          ]
        },
        {
          "output_type": "stream",
          "name": "stdout",
          "text": [
            "NaN, inf or invalid value detected in weights, estimation infeasible.\n"
          ]
        },
        {
          "output_type": "stream",
          "name": "stderr",
          "text": [
            "/usr/local/lib/python3.8/dist-packages/statsmodels/genmod/generalized_linear_model.py:293: DomainWarning: The Power link function does not respect the domain of the NegativeBinomial family.\n",
            "  warnings.warn((f\"The {type(family.link).__name__} link function \"\n"
          ]
        },
        {
          "output_type": "stream",
          "name": "stdout",
          "text": [
            "NaN, inf or invalid value detected in weights, estimation infeasible.\n",
            "Adding negbinom_score_xCols4_log\n"
          ]
        },
        {
          "output_type": "stream",
          "name": "stderr",
          "text": [
            "/usr/local/lib/python3.8/dist-packages/statsmodels/genmod/generalized_linear_model.py:293: DomainWarning: The cloglog link function does not respect the domain of the NegativeBinomial family.\n",
            "  warnings.warn((f\"The {type(family.link).__name__} link function \"\n"
          ]
        },
        {
          "output_type": "stream",
          "name": "stdout",
          "text": [
            "Adding negbinom_score_xCols4_cloglog\n"
          ]
        },
        {
          "output_type": "stream",
          "name": "stderr",
          "text": [
            "/usr/local/lib/python3.8/dist-packages/statsmodels/genmod/generalized_linear_model.py:293: DomainWarning: The identity link function does not respect the domain of the NegativeBinomial family.\n",
            "  warnings.warn((f\"The {type(family.link).__name__} link function \"\n"
          ]
        },
        {
          "output_type": "stream",
          "name": "stdout",
          "text": [
            "Adding negbinom_score_xCols4_ident\n"
          ]
        },
        {
          "output_type": "stream",
          "name": "stderr",
          "text": [
            "/usr/local/lib/python3.8/dist-packages/statsmodels/genmod/generalized_linear_model.py:293: DomainWarning: The nbinom link function does not respect the domain of the NegativeBinomial family.\n",
            "  warnings.warn((f\"The {type(family.link).__name__} link function \"\n"
          ]
        },
        {
          "output_type": "stream",
          "name": "stdout",
          "text": [
            "NaN, inf or invalid value detected in endog, estimation infeasible.\n"
          ]
        },
        {
          "output_type": "stream",
          "name": "stderr",
          "text": [
            "/usr/local/lib/python3.8/dist-packages/statsmodels/genmod/generalized_linear_model.py:293: DomainWarning: The Power link function does not respect the domain of the NegativeBinomial family.\n",
            "  warnings.warn((f\"The {type(family.link).__name__} link function \"\n"
          ]
        },
        {
          "output_type": "stream",
          "name": "stdout",
          "text": [
            "NaN, inf or invalid value detected in weights, estimation infeasible.\n"
          ]
        },
        {
          "output_type": "stream",
          "name": "stderr",
          "text": [
            "/usr/local/lib/python3.8/dist-packages/statsmodels/genmod/generalized_linear_model.py:293: DomainWarning: The Power link function does not respect the domain of the NegativeBinomial family.\n",
            "  warnings.warn((f\"The {type(family.link).__name__} link function \"\n"
          ]
        },
        {
          "output_type": "stream",
          "name": "stdout",
          "text": [
            "NaN, inf or invalid value detected in weights, estimation infeasible.\n",
            "Adding negbinom_score_xCols5_log\n"
          ]
        },
        {
          "output_type": "stream",
          "name": "stderr",
          "text": [
            "/usr/local/lib/python3.8/dist-packages/statsmodels/genmod/generalized_linear_model.py:293: DomainWarning: The cloglog link function does not respect the domain of the NegativeBinomial family.\n",
            "  warnings.warn((f\"The {type(family.link).__name__} link function \"\n"
          ]
        },
        {
          "output_type": "stream",
          "name": "stdout",
          "text": [
            "Adding negbinom_score_xCols5_cloglog\n"
          ]
        },
        {
          "output_type": "stream",
          "name": "stderr",
          "text": [
            "/usr/local/lib/python3.8/dist-packages/statsmodels/genmod/generalized_linear_model.py:293: DomainWarning: The identity link function does not respect the domain of the NegativeBinomial family.\n",
            "  warnings.warn((f\"The {type(family.link).__name__} link function \"\n"
          ]
        },
        {
          "output_type": "stream",
          "name": "stdout",
          "text": [
            "Adding negbinom_score_xCols5_ident\n"
          ]
        },
        {
          "output_type": "stream",
          "name": "stderr",
          "text": [
            "/usr/local/lib/python3.8/dist-packages/statsmodels/genmod/generalized_linear_model.py:293: DomainWarning: The nbinom link function does not respect the domain of the NegativeBinomial family.\n",
            "  warnings.warn((f\"The {type(family.link).__name__} link function \"\n"
          ]
        },
        {
          "output_type": "stream",
          "name": "stdout",
          "text": [
            "NaN, inf or invalid value detected in endog, estimation infeasible.\n"
          ]
        },
        {
          "output_type": "stream",
          "name": "stderr",
          "text": [
            "/usr/local/lib/python3.8/dist-packages/statsmodels/genmod/generalized_linear_model.py:293: DomainWarning: The Power link function does not respect the domain of the NegativeBinomial family.\n",
            "  warnings.warn((f\"The {type(family.link).__name__} link function \"\n"
          ]
        },
        {
          "output_type": "stream",
          "name": "stdout",
          "text": [
            "NaN, inf or invalid value detected in weights, estimation infeasible.\n"
          ]
        },
        {
          "output_type": "stream",
          "name": "stderr",
          "text": [
            "/usr/local/lib/python3.8/dist-packages/statsmodels/genmod/generalized_linear_model.py:293: DomainWarning: The Power link function does not respect the domain of the NegativeBinomial family.\n",
            "  warnings.warn((f\"The {type(family.link).__name__} link function \"\n"
          ]
        },
        {
          "output_type": "stream",
          "name": "stdout",
          "text": [
            "NaN, inf or invalid value detected in weights, estimation infeasible.\n",
            "Adding negbinom_score_xCols6_log\n"
          ]
        },
        {
          "output_type": "stream",
          "name": "stderr",
          "text": [
            "/usr/local/lib/python3.8/dist-packages/statsmodels/genmod/generalized_linear_model.py:293: DomainWarning: The cloglog link function does not respect the domain of the NegativeBinomial family.\n",
            "  warnings.warn((f\"The {type(family.link).__name__} link function \"\n"
          ]
        },
        {
          "output_type": "stream",
          "name": "stdout",
          "text": [
            "Adding negbinom_score_xCols6_cloglog\n"
          ]
        },
        {
          "output_type": "stream",
          "name": "stderr",
          "text": [
            "/usr/local/lib/python3.8/dist-packages/statsmodels/genmod/generalized_linear_model.py:293: DomainWarning: The identity link function does not respect the domain of the NegativeBinomial family.\n",
            "  warnings.warn((f\"The {type(family.link).__name__} link function \"\n"
          ]
        },
        {
          "output_type": "stream",
          "name": "stdout",
          "text": [
            "Adding negbinom_score_xCols6_ident\n"
          ]
        },
        {
          "output_type": "stream",
          "name": "stderr",
          "text": [
            "/usr/local/lib/python3.8/dist-packages/statsmodels/genmod/generalized_linear_model.py:293: DomainWarning: The nbinom link function does not respect the domain of the NegativeBinomial family.\n",
            "  warnings.warn((f\"The {type(family.link).__name__} link function \"\n"
          ]
        },
        {
          "output_type": "stream",
          "name": "stdout",
          "text": [
            "NaN, inf or invalid value detected in endog, estimation infeasible.\n"
          ]
        },
        {
          "output_type": "stream",
          "name": "stderr",
          "text": [
            "/usr/local/lib/python3.8/dist-packages/statsmodels/genmod/generalized_linear_model.py:293: DomainWarning: The Power link function does not respect the domain of the NegativeBinomial family.\n",
            "  warnings.warn((f\"The {type(family.link).__name__} link function \"\n"
          ]
        },
        {
          "output_type": "stream",
          "name": "stdout",
          "text": [
            "NaN, inf or invalid value detected in weights, estimation infeasible.\n"
          ]
        },
        {
          "output_type": "stream",
          "name": "stderr",
          "text": [
            "/usr/local/lib/python3.8/dist-packages/statsmodels/genmod/generalized_linear_model.py:293: DomainWarning: The Power link function does not respect the domain of the NegativeBinomial family.\n",
            "  warnings.warn((f\"The {type(family.link).__name__} link function \"\n"
          ]
        },
        {
          "output_type": "stream",
          "name": "stdout",
          "text": [
            "NaN, inf or invalid value detected in weights, estimation infeasible.\n",
            "Adding negbinom_score_xCols7_log\n"
          ]
        },
        {
          "output_type": "stream",
          "name": "stderr",
          "text": [
            "/usr/local/lib/python3.8/dist-packages/statsmodels/genmod/generalized_linear_model.py:293: DomainWarning: The cloglog link function does not respect the domain of the NegativeBinomial family.\n",
            "  warnings.warn((f\"The {type(family.link).__name__} link function \"\n"
          ]
        },
        {
          "output_type": "stream",
          "name": "stdout",
          "text": [
            "Adding negbinom_score_xCols7_cloglog\n"
          ]
        },
        {
          "output_type": "stream",
          "name": "stderr",
          "text": [
            "/usr/local/lib/python3.8/dist-packages/statsmodels/genmod/generalized_linear_model.py:293: DomainWarning: The identity link function does not respect the domain of the NegativeBinomial family.\n",
            "  warnings.warn((f\"The {type(family.link).__name__} link function \"\n"
          ]
        },
        {
          "output_type": "stream",
          "name": "stdout",
          "text": [
            "Adding negbinom_score_xCols7_ident\n"
          ]
        },
        {
          "output_type": "stream",
          "name": "stderr",
          "text": [
            "/usr/local/lib/python3.8/dist-packages/statsmodels/genmod/generalized_linear_model.py:293: DomainWarning: The nbinom link function does not respect the domain of the NegativeBinomial family.\n",
            "  warnings.warn((f\"The {type(family.link).__name__} link function \"\n"
          ]
        },
        {
          "output_type": "stream",
          "name": "stdout",
          "text": [
            "NaN, inf or invalid value detected in endog, estimation infeasible.\n"
          ]
        },
        {
          "output_type": "stream",
          "name": "stderr",
          "text": [
            "/usr/local/lib/python3.8/dist-packages/statsmodels/genmod/generalized_linear_model.py:293: DomainWarning: The Power link function does not respect the domain of the NegativeBinomial family.\n",
            "  warnings.warn((f\"The {type(family.link).__name__} link function \"\n"
          ]
        },
        {
          "output_type": "stream",
          "name": "stdout",
          "text": [
            "NaN, inf or invalid value detected in weights, estimation infeasible.\n"
          ]
        },
        {
          "output_type": "stream",
          "name": "stderr",
          "text": [
            "/usr/local/lib/python3.8/dist-packages/statsmodels/genmod/generalized_linear_model.py:293: DomainWarning: The Power link function does not respect the domain of the NegativeBinomial family.\n",
            "  warnings.warn((f\"The {type(family.link).__name__} link function \"\n"
          ]
        },
        {
          "output_type": "stream",
          "name": "stdout",
          "text": [
            "NaN, inf or invalid value detected in weights, estimation infeasible.\n",
            "Adding negbinom_score_xCols8_log\n"
          ]
        },
        {
          "output_type": "stream",
          "name": "stderr",
          "text": [
            "/usr/local/lib/python3.8/dist-packages/statsmodels/genmod/generalized_linear_model.py:293: DomainWarning: The cloglog link function does not respect the domain of the NegativeBinomial family.\n",
            "  warnings.warn((f\"The {type(family.link).__name__} link function \"\n"
          ]
        },
        {
          "output_type": "stream",
          "name": "stdout",
          "text": [
            "Adding negbinom_score_xCols8_cloglog\n"
          ]
        },
        {
          "output_type": "stream",
          "name": "stderr",
          "text": [
            "/usr/local/lib/python3.8/dist-packages/statsmodels/genmod/generalized_linear_model.py:293: DomainWarning: The identity link function does not respect the domain of the NegativeBinomial family.\n",
            "  warnings.warn((f\"The {type(family.link).__name__} link function \"\n"
          ]
        },
        {
          "output_type": "stream",
          "name": "stdout",
          "text": [
            "Adding negbinom_score_xCols8_ident\n"
          ]
        },
        {
          "output_type": "stream",
          "name": "stderr",
          "text": [
            "/usr/local/lib/python3.8/dist-packages/statsmodels/genmod/generalized_linear_model.py:293: DomainWarning: The nbinom link function does not respect the domain of the NegativeBinomial family.\n",
            "  warnings.warn((f\"The {type(family.link).__name__} link function \"\n"
          ]
        },
        {
          "output_type": "stream",
          "name": "stdout",
          "text": [
            "NaN, inf or invalid value detected in endog, estimation infeasible.\n"
          ]
        },
        {
          "output_type": "stream",
          "name": "stderr",
          "text": [
            "/usr/local/lib/python3.8/dist-packages/statsmodels/genmod/generalized_linear_model.py:293: DomainWarning: The Power link function does not respect the domain of the NegativeBinomial family.\n",
            "  warnings.warn((f\"The {type(family.link).__name__} link function \"\n"
          ]
        },
        {
          "output_type": "stream",
          "name": "stdout",
          "text": [
            "NaN, inf or invalid value detected in weights, estimation infeasible.\n"
          ]
        },
        {
          "output_type": "stream",
          "name": "stderr",
          "text": [
            "/usr/local/lib/python3.8/dist-packages/statsmodels/genmod/generalized_linear_model.py:293: DomainWarning: The Power link function does not respect the domain of the NegativeBinomial family.\n",
            "  warnings.warn((f\"The {type(family.link).__name__} link function \"\n"
          ]
        },
        {
          "output_type": "stream",
          "name": "stdout",
          "text": [
            "NaN, inf or invalid value detected in weights, estimation infeasible.\n",
            "Adding negbinom_score_xCols9_log\n"
          ]
        },
        {
          "output_type": "stream",
          "name": "stderr",
          "text": [
            "/usr/local/lib/python3.8/dist-packages/statsmodels/genmod/generalized_linear_model.py:293: DomainWarning: The cloglog link function does not respect the domain of the NegativeBinomial family.\n",
            "  warnings.warn((f\"The {type(family.link).__name__} link function \"\n"
          ]
        },
        {
          "output_type": "stream",
          "name": "stdout",
          "text": [
            "Adding negbinom_score_xCols9_cloglog\n"
          ]
        },
        {
          "output_type": "stream",
          "name": "stderr",
          "text": [
            "/usr/local/lib/python3.8/dist-packages/statsmodels/genmod/generalized_linear_model.py:293: DomainWarning: The identity link function does not respect the domain of the NegativeBinomial family.\n",
            "  warnings.warn((f\"The {type(family.link).__name__} link function \"\n"
          ]
        },
        {
          "output_type": "stream",
          "name": "stdout",
          "text": [
            "Adding negbinom_score_xCols9_ident\n"
          ]
        },
        {
          "output_type": "stream",
          "name": "stderr",
          "text": [
            "/usr/local/lib/python3.8/dist-packages/statsmodels/genmod/generalized_linear_model.py:293: DomainWarning: The nbinom link function does not respect the domain of the NegativeBinomial family.\n",
            "  warnings.warn((f\"The {type(family.link).__name__} link function \"\n"
          ]
        },
        {
          "output_type": "stream",
          "name": "stdout",
          "text": [
            "NaN, inf or invalid value detected in endog, estimation infeasible.\n"
          ]
        },
        {
          "output_type": "stream",
          "name": "stderr",
          "text": [
            "/usr/local/lib/python3.8/dist-packages/statsmodels/genmod/generalized_linear_model.py:293: DomainWarning: The Power link function does not respect the domain of the NegativeBinomial family.\n",
            "  warnings.warn((f\"The {type(family.link).__name__} link function \"\n"
          ]
        },
        {
          "output_type": "stream",
          "name": "stdout",
          "text": [
            "NaN, inf or invalid value detected in weights, estimation infeasible.\n"
          ]
        },
        {
          "output_type": "stream",
          "name": "stderr",
          "text": [
            "/usr/local/lib/python3.8/dist-packages/statsmodels/genmod/generalized_linear_model.py:293: DomainWarning: The Power link function does not respect the domain of the NegativeBinomial family.\n",
            "  warnings.warn((f\"The {type(family.link).__name__} link function \"\n"
          ]
        },
        {
          "output_type": "stream",
          "name": "stdout",
          "text": [
            "NaN, inf or invalid value detected in weights, estimation infeasible.\n",
            "Adding negbinom_score_xCols10_log\n"
          ]
        },
        {
          "output_type": "stream",
          "name": "stderr",
          "text": [
            "/usr/local/lib/python3.8/dist-packages/statsmodels/genmod/generalized_linear_model.py:293: DomainWarning: The cloglog link function does not respect the domain of the NegativeBinomial family.\n",
            "  warnings.warn((f\"The {type(family.link).__name__} link function \"\n"
          ]
        },
        {
          "output_type": "stream",
          "name": "stdout",
          "text": [
            "Adding negbinom_score_xCols10_cloglog\n"
          ]
        },
        {
          "output_type": "stream",
          "name": "stderr",
          "text": [
            "/usr/local/lib/python3.8/dist-packages/statsmodels/genmod/generalized_linear_model.py:293: DomainWarning: The identity link function does not respect the domain of the NegativeBinomial family.\n",
            "  warnings.warn((f\"The {type(family.link).__name__} link function \"\n"
          ]
        },
        {
          "output_type": "stream",
          "name": "stdout",
          "text": [
            "Adding negbinom_score_xCols10_ident\n"
          ]
        },
        {
          "output_type": "stream",
          "name": "stderr",
          "text": [
            "/usr/local/lib/python3.8/dist-packages/statsmodels/genmod/generalized_linear_model.py:293: DomainWarning: The nbinom link function does not respect the domain of the NegativeBinomial family.\n",
            "  warnings.warn((f\"The {type(family.link).__name__} link function \"\n"
          ]
        },
        {
          "output_type": "stream",
          "name": "stdout",
          "text": [
            "NaN, inf or invalid value detected in endog, estimation infeasible.\n"
          ]
        },
        {
          "output_type": "stream",
          "name": "stderr",
          "text": [
            "/usr/local/lib/python3.8/dist-packages/statsmodels/genmod/generalized_linear_model.py:293: DomainWarning: The Power link function does not respect the domain of the NegativeBinomial family.\n",
            "  warnings.warn((f\"The {type(family.link).__name__} link function \"\n"
          ]
        },
        {
          "output_type": "stream",
          "name": "stdout",
          "text": [
            "NaN, inf or invalid value detected in weights, estimation infeasible.\n"
          ]
        },
        {
          "output_type": "stream",
          "name": "stderr",
          "text": [
            "/usr/local/lib/python3.8/dist-packages/statsmodels/genmod/generalized_linear_model.py:293: DomainWarning: The Power link function does not respect the domain of the NegativeBinomial family.\n",
            "  warnings.warn((f\"The {type(family.link).__name__} link function \"\n"
          ]
        },
        {
          "output_type": "stream",
          "name": "stdout",
          "text": [
            "NaN, inf or invalid value detected in weights, estimation infeasible.\n",
            "Adding negbinom_score_xCols11_log\n"
          ]
        },
        {
          "output_type": "stream",
          "name": "stderr",
          "text": [
            "/usr/local/lib/python3.8/dist-packages/statsmodels/genmod/generalized_linear_model.py:293: DomainWarning: The cloglog link function does not respect the domain of the NegativeBinomial family.\n",
            "  warnings.warn((f\"The {type(family.link).__name__} link function \"\n"
          ]
        },
        {
          "output_type": "stream",
          "name": "stdout",
          "text": [
            "Adding negbinom_score_xCols11_cloglog\n"
          ]
        },
        {
          "output_type": "stream",
          "name": "stderr",
          "text": [
            "/usr/local/lib/python3.8/dist-packages/statsmodels/genmod/generalized_linear_model.py:293: DomainWarning: The identity link function does not respect the domain of the NegativeBinomial family.\n",
            "  warnings.warn((f\"The {type(family.link).__name__} link function \"\n"
          ]
        },
        {
          "output_type": "stream",
          "name": "stdout",
          "text": [
            "Adding negbinom_score_xCols11_ident\n"
          ]
        },
        {
          "output_type": "stream",
          "name": "stderr",
          "text": [
            "/usr/local/lib/python3.8/dist-packages/statsmodels/genmod/generalized_linear_model.py:293: DomainWarning: The nbinom link function does not respect the domain of the NegativeBinomial family.\n",
            "  warnings.warn((f\"The {type(family.link).__name__} link function \"\n"
          ]
        },
        {
          "output_type": "stream",
          "name": "stdout",
          "text": [
            "NaN, inf or invalid value detected in endog, estimation infeasible.\n"
          ]
        },
        {
          "output_type": "stream",
          "name": "stderr",
          "text": [
            "/usr/local/lib/python3.8/dist-packages/statsmodels/genmod/generalized_linear_model.py:293: DomainWarning: The Power link function does not respect the domain of the NegativeBinomial family.\n",
            "  warnings.warn((f\"The {type(family.link).__name__} link function \"\n"
          ]
        },
        {
          "output_type": "stream",
          "name": "stdout",
          "text": [
            "NaN, inf or invalid value detected in weights, estimation infeasible.\n"
          ]
        },
        {
          "output_type": "stream",
          "name": "stderr",
          "text": [
            "/usr/local/lib/python3.8/dist-packages/statsmodels/genmod/generalized_linear_model.py:293: DomainWarning: The Power link function does not respect the domain of the NegativeBinomial family.\n",
            "  warnings.warn((f\"The {type(family.link).__name__} link function \"\n"
          ]
        },
        {
          "output_type": "stream",
          "name": "stdout",
          "text": [
            "NaN, inf or invalid value detected in weights, estimation infeasible.\n",
            "Adding negbinom_score_xCols12_log\n"
          ]
        },
        {
          "output_type": "stream",
          "name": "stderr",
          "text": [
            "/usr/local/lib/python3.8/dist-packages/statsmodels/genmod/generalized_linear_model.py:293: DomainWarning: The cloglog link function does not respect the domain of the NegativeBinomial family.\n",
            "  warnings.warn((f\"The {type(family.link).__name__} link function \"\n"
          ]
        },
        {
          "output_type": "stream",
          "name": "stdout",
          "text": [
            "Adding negbinom_score_xCols12_cloglog\n"
          ]
        },
        {
          "output_type": "stream",
          "name": "stderr",
          "text": [
            "/usr/local/lib/python3.8/dist-packages/statsmodels/genmod/generalized_linear_model.py:293: DomainWarning: The identity link function does not respect the domain of the NegativeBinomial family.\n",
            "  warnings.warn((f\"The {type(family.link).__name__} link function \"\n"
          ]
        },
        {
          "output_type": "stream",
          "name": "stdout",
          "text": [
            "Adding negbinom_score_xCols12_ident\n"
          ]
        },
        {
          "output_type": "stream",
          "name": "stderr",
          "text": [
            "/usr/local/lib/python3.8/dist-packages/statsmodels/genmod/generalized_linear_model.py:293: DomainWarning: The nbinom link function does not respect the domain of the NegativeBinomial family.\n",
            "  warnings.warn((f\"The {type(family.link).__name__} link function \"\n"
          ]
        },
        {
          "output_type": "stream",
          "name": "stdout",
          "text": [
            "NaN, inf or invalid value detected in endog, estimation infeasible.\n"
          ]
        },
        {
          "output_type": "stream",
          "name": "stderr",
          "text": [
            "/usr/local/lib/python3.8/dist-packages/statsmodels/genmod/generalized_linear_model.py:293: DomainWarning: The Power link function does not respect the domain of the NegativeBinomial family.\n",
            "  warnings.warn((f\"The {type(family.link).__name__} link function \"\n"
          ]
        },
        {
          "output_type": "stream",
          "name": "stdout",
          "text": [
            "NaN, inf or invalid value detected in weights, estimation infeasible.\n"
          ]
        },
        {
          "output_type": "stream",
          "name": "stderr",
          "text": [
            "/usr/local/lib/python3.8/dist-packages/statsmodels/genmod/generalized_linear_model.py:293: DomainWarning: The Power link function does not respect the domain of the NegativeBinomial family.\n",
            "  warnings.warn((f\"The {type(family.link).__name__} link function \"\n"
          ]
        },
        {
          "output_type": "stream",
          "name": "stdout",
          "text": [
            "NaN, inf or invalid value detected in weights, estimation infeasible.\n",
            "Adding negbinom_score_xCols13_log\n"
          ]
        },
        {
          "output_type": "stream",
          "name": "stderr",
          "text": [
            "/usr/local/lib/python3.8/dist-packages/statsmodels/genmod/generalized_linear_model.py:293: DomainWarning: The cloglog link function does not respect the domain of the NegativeBinomial family.\n",
            "  warnings.warn((f\"The {type(family.link).__name__} link function \"\n"
          ]
        },
        {
          "output_type": "stream",
          "name": "stdout",
          "text": [
            "Adding negbinom_score_xCols13_cloglog\n"
          ]
        },
        {
          "output_type": "stream",
          "name": "stderr",
          "text": [
            "/usr/local/lib/python3.8/dist-packages/statsmodels/genmod/generalized_linear_model.py:293: DomainWarning: The identity link function does not respect the domain of the NegativeBinomial family.\n",
            "  warnings.warn((f\"The {type(family.link).__name__} link function \"\n"
          ]
        },
        {
          "output_type": "stream",
          "name": "stdout",
          "text": [
            "Adding negbinom_score_xCols13_ident\n"
          ]
        },
        {
          "output_type": "stream",
          "name": "stderr",
          "text": [
            "/usr/local/lib/python3.8/dist-packages/statsmodels/genmod/generalized_linear_model.py:293: DomainWarning: The nbinom link function does not respect the domain of the NegativeBinomial family.\n",
            "  warnings.warn((f\"The {type(family.link).__name__} link function \"\n"
          ]
        },
        {
          "output_type": "stream",
          "name": "stdout",
          "text": [
            "NaN, inf or invalid value detected in endog, estimation infeasible.\n"
          ]
        },
        {
          "output_type": "stream",
          "name": "stderr",
          "text": [
            "/usr/local/lib/python3.8/dist-packages/statsmodels/genmod/generalized_linear_model.py:293: DomainWarning: The Power link function does not respect the domain of the NegativeBinomial family.\n",
            "  warnings.warn((f\"The {type(family.link).__name__} link function \"\n"
          ]
        },
        {
          "output_type": "stream",
          "name": "stdout",
          "text": [
            "NaN, inf or invalid value detected in weights, estimation infeasible.\n"
          ]
        },
        {
          "output_type": "stream",
          "name": "stderr",
          "text": [
            "/usr/local/lib/python3.8/dist-packages/statsmodels/genmod/generalized_linear_model.py:293: DomainWarning: The Power link function does not respect the domain of the NegativeBinomial family.\n",
            "  warnings.warn((f\"The {type(family.link).__name__} link function \"\n"
          ]
        },
        {
          "output_type": "stream",
          "name": "stdout",
          "text": [
            "NaN, inf or invalid value detected in weights, estimation infeasible.\n",
            "Adding negbinom_score_xCols14_log\n"
          ]
        },
        {
          "output_type": "stream",
          "name": "stderr",
          "text": [
            "/usr/local/lib/python3.8/dist-packages/statsmodels/genmod/generalized_linear_model.py:293: DomainWarning: The cloglog link function does not respect the domain of the NegativeBinomial family.\n",
            "  warnings.warn((f\"The {type(family.link).__name__} link function \"\n"
          ]
        },
        {
          "output_type": "stream",
          "name": "stdout",
          "text": [
            "Adding negbinom_score_xCols14_cloglog\n"
          ]
        },
        {
          "output_type": "stream",
          "name": "stderr",
          "text": [
            "/usr/local/lib/python3.8/dist-packages/statsmodels/genmod/generalized_linear_model.py:293: DomainWarning: The identity link function does not respect the domain of the NegativeBinomial family.\n",
            "  warnings.warn((f\"The {type(family.link).__name__} link function \"\n"
          ]
        },
        {
          "output_type": "stream",
          "name": "stdout",
          "text": [
            "Adding negbinom_score_xCols14_ident\n"
          ]
        },
        {
          "output_type": "stream",
          "name": "stderr",
          "text": [
            "/usr/local/lib/python3.8/dist-packages/statsmodels/genmod/generalized_linear_model.py:293: DomainWarning: The nbinom link function does not respect the domain of the NegativeBinomial family.\n",
            "  warnings.warn((f\"The {type(family.link).__name__} link function \"\n"
          ]
        },
        {
          "output_type": "stream",
          "name": "stdout",
          "text": [
            "NaN, inf or invalid value detected in endog, estimation infeasible.\n"
          ]
        },
        {
          "output_type": "stream",
          "name": "stderr",
          "text": [
            "/usr/local/lib/python3.8/dist-packages/statsmodels/genmod/generalized_linear_model.py:293: DomainWarning: The Power link function does not respect the domain of the NegativeBinomial family.\n",
            "  warnings.warn((f\"The {type(family.link).__name__} link function \"\n"
          ]
        },
        {
          "output_type": "stream",
          "name": "stdout",
          "text": [
            "NaN, inf or invalid value detected in weights, estimation infeasible.\n"
          ]
        },
        {
          "output_type": "stream",
          "name": "stderr",
          "text": [
            "/usr/local/lib/python3.8/dist-packages/statsmodels/genmod/generalized_linear_model.py:293: DomainWarning: The Power link function does not respect the domain of the NegativeBinomial family.\n",
            "  warnings.warn((f\"The {type(family.link).__name__} link function \"\n"
          ]
        },
        {
          "output_type": "stream",
          "name": "stdout",
          "text": [
            "NaN, inf or invalid value detected in weights, estimation infeasible.\n",
            "Adding negbinom_score_xCols15_log\n"
          ]
        },
        {
          "output_type": "stream",
          "name": "stderr",
          "text": [
            "/usr/local/lib/python3.8/dist-packages/statsmodels/genmod/generalized_linear_model.py:293: DomainWarning: The cloglog link function does not respect the domain of the NegativeBinomial family.\n",
            "  warnings.warn((f\"The {type(family.link).__name__} link function \"\n"
          ]
        },
        {
          "output_type": "stream",
          "name": "stdout",
          "text": [
            "Adding negbinom_score_xCols15_cloglog\n"
          ]
        },
        {
          "output_type": "stream",
          "name": "stderr",
          "text": [
            "/usr/local/lib/python3.8/dist-packages/statsmodels/genmod/generalized_linear_model.py:293: DomainWarning: The identity link function does not respect the domain of the NegativeBinomial family.\n",
            "  warnings.warn((f\"The {type(family.link).__name__} link function \"\n"
          ]
        },
        {
          "output_type": "stream",
          "name": "stdout",
          "text": [
            "Adding negbinom_score_xCols15_ident\n"
          ]
        },
        {
          "output_type": "stream",
          "name": "stderr",
          "text": [
            "/usr/local/lib/python3.8/dist-packages/statsmodels/genmod/generalized_linear_model.py:293: DomainWarning: The nbinom link function does not respect the domain of the NegativeBinomial family.\n",
            "  warnings.warn((f\"The {type(family.link).__name__} link function \"\n"
          ]
        },
        {
          "output_type": "stream",
          "name": "stdout",
          "text": [
            "NaN, inf or invalid value detected in endog, estimation infeasible.\n"
          ]
        },
        {
          "output_type": "stream",
          "name": "stderr",
          "text": [
            "/usr/local/lib/python3.8/dist-packages/statsmodels/genmod/generalized_linear_model.py:293: DomainWarning: The Power link function does not respect the domain of the NegativeBinomial family.\n",
            "  warnings.warn((f\"The {type(family.link).__name__} link function \"\n"
          ]
        },
        {
          "output_type": "stream",
          "name": "stdout",
          "text": [
            "NaN, inf or invalid value detected in weights, estimation infeasible.\n"
          ]
        },
        {
          "output_type": "stream",
          "name": "stderr",
          "text": [
            "/usr/local/lib/python3.8/dist-packages/statsmodels/genmod/generalized_linear_model.py:293: DomainWarning: The Power link function does not respect the domain of the NegativeBinomial family.\n",
            "  warnings.warn((f\"The {type(family.link).__name__} link function \"\n"
          ]
        },
        {
          "output_type": "stream",
          "name": "stdout",
          "text": [
            "NaN, inf or invalid value detected in weights, estimation infeasible.\n",
            "Adding negbinom_score_xCols16_log\n"
          ]
        },
        {
          "output_type": "stream",
          "name": "stderr",
          "text": [
            "/usr/local/lib/python3.8/dist-packages/statsmodels/genmod/generalized_linear_model.py:293: DomainWarning: The cloglog link function does not respect the domain of the NegativeBinomial family.\n",
            "  warnings.warn((f\"The {type(family.link).__name__} link function \"\n"
          ]
        },
        {
          "output_type": "stream",
          "name": "stdout",
          "text": [
            "Adding negbinom_score_xCols16_cloglog\n"
          ]
        },
        {
          "output_type": "stream",
          "name": "stderr",
          "text": [
            "/usr/local/lib/python3.8/dist-packages/statsmodels/genmod/generalized_linear_model.py:293: DomainWarning: The identity link function does not respect the domain of the NegativeBinomial family.\n",
            "  warnings.warn((f\"The {type(family.link).__name__} link function \"\n"
          ]
        },
        {
          "output_type": "stream",
          "name": "stdout",
          "text": [
            "Adding negbinom_score_xCols16_ident\n"
          ]
        },
        {
          "output_type": "stream",
          "name": "stderr",
          "text": [
            "/usr/local/lib/python3.8/dist-packages/statsmodels/genmod/generalized_linear_model.py:293: DomainWarning: The nbinom link function does not respect the domain of the NegativeBinomial family.\n",
            "  warnings.warn((f\"The {type(family.link).__name__} link function \"\n"
          ]
        },
        {
          "output_type": "stream",
          "name": "stdout",
          "text": [
            "NaN, inf or invalid value detected in endog, estimation infeasible.\n"
          ]
        },
        {
          "output_type": "stream",
          "name": "stderr",
          "text": [
            "/usr/local/lib/python3.8/dist-packages/statsmodels/genmod/generalized_linear_model.py:293: DomainWarning: The Power link function does not respect the domain of the NegativeBinomial family.\n",
            "  warnings.warn((f\"The {type(family.link).__name__} link function \"\n"
          ]
        },
        {
          "output_type": "stream",
          "name": "stdout",
          "text": [
            "NaN, inf or invalid value detected in weights, estimation infeasible.\n"
          ]
        },
        {
          "output_type": "stream",
          "name": "stderr",
          "text": [
            "/usr/local/lib/python3.8/dist-packages/statsmodels/genmod/generalized_linear_model.py:293: DomainWarning: The Power link function does not respect the domain of the NegativeBinomial family.\n",
            "  warnings.warn((f\"The {type(family.link).__name__} link function \"\n"
          ]
        },
        {
          "output_type": "stream",
          "name": "stdout",
          "text": [
            "NaN, inf or invalid value detected in weights, estimation infeasible.\n",
            "Adding negbinom_score_xCols17_log\n"
          ]
        },
        {
          "output_type": "stream",
          "name": "stderr",
          "text": [
            "/usr/local/lib/python3.8/dist-packages/statsmodels/genmod/generalized_linear_model.py:293: DomainWarning: The cloglog link function does not respect the domain of the NegativeBinomial family.\n",
            "  warnings.warn((f\"The {type(family.link).__name__} link function \"\n"
          ]
        },
        {
          "output_type": "stream",
          "name": "stdout",
          "text": [
            "Adding negbinom_score_xCols17_cloglog\n"
          ]
        },
        {
          "output_type": "stream",
          "name": "stderr",
          "text": [
            "/usr/local/lib/python3.8/dist-packages/statsmodels/genmod/generalized_linear_model.py:293: DomainWarning: The identity link function does not respect the domain of the NegativeBinomial family.\n",
            "  warnings.warn((f\"The {type(family.link).__name__} link function \"\n"
          ]
        },
        {
          "output_type": "stream",
          "name": "stdout",
          "text": [
            "Adding negbinom_score_xCols17_ident\n"
          ]
        },
        {
          "output_type": "stream",
          "name": "stderr",
          "text": [
            "/usr/local/lib/python3.8/dist-packages/statsmodels/genmod/generalized_linear_model.py:293: DomainWarning: The nbinom link function does not respect the domain of the NegativeBinomial family.\n",
            "  warnings.warn((f\"The {type(family.link).__name__} link function \"\n"
          ]
        },
        {
          "output_type": "stream",
          "name": "stdout",
          "text": [
            "NaN, inf or invalid value detected in endog, estimation infeasible.\n"
          ]
        },
        {
          "output_type": "stream",
          "name": "stderr",
          "text": [
            "/usr/local/lib/python3.8/dist-packages/statsmodels/genmod/generalized_linear_model.py:293: DomainWarning: The Power link function does not respect the domain of the NegativeBinomial family.\n",
            "  warnings.warn((f\"The {type(family.link).__name__} link function \"\n"
          ]
        },
        {
          "output_type": "stream",
          "name": "stdout",
          "text": [
            "NaN, inf or invalid value detected in weights, estimation infeasible.\n"
          ]
        },
        {
          "output_type": "stream",
          "name": "stderr",
          "text": [
            "/usr/local/lib/python3.8/dist-packages/statsmodels/genmod/generalized_linear_model.py:293: DomainWarning: The Power link function does not respect the domain of the NegativeBinomial family.\n",
            "  warnings.warn((f\"The {type(family.link).__name__} link function \"\n"
          ]
        },
        {
          "output_type": "stream",
          "name": "stdout",
          "text": [
            "NaN, inf or invalid value detected in weights, estimation infeasible.\n",
            "Adding negbinom_score_xCols18_log\n"
          ]
        },
        {
          "output_type": "stream",
          "name": "stderr",
          "text": [
            "/usr/local/lib/python3.8/dist-packages/statsmodels/genmod/generalized_linear_model.py:293: DomainWarning: The cloglog link function does not respect the domain of the NegativeBinomial family.\n",
            "  warnings.warn((f\"The {type(family.link).__name__} link function \"\n"
          ]
        },
        {
          "output_type": "stream",
          "name": "stdout",
          "text": [
            "Adding negbinom_score_xCols18_cloglog\n"
          ]
        },
        {
          "output_type": "stream",
          "name": "stderr",
          "text": [
            "/usr/local/lib/python3.8/dist-packages/statsmodels/genmod/generalized_linear_model.py:293: DomainWarning: The identity link function does not respect the domain of the NegativeBinomial family.\n",
            "  warnings.warn((f\"The {type(family.link).__name__} link function \"\n"
          ]
        },
        {
          "output_type": "stream",
          "name": "stdout",
          "text": [
            "Adding negbinom_score_xCols18_ident\n"
          ]
        },
        {
          "output_type": "stream",
          "name": "stderr",
          "text": [
            "/usr/local/lib/python3.8/dist-packages/statsmodels/genmod/generalized_linear_model.py:293: DomainWarning: The nbinom link function does not respect the domain of the NegativeBinomial family.\n",
            "  warnings.warn((f\"The {type(family.link).__name__} link function \"\n"
          ]
        },
        {
          "output_type": "stream",
          "name": "stdout",
          "text": [
            "NaN, inf or invalid value detected in endog, estimation infeasible.\n"
          ]
        },
        {
          "output_type": "stream",
          "name": "stderr",
          "text": [
            "/usr/local/lib/python3.8/dist-packages/statsmodels/genmod/generalized_linear_model.py:293: DomainWarning: The Power link function does not respect the domain of the NegativeBinomial family.\n",
            "  warnings.warn((f\"The {type(family.link).__name__} link function \"\n"
          ]
        },
        {
          "output_type": "stream",
          "name": "stdout",
          "text": [
            "NaN, inf or invalid value detected in weights, estimation infeasible.\n"
          ]
        },
        {
          "output_type": "stream",
          "name": "stderr",
          "text": [
            "/usr/local/lib/python3.8/dist-packages/statsmodels/genmod/generalized_linear_model.py:293: DomainWarning: The Power link function does not respect the domain of the NegativeBinomial family.\n",
            "  warnings.warn((f\"The {type(family.link).__name__} link function \"\n"
          ]
        },
        {
          "output_type": "stream",
          "name": "stdout",
          "text": [
            "NaN, inf or invalid value detected in weights, estimation infeasible.\n",
            "Adding negbinom_score_xCols19_log\n"
          ]
        },
        {
          "output_type": "stream",
          "name": "stderr",
          "text": [
            "/usr/local/lib/python3.8/dist-packages/statsmodels/genmod/generalized_linear_model.py:293: DomainWarning: The cloglog link function does not respect the domain of the NegativeBinomial family.\n",
            "  warnings.warn((f\"The {type(family.link).__name__} link function \"\n"
          ]
        },
        {
          "output_type": "stream",
          "name": "stdout",
          "text": [
            "Adding negbinom_score_xCols19_cloglog\n"
          ]
        },
        {
          "output_type": "stream",
          "name": "stderr",
          "text": [
            "/usr/local/lib/python3.8/dist-packages/statsmodels/genmod/generalized_linear_model.py:293: DomainWarning: The identity link function does not respect the domain of the NegativeBinomial family.\n",
            "  warnings.warn((f\"The {type(family.link).__name__} link function \"\n"
          ]
        },
        {
          "output_type": "stream",
          "name": "stdout",
          "text": [
            "Adding negbinom_score_xCols19_ident\n"
          ]
        },
        {
          "output_type": "stream",
          "name": "stderr",
          "text": [
            "/usr/local/lib/python3.8/dist-packages/statsmodels/genmod/generalized_linear_model.py:293: DomainWarning: The nbinom link function does not respect the domain of the NegativeBinomial family.\n",
            "  warnings.warn((f\"The {type(family.link).__name__} link function \"\n"
          ]
        },
        {
          "output_type": "stream",
          "name": "stdout",
          "text": [
            "NaN, inf or invalid value detected in endog, estimation infeasible.\n"
          ]
        },
        {
          "output_type": "stream",
          "name": "stderr",
          "text": [
            "/usr/local/lib/python3.8/dist-packages/statsmodels/genmod/generalized_linear_model.py:293: DomainWarning: The Power link function does not respect the domain of the NegativeBinomial family.\n",
            "  warnings.warn((f\"The {type(family.link).__name__} link function \"\n"
          ]
        },
        {
          "output_type": "stream",
          "name": "stdout",
          "text": [
            "NaN, inf or invalid value detected in weights, estimation infeasible.\n"
          ]
        },
        {
          "output_type": "stream",
          "name": "stderr",
          "text": [
            "/usr/local/lib/python3.8/dist-packages/statsmodels/genmod/generalized_linear_model.py:293: DomainWarning: The Power link function does not respect the domain of the NegativeBinomial family.\n",
            "  warnings.warn((f\"The {type(family.link).__name__} link function \"\n"
          ]
        },
        {
          "output_type": "stream",
          "name": "stdout",
          "text": [
            "NaN, inf or invalid value detected in weights, estimation infeasible.\n",
            "Adding negbinom_score_xCols20_log\n"
          ]
        },
        {
          "output_type": "stream",
          "name": "stderr",
          "text": [
            "/usr/local/lib/python3.8/dist-packages/statsmodels/genmod/generalized_linear_model.py:293: DomainWarning: The cloglog link function does not respect the domain of the NegativeBinomial family.\n",
            "  warnings.warn((f\"The {type(family.link).__name__} link function \"\n"
          ]
        },
        {
          "output_type": "stream",
          "name": "stdout",
          "text": [
            "Adding negbinom_score_xCols20_cloglog\n"
          ]
        },
        {
          "output_type": "stream",
          "name": "stderr",
          "text": [
            "/usr/local/lib/python3.8/dist-packages/statsmodels/genmod/generalized_linear_model.py:293: DomainWarning: The identity link function does not respect the domain of the NegativeBinomial family.\n",
            "  warnings.warn((f\"The {type(family.link).__name__} link function \"\n"
          ]
        },
        {
          "output_type": "stream",
          "name": "stdout",
          "text": [
            "Adding negbinom_score_xCols20_ident\n"
          ]
        },
        {
          "output_type": "stream",
          "name": "stderr",
          "text": [
            "/usr/local/lib/python3.8/dist-packages/statsmodels/genmod/generalized_linear_model.py:293: DomainWarning: The nbinom link function does not respect the domain of the NegativeBinomial family.\n",
            "  warnings.warn((f\"The {type(family.link).__name__} link function \"\n"
          ]
        },
        {
          "output_type": "stream",
          "name": "stdout",
          "text": [
            "NaN, inf or invalid value detected in endog, estimation infeasible.\n"
          ]
        },
        {
          "output_type": "stream",
          "name": "stderr",
          "text": [
            "/usr/local/lib/python3.8/dist-packages/statsmodels/genmod/generalized_linear_model.py:293: DomainWarning: The Power link function does not respect the domain of the NegativeBinomial family.\n",
            "  warnings.warn((f\"The {type(family.link).__name__} link function \"\n"
          ]
        },
        {
          "output_type": "stream",
          "name": "stdout",
          "text": [
            "NaN, inf or invalid value detected in weights, estimation infeasible.\n"
          ]
        },
        {
          "output_type": "stream",
          "name": "stderr",
          "text": [
            "/usr/local/lib/python3.8/dist-packages/statsmodels/genmod/generalized_linear_model.py:293: DomainWarning: The Power link function does not respect the domain of the NegativeBinomial family.\n",
            "  warnings.warn((f\"The {type(family.link).__name__} link function \"\n"
          ]
        },
        {
          "output_type": "stream",
          "name": "stdout",
          "text": [
            "NaN, inf or invalid value detected in weights, estimation infeasible.\n",
            "Adding negbinom_score_xCols21_log\n"
          ]
        },
        {
          "output_type": "stream",
          "name": "stderr",
          "text": [
            "/usr/local/lib/python3.8/dist-packages/statsmodels/genmod/generalized_linear_model.py:293: DomainWarning: The cloglog link function does not respect the domain of the NegativeBinomial family.\n",
            "  warnings.warn((f\"The {type(family.link).__name__} link function \"\n"
          ]
        },
        {
          "output_type": "stream",
          "name": "stdout",
          "text": [
            "Adding negbinom_score_xCols21_cloglog\n"
          ]
        },
        {
          "output_type": "stream",
          "name": "stderr",
          "text": [
            "/usr/local/lib/python3.8/dist-packages/statsmodels/genmod/generalized_linear_model.py:293: DomainWarning: The identity link function does not respect the domain of the NegativeBinomial family.\n",
            "  warnings.warn((f\"The {type(family.link).__name__} link function \"\n"
          ]
        },
        {
          "output_type": "stream",
          "name": "stdout",
          "text": [
            "Adding negbinom_score_xCols21_ident\n"
          ]
        },
        {
          "output_type": "stream",
          "name": "stderr",
          "text": [
            "/usr/local/lib/python3.8/dist-packages/statsmodels/genmod/generalized_linear_model.py:293: DomainWarning: The nbinom link function does not respect the domain of the NegativeBinomial family.\n",
            "  warnings.warn((f\"The {type(family.link).__name__} link function \"\n"
          ]
        },
        {
          "output_type": "stream",
          "name": "stdout",
          "text": [
            "NaN, inf or invalid value detected in endog, estimation infeasible.\n"
          ]
        },
        {
          "output_type": "stream",
          "name": "stderr",
          "text": [
            "/usr/local/lib/python3.8/dist-packages/statsmodels/genmod/generalized_linear_model.py:293: DomainWarning: The Power link function does not respect the domain of the NegativeBinomial family.\n",
            "  warnings.warn((f\"The {type(family.link).__name__} link function \"\n"
          ]
        },
        {
          "output_type": "stream",
          "name": "stdout",
          "text": [
            "NaN, inf or invalid value detected in weights, estimation infeasible.\n"
          ]
        },
        {
          "output_type": "stream",
          "name": "stderr",
          "text": [
            "/usr/local/lib/python3.8/dist-packages/statsmodels/genmod/generalized_linear_model.py:293: DomainWarning: The Power link function does not respect the domain of the NegativeBinomial family.\n",
            "  warnings.warn((f\"The {type(family.link).__name__} link function \"\n"
          ]
        },
        {
          "output_type": "stream",
          "name": "stdout",
          "text": [
            "NaN, inf or invalid value detected in weights, estimation infeasible.\n",
            "Adding negbinom_score_xCols22_log\n"
          ]
        },
        {
          "output_type": "stream",
          "name": "stderr",
          "text": [
            "/usr/local/lib/python3.8/dist-packages/statsmodels/genmod/generalized_linear_model.py:293: DomainWarning: The cloglog link function does not respect the domain of the NegativeBinomial family.\n",
            "  warnings.warn((f\"The {type(family.link).__name__} link function \"\n"
          ]
        },
        {
          "output_type": "stream",
          "name": "stdout",
          "text": [
            "Adding negbinom_score_xCols22_cloglog\n"
          ]
        },
        {
          "output_type": "stream",
          "name": "stderr",
          "text": [
            "/usr/local/lib/python3.8/dist-packages/statsmodels/genmod/generalized_linear_model.py:293: DomainWarning: The identity link function does not respect the domain of the NegativeBinomial family.\n",
            "  warnings.warn((f\"The {type(family.link).__name__} link function \"\n"
          ]
        },
        {
          "output_type": "stream",
          "name": "stdout",
          "text": [
            "Adding negbinom_score_xCols22_ident\n"
          ]
        },
        {
          "output_type": "stream",
          "name": "stderr",
          "text": [
            "/usr/local/lib/python3.8/dist-packages/statsmodels/genmod/generalized_linear_model.py:293: DomainWarning: The nbinom link function does not respect the domain of the NegativeBinomial family.\n",
            "  warnings.warn((f\"The {type(family.link).__name__} link function \"\n"
          ]
        },
        {
          "output_type": "stream",
          "name": "stdout",
          "text": [
            "NaN, inf or invalid value detected in endog, estimation infeasible.\n"
          ]
        },
        {
          "output_type": "stream",
          "name": "stderr",
          "text": [
            "/usr/local/lib/python3.8/dist-packages/statsmodels/genmod/generalized_linear_model.py:293: DomainWarning: The Power link function does not respect the domain of the NegativeBinomial family.\n",
            "  warnings.warn((f\"The {type(family.link).__name__} link function \"\n"
          ]
        },
        {
          "output_type": "stream",
          "name": "stdout",
          "text": [
            "NaN, inf or invalid value detected in weights, estimation infeasible.\n"
          ]
        },
        {
          "output_type": "stream",
          "name": "stderr",
          "text": [
            "/usr/local/lib/python3.8/dist-packages/statsmodels/genmod/generalized_linear_model.py:293: DomainWarning: The Power link function does not respect the domain of the NegativeBinomial family.\n",
            "  warnings.warn((f\"The {type(family.link).__name__} link function \"\n"
          ]
        },
        {
          "output_type": "stream",
          "name": "stdout",
          "text": [
            "NaN, inf or invalid value detected in weights, estimation infeasible.\n",
            "Adding negbinom_score_xCols23_log\n"
          ]
        },
        {
          "output_type": "stream",
          "name": "stderr",
          "text": [
            "/usr/local/lib/python3.8/dist-packages/statsmodels/genmod/generalized_linear_model.py:293: DomainWarning: The cloglog link function does not respect the domain of the NegativeBinomial family.\n",
            "  warnings.warn((f\"The {type(family.link).__name__} link function \"\n"
          ]
        },
        {
          "output_type": "stream",
          "name": "stdout",
          "text": [
            "Adding negbinom_score_xCols23_cloglog\n"
          ]
        },
        {
          "output_type": "stream",
          "name": "stderr",
          "text": [
            "/usr/local/lib/python3.8/dist-packages/statsmodels/genmod/generalized_linear_model.py:293: DomainWarning: The identity link function does not respect the domain of the NegativeBinomial family.\n",
            "  warnings.warn((f\"The {type(family.link).__name__} link function \"\n"
          ]
        },
        {
          "output_type": "stream",
          "name": "stdout",
          "text": [
            "Adding negbinom_score_xCols23_ident\n"
          ]
        },
        {
          "output_type": "stream",
          "name": "stderr",
          "text": [
            "/usr/local/lib/python3.8/dist-packages/statsmodels/genmod/generalized_linear_model.py:293: DomainWarning: The nbinom link function does not respect the domain of the NegativeBinomial family.\n",
            "  warnings.warn((f\"The {type(family.link).__name__} link function \"\n"
          ]
        },
        {
          "output_type": "stream",
          "name": "stdout",
          "text": [
            "NaN, inf or invalid value detected in endog, estimation infeasible.\n"
          ]
        },
        {
          "output_type": "stream",
          "name": "stderr",
          "text": [
            "/usr/local/lib/python3.8/dist-packages/statsmodels/genmod/generalized_linear_model.py:293: DomainWarning: The Power link function does not respect the domain of the NegativeBinomial family.\n",
            "  warnings.warn((f\"The {type(family.link).__name__} link function \"\n"
          ]
        },
        {
          "output_type": "stream",
          "name": "stdout",
          "text": [
            "NaN, inf or invalid value detected in weights, estimation infeasible.\n"
          ]
        },
        {
          "output_type": "stream",
          "name": "stderr",
          "text": [
            "/usr/local/lib/python3.8/dist-packages/statsmodels/genmod/generalized_linear_model.py:293: DomainWarning: The Power link function does not respect the domain of the NegativeBinomial family.\n",
            "  warnings.warn((f\"The {type(family.link).__name__} link function \"\n"
          ]
        },
        {
          "output_type": "stream",
          "name": "stdout",
          "text": [
            "NaN, inf or invalid value detected in weights, estimation infeasible.\n",
            "Adding negbinom_score_xCols24_log\n"
          ]
        },
        {
          "output_type": "stream",
          "name": "stderr",
          "text": [
            "/usr/local/lib/python3.8/dist-packages/statsmodels/genmod/generalized_linear_model.py:293: DomainWarning: The cloglog link function does not respect the domain of the NegativeBinomial family.\n",
            "  warnings.warn((f\"The {type(family.link).__name__} link function \"\n"
          ]
        },
        {
          "output_type": "stream",
          "name": "stdout",
          "text": [
            "Adding negbinom_score_xCols24_cloglog\n"
          ]
        },
        {
          "output_type": "stream",
          "name": "stderr",
          "text": [
            "/usr/local/lib/python3.8/dist-packages/statsmodels/genmod/generalized_linear_model.py:293: DomainWarning: The identity link function does not respect the domain of the NegativeBinomial family.\n",
            "  warnings.warn((f\"The {type(family.link).__name__} link function \"\n"
          ]
        },
        {
          "output_type": "stream",
          "name": "stdout",
          "text": [
            "Adding negbinom_score_xCols24_ident\n"
          ]
        },
        {
          "output_type": "stream",
          "name": "stderr",
          "text": [
            "/usr/local/lib/python3.8/dist-packages/statsmodels/genmod/generalized_linear_model.py:293: DomainWarning: The nbinom link function does not respect the domain of the NegativeBinomial family.\n",
            "  warnings.warn((f\"The {type(family.link).__name__} link function \"\n"
          ]
        },
        {
          "output_type": "stream",
          "name": "stdout",
          "text": [
            "NaN, inf or invalid value detected in endog, estimation infeasible.\n"
          ]
        },
        {
          "output_type": "stream",
          "name": "stderr",
          "text": [
            "/usr/local/lib/python3.8/dist-packages/statsmodels/genmod/generalized_linear_model.py:293: DomainWarning: The Power link function does not respect the domain of the NegativeBinomial family.\n",
            "  warnings.warn((f\"The {type(family.link).__name__} link function \"\n"
          ]
        },
        {
          "output_type": "stream",
          "name": "stdout",
          "text": [
            "NaN, inf or invalid value detected in weights, estimation infeasible.\n"
          ]
        },
        {
          "output_type": "stream",
          "name": "stderr",
          "text": [
            "/usr/local/lib/python3.8/dist-packages/statsmodels/genmod/generalized_linear_model.py:293: DomainWarning: The Power link function does not respect the domain of the NegativeBinomial family.\n",
            "  warnings.warn((f\"The {type(family.link).__name__} link function \"\n"
          ]
        },
        {
          "output_type": "stream",
          "name": "stdout",
          "text": [
            "NaN, inf or invalid value detected in weights, estimation infeasible.\n",
            "Adding negbinom_score_xCols25_log\n"
          ]
        },
        {
          "output_type": "stream",
          "name": "stderr",
          "text": [
            "/usr/local/lib/python3.8/dist-packages/statsmodels/genmod/generalized_linear_model.py:293: DomainWarning: The cloglog link function does not respect the domain of the NegativeBinomial family.\n",
            "  warnings.warn((f\"The {type(family.link).__name__} link function \"\n"
          ]
        },
        {
          "output_type": "stream",
          "name": "stdout",
          "text": [
            "Adding negbinom_score_xCols25_cloglog\n"
          ]
        },
        {
          "output_type": "stream",
          "name": "stderr",
          "text": [
            "/usr/local/lib/python3.8/dist-packages/statsmodels/genmod/generalized_linear_model.py:293: DomainWarning: The identity link function does not respect the domain of the NegativeBinomial family.\n",
            "  warnings.warn((f\"The {type(family.link).__name__} link function \"\n"
          ]
        },
        {
          "output_type": "stream",
          "name": "stdout",
          "text": [
            "Adding negbinom_score_xCols25_ident\n"
          ]
        },
        {
          "output_type": "stream",
          "name": "stderr",
          "text": [
            "/usr/local/lib/python3.8/dist-packages/statsmodels/genmod/generalized_linear_model.py:293: DomainWarning: The nbinom link function does not respect the domain of the NegativeBinomial family.\n",
            "  warnings.warn((f\"The {type(family.link).__name__} link function \"\n"
          ]
        },
        {
          "output_type": "stream",
          "name": "stdout",
          "text": [
            "NaN, inf or invalid value detected in endog, estimation infeasible.\n"
          ]
        },
        {
          "output_type": "stream",
          "name": "stderr",
          "text": [
            "/usr/local/lib/python3.8/dist-packages/statsmodels/genmod/generalized_linear_model.py:293: DomainWarning: The Power link function does not respect the domain of the NegativeBinomial family.\n",
            "  warnings.warn((f\"The {type(family.link).__name__} link function \"\n"
          ]
        },
        {
          "output_type": "stream",
          "name": "stdout",
          "text": [
            "NaN, inf or invalid value detected in weights, estimation infeasible.\n"
          ]
        },
        {
          "output_type": "stream",
          "name": "stderr",
          "text": [
            "/usr/local/lib/python3.8/dist-packages/statsmodels/genmod/generalized_linear_model.py:293: DomainWarning: The Power link function does not respect the domain of the NegativeBinomial family.\n",
            "  warnings.warn((f\"The {type(family.link).__name__} link function \"\n"
          ]
        },
        {
          "output_type": "stream",
          "name": "stdout",
          "text": [
            "NaN, inf or invalid value detected in weights, estimation infeasible.\n",
            "Adding negbinom_score_xCols26_log\n"
          ]
        },
        {
          "output_type": "stream",
          "name": "stderr",
          "text": [
            "/usr/local/lib/python3.8/dist-packages/statsmodels/genmod/generalized_linear_model.py:293: DomainWarning: The cloglog link function does not respect the domain of the NegativeBinomial family.\n",
            "  warnings.warn((f\"The {type(family.link).__name__} link function \"\n"
          ]
        },
        {
          "output_type": "stream",
          "name": "stdout",
          "text": [
            "Adding negbinom_score_xCols26_cloglog\n"
          ]
        },
        {
          "output_type": "stream",
          "name": "stderr",
          "text": [
            "/usr/local/lib/python3.8/dist-packages/statsmodels/genmod/generalized_linear_model.py:293: DomainWarning: The identity link function does not respect the domain of the NegativeBinomial family.\n",
            "  warnings.warn((f\"The {type(family.link).__name__} link function \"\n"
          ]
        },
        {
          "output_type": "stream",
          "name": "stdout",
          "text": [
            "Adding negbinom_score_xCols26_ident\n"
          ]
        },
        {
          "output_type": "stream",
          "name": "stderr",
          "text": [
            "/usr/local/lib/python3.8/dist-packages/statsmodels/genmod/generalized_linear_model.py:293: DomainWarning: The nbinom link function does not respect the domain of the NegativeBinomial family.\n",
            "  warnings.warn((f\"The {type(family.link).__name__} link function \"\n"
          ]
        },
        {
          "output_type": "stream",
          "name": "stdout",
          "text": [
            "NaN, inf or invalid value detected in endog, estimation infeasible.\n"
          ]
        },
        {
          "output_type": "stream",
          "name": "stderr",
          "text": [
            "/usr/local/lib/python3.8/dist-packages/statsmodels/genmod/generalized_linear_model.py:293: DomainWarning: The Power link function does not respect the domain of the NegativeBinomial family.\n",
            "  warnings.warn((f\"The {type(family.link).__name__} link function \"\n"
          ]
        },
        {
          "output_type": "stream",
          "name": "stdout",
          "text": [
            "NaN, inf or invalid value detected in weights, estimation infeasible.\n"
          ]
        },
        {
          "output_type": "stream",
          "name": "stderr",
          "text": [
            "/usr/local/lib/python3.8/dist-packages/statsmodels/genmod/generalized_linear_model.py:293: DomainWarning: The Power link function does not respect the domain of the NegativeBinomial family.\n",
            "  warnings.warn((f\"The {type(family.link).__name__} link function \"\n"
          ]
        },
        {
          "output_type": "stream",
          "name": "stdout",
          "text": [
            "NaN, inf or invalid value detected in weights, estimation infeasible.\n",
            "Adding negbinom_score_xCols27_log\n"
          ]
        },
        {
          "output_type": "stream",
          "name": "stderr",
          "text": [
            "/usr/local/lib/python3.8/dist-packages/statsmodels/genmod/generalized_linear_model.py:293: DomainWarning: The cloglog link function does not respect the domain of the NegativeBinomial family.\n",
            "  warnings.warn((f\"The {type(family.link).__name__} link function \"\n"
          ]
        },
        {
          "output_type": "stream",
          "name": "stdout",
          "text": [
            "Adding negbinom_score_xCols27_cloglog\n"
          ]
        },
        {
          "output_type": "stream",
          "name": "stderr",
          "text": [
            "/usr/local/lib/python3.8/dist-packages/statsmodels/genmod/generalized_linear_model.py:293: DomainWarning: The identity link function does not respect the domain of the NegativeBinomial family.\n",
            "  warnings.warn((f\"The {type(family.link).__name__} link function \"\n"
          ]
        },
        {
          "output_type": "stream",
          "name": "stdout",
          "text": [
            "Adding negbinom_score_xCols27_ident\n"
          ]
        },
        {
          "output_type": "stream",
          "name": "stderr",
          "text": [
            "/usr/local/lib/python3.8/dist-packages/statsmodels/genmod/generalized_linear_model.py:293: DomainWarning: The nbinom link function does not respect the domain of the NegativeBinomial family.\n",
            "  warnings.warn((f\"The {type(family.link).__name__} link function \"\n"
          ]
        },
        {
          "output_type": "stream",
          "name": "stdout",
          "text": [
            "NaN, inf or invalid value detected in endog, estimation infeasible.\n"
          ]
        },
        {
          "output_type": "stream",
          "name": "stderr",
          "text": [
            "/usr/local/lib/python3.8/dist-packages/statsmodels/genmod/generalized_linear_model.py:293: DomainWarning: The Power link function does not respect the domain of the NegativeBinomial family.\n",
            "  warnings.warn((f\"The {type(family.link).__name__} link function \"\n"
          ]
        },
        {
          "output_type": "stream",
          "name": "stdout",
          "text": [
            "NaN, inf or invalid value detected in weights, estimation infeasible.\n"
          ]
        },
        {
          "output_type": "stream",
          "name": "stderr",
          "text": [
            "/usr/local/lib/python3.8/dist-packages/statsmodels/genmod/generalized_linear_model.py:293: DomainWarning: The Power link function does not respect the domain of the NegativeBinomial family.\n",
            "  warnings.warn((f\"The {type(family.link).__name__} link function \"\n"
          ]
        },
        {
          "output_type": "stream",
          "name": "stdout",
          "text": [
            "NaN, inf or invalid value detected in weights, estimation infeasible.\n",
            "Adding negbinom_score_xCols28_log\n"
          ]
        },
        {
          "output_type": "stream",
          "name": "stderr",
          "text": [
            "/usr/local/lib/python3.8/dist-packages/statsmodels/genmod/generalized_linear_model.py:293: DomainWarning: The cloglog link function does not respect the domain of the NegativeBinomial family.\n",
            "  warnings.warn((f\"The {type(family.link).__name__} link function \"\n"
          ]
        },
        {
          "output_type": "stream",
          "name": "stdout",
          "text": [
            "Adding negbinom_score_xCols28_cloglog\n"
          ]
        },
        {
          "output_type": "stream",
          "name": "stderr",
          "text": [
            "/usr/local/lib/python3.8/dist-packages/statsmodels/genmod/generalized_linear_model.py:293: DomainWarning: The identity link function does not respect the domain of the NegativeBinomial family.\n",
            "  warnings.warn((f\"The {type(family.link).__name__} link function \"\n"
          ]
        },
        {
          "output_type": "stream",
          "name": "stdout",
          "text": [
            "Adding negbinom_score_xCols28_ident\n"
          ]
        },
        {
          "output_type": "stream",
          "name": "stderr",
          "text": [
            "/usr/local/lib/python3.8/dist-packages/statsmodels/genmod/generalized_linear_model.py:293: DomainWarning: The nbinom link function does not respect the domain of the NegativeBinomial family.\n",
            "  warnings.warn((f\"The {type(family.link).__name__} link function \"\n"
          ]
        },
        {
          "output_type": "stream",
          "name": "stdout",
          "text": [
            "NaN, inf or invalid value detected in endog, estimation infeasible.\n"
          ]
        },
        {
          "output_type": "stream",
          "name": "stderr",
          "text": [
            "/usr/local/lib/python3.8/dist-packages/statsmodels/genmod/generalized_linear_model.py:293: DomainWarning: The Power link function does not respect the domain of the NegativeBinomial family.\n",
            "  warnings.warn((f\"The {type(family.link).__name__} link function \"\n"
          ]
        },
        {
          "output_type": "stream",
          "name": "stdout",
          "text": [
            "NaN, inf or invalid value detected in weights, estimation infeasible.\n"
          ]
        },
        {
          "output_type": "stream",
          "name": "stderr",
          "text": [
            "/usr/local/lib/python3.8/dist-packages/statsmodels/genmod/generalized_linear_model.py:293: DomainWarning: The Power link function does not respect the domain of the NegativeBinomial family.\n",
            "  warnings.warn((f\"The {type(family.link).__name__} link function \"\n"
          ]
        },
        {
          "output_type": "stream",
          "name": "stdout",
          "text": [
            "NaN, inf or invalid value detected in weights, estimation infeasible.\n",
            "Adding negbinom_score_xCols29_log\n"
          ]
        },
        {
          "output_type": "stream",
          "name": "stderr",
          "text": [
            "/usr/local/lib/python3.8/dist-packages/statsmodels/genmod/generalized_linear_model.py:293: DomainWarning: The cloglog link function does not respect the domain of the NegativeBinomial family.\n",
            "  warnings.warn((f\"The {type(family.link).__name__} link function \"\n"
          ]
        },
        {
          "output_type": "stream",
          "name": "stdout",
          "text": [
            "Adding negbinom_score_xCols29_cloglog\n"
          ]
        },
        {
          "output_type": "stream",
          "name": "stderr",
          "text": [
            "/usr/local/lib/python3.8/dist-packages/statsmodels/genmod/generalized_linear_model.py:293: DomainWarning: The identity link function does not respect the domain of the NegativeBinomial family.\n",
            "  warnings.warn((f\"The {type(family.link).__name__} link function \"\n"
          ]
        },
        {
          "output_type": "stream",
          "name": "stdout",
          "text": [
            "Adding negbinom_score_xCols29_ident\n"
          ]
        },
        {
          "output_type": "stream",
          "name": "stderr",
          "text": [
            "/usr/local/lib/python3.8/dist-packages/statsmodels/genmod/generalized_linear_model.py:293: DomainWarning: The nbinom link function does not respect the domain of the NegativeBinomial family.\n",
            "  warnings.warn((f\"The {type(family.link).__name__} link function \"\n"
          ]
        },
        {
          "output_type": "stream",
          "name": "stdout",
          "text": [
            "NaN, inf or invalid value detected in endog, estimation infeasible.\n"
          ]
        },
        {
          "output_type": "stream",
          "name": "stderr",
          "text": [
            "/usr/local/lib/python3.8/dist-packages/statsmodels/genmod/generalized_linear_model.py:293: DomainWarning: The Power link function does not respect the domain of the NegativeBinomial family.\n",
            "  warnings.warn((f\"The {type(family.link).__name__} link function \"\n"
          ]
        },
        {
          "output_type": "stream",
          "name": "stdout",
          "text": [
            "NaN, inf or invalid value detected in weights, estimation infeasible.\n"
          ]
        },
        {
          "output_type": "stream",
          "name": "stderr",
          "text": [
            "/usr/local/lib/python3.8/dist-packages/statsmodels/genmod/generalized_linear_model.py:293: DomainWarning: The Power link function does not respect the domain of the NegativeBinomial family.\n",
            "  warnings.warn((f\"The {type(family.link).__name__} link function \"\n"
          ]
        },
        {
          "output_type": "stream",
          "name": "stdout",
          "text": [
            "NaN, inf or invalid value detected in weights, estimation infeasible.\n",
            "Adding negbinom_score_xCols30_log\n"
          ]
        },
        {
          "output_type": "stream",
          "name": "stderr",
          "text": [
            "/usr/local/lib/python3.8/dist-packages/statsmodels/genmod/generalized_linear_model.py:293: DomainWarning: The cloglog link function does not respect the domain of the NegativeBinomial family.\n",
            "  warnings.warn((f\"The {type(family.link).__name__} link function \"\n"
          ]
        },
        {
          "output_type": "stream",
          "name": "stdout",
          "text": [
            "Adding negbinom_score_xCols30_cloglog\n"
          ]
        },
        {
          "output_type": "stream",
          "name": "stderr",
          "text": [
            "/usr/local/lib/python3.8/dist-packages/statsmodels/genmod/generalized_linear_model.py:293: DomainWarning: The identity link function does not respect the domain of the NegativeBinomial family.\n",
            "  warnings.warn((f\"The {type(family.link).__name__} link function \"\n"
          ]
        },
        {
          "output_type": "stream",
          "name": "stdout",
          "text": [
            "Adding negbinom_score_xCols30_ident\n"
          ]
        },
        {
          "output_type": "stream",
          "name": "stderr",
          "text": [
            "/usr/local/lib/python3.8/dist-packages/statsmodels/genmod/generalized_linear_model.py:293: DomainWarning: The nbinom link function does not respect the domain of the NegativeBinomial family.\n",
            "  warnings.warn((f\"The {type(family.link).__name__} link function \"\n"
          ]
        },
        {
          "output_type": "stream",
          "name": "stdout",
          "text": [
            "NaN, inf or invalid value detected in endog, estimation infeasible.\n"
          ]
        },
        {
          "output_type": "stream",
          "name": "stderr",
          "text": [
            "/usr/local/lib/python3.8/dist-packages/statsmodels/genmod/generalized_linear_model.py:293: DomainWarning: The Power link function does not respect the domain of the NegativeBinomial family.\n",
            "  warnings.warn((f\"The {type(family.link).__name__} link function \"\n"
          ]
        },
        {
          "output_type": "stream",
          "name": "stdout",
          "text": [
            "NaN, inf or invalid value detected in weights, estimation infeasible.\n"
          ]
        },
        {
          "output_type": "stream",
          "name": "stderr",
          "text": [
            "/usr/local/lib/python3.8/dist-packages/statsmodels/genmod/generalized_linear_model.py:293: DomainWarning: The Power link function does not respect the domain of the NegativeBinomial family.\n",
            "  warnings.warn((f\"The {type(family.link).__name__} link function \"\n"
          ]
        },
        {
          "output_type": "stream",
          "name": "stdout",
          "text": [
            "NaN, inf or invalid value detected in weights, estimation infeasible.\n",
            "Adding negbinom_score_xCols31_log\n"
          ]
        },
        {
          "output_type": "stream",
          "name": "stderr",
          "text": [
            "/usr/local/lib/python3.8/dist-packages/statsmodels/genmod/generalized_linear_model.py:293: DomainWarning: The cloglog link function does not respect the domain of the NegativeBinomial family.\n",
            "  warnings.warn((f\"The {type(family.link).__name__} link function \"\n"
          ]
        },
        {
          "output_type": "stream",
          "name": "stdout",
          "text": [
            "Adding negbinom_score_xCols31_cloglog\n"
          ]
        },
        {
          "output_type": "stream",
          "name": "stderr",
          "text": [
            "/usr/local/lib/python3.8/dist-packages/statsmodels/genmod/generalized_linear_model.py:293: DomainWarning: The identity link function does not respect the domain of the NegativeBinomial family.\n",
            "  warnings.warn((f\"The {type(family.link).__name__} link function \"\n"
          ]
        },
        {
          "output_type": "stream",
          "name": "stdout",
          "text": [
            "Adding negbinom_score_xCols31_ident\n"
          ]
        },
        {
          "output_type": "stream",
          "name": "stderr",
          "text": [
            "/usr/local/lib/python3.8/dist-packages/statsmodels/genmod/generalized_linear_model.py:293: DomainWarning: The nbinom link function does not respect the domain of the NegativeBinomial family.\n",
            "  warnings.warn((f\"The {type(family.link).__name__} link function \"\n"
          ]
        },
        {
          "output_type": "stream",
          "name": "stdout",
          "text": [
            "NaN, inf or invalid value detected in endog, estimation infeasible.\n"
          ]
        },
        {
          "output_type": "stream",
          "name": "stderr",
          "text": [
            "/usr/local/lib/python3.8/dist-packages/statsmodels/genmod/generalized_linear_model.py:293: DomainWarning: The Power link function does not respect the domain of the NegativeBinomial family.\n",
            "  warnings.warn((f\"The {type(family.link).__name__} link function \"\n"
          ]
        },
        {
          "output_type": "stream",
          "name": "stdout",
          "text": [
            "NaN, inf or invalid value detected in weights, estimation infeasible.\n"
          ]
        },
        {
          "output_type": "stream",
          "name": "stderr",
          "text": [
            "/usr/local/lib/python3.8/dist-packages/statsmodels/genmod/generalized_linear_model.py:293: DomainWarning: The Power link function does not respect the domain of the NegativeBinomial family.\n",
            "  warnings.warn((f\"The {type(family.link).__name__} link function \"\n"
          ]
        },
        {
          "output_type": "stream",
          "name": "stdout",
          "text": [
            "NaN, inf or invalid value detected in weights, estimation infeasible.\n",
            "Adding negbinom_score_xCols0Cent_log\n"
          ]
        },
        {
          "output_type": "stream",
          "name": "stderr",
          "text": [
            "/usr/local/lib/python3.8/dist-packages/statsmodels/genmod/generalized_linear_model.py:293: DomainWarning: The cloglog link function does not respect the domain of the NegativeBinomial family.\n",
            "  warnings.warn((f\"The {type(family.link).__name__} link function \"\n"
          ]
        },
        {
          "output_type": "stream",
          "name": "stdout",
          "text": [
            "Adding negbinom_score_xCols0Cent_cloglog\n"
          ]
        },
        {
          "output_type": "stream",
          "name": "stderr",
          "text": [
            "/usr/local/lib/python3.8/dist-packages/statsmodels/genmod/generalized_linear_model.py:293: DomainWarning: The identity link function does not respect the domain of the NegativeBinomial family.\n",
            "  warnings.warn((f\"The {type(family.link).__name__} link function \"\n"
          ]
        },
        {
          "output_type": "stream",
          "name": "stdout",
          "text": [
            "Adding negbinom_score_xCols0Cent_ident\n"
          ]
        },
        {
          "output_type": "stream",
          "name": "stderr",
          "text": [
            "/usr/local/lib/python3.8/dist-packages/statsmodels/genmod/generalized_linear_model.py:293: DomainWarning: The nbinom link function does not respect the domain of the NegativeBinomial family.\n",
            "  warnings.warn((f\"The {type(family.link).__name__} link function \"\n"
          ]
        },
        {
          "output_type": "stream",
          "name": "stdout",
          "text": [
            "NaN, inf or invalid value detected in endog, estimation infeasible.\n"
          ]
        },
        {
          "output_type": "stream",
          "name": "stderr",
          "text": [
            "/usr/local/lib/python3.8/dist-packages/statsmodels/genmod/generalized_linear_model.py:293: DomainWarning: The Power link function does not respect the domain of the NegativeBinomial family.\n",
            "  warnings.warn((f\"The {type(family.link).__name__} link function \"\n"
          ]
        },
        {
          "output_type": "stream",
          "name": "stdout",
          "text": [
            "NaN, inf or invalid value detected in weights, estimation infeasible.\n"
          ]
        },
        {
          "output_type": "stream",
          "name": "stderr",
          "text": [
            "/usr/local/lib/python3.8/dist-packages/statsmodels/genmod/generalized_linear_model.py:293: DomainWarning: The Power link function does not respect the domain of the NegativeBinomial family.\n",
            "  warnings.warn((f\"The {type(family.link).__name__} link function \"\n"
          ]
        },
        {
          "output_type": "stream",
          "name": "stdout",
          "text": [
            "NaN, inf or invalid value detected in weights, estimation infeasible.\n",
            "Adding negbinom_score_xCols32Cent_log\n"
          ]
        },
        {
          "output_type": "stream",
          "name": "stderr",
          "text": [
            "/usr/local/lib/python3.8/dist-packages/statsmodels/genmod/generalized_linear_model.py:293: DomainWarning: The cloglog link function does not respect the domain of the NegativeBinomial family.\n",
            "  warnings.warn((f\"The {type(family.link).__name__} link function \"\n"
          ]
        },
        {
          "output_type": "stream",
          "name": "stdout",
          "text": [
            "Adding negbinom_score_xCols32Cent_cloglog\n"
          ]
        },
        {
          "output_type": "stream",
          "name": "stderr",
          "text": [
            "/usr/local/lib/python3.8/dist-packages/statsmodels/genmod/generalized_linear_model.py:293: DomainWarning: The identity link function does not respect the domain of the NegativeBinomial family.\n",
            "  warnings.warn((f\"The {type(family.link).__name__} link function \"\n"
          ]
        },
        {
          "output_type": "stream",
          "name": "stdout",
          "text": [
            "Adding negbinom_score_xCols32Cent_ident\n"
          ]
        },
        {
          "output_type": "stream",
          "name": "stderr",
          "text": [
            "/usr/local/lib/python3.8/dist-packages/statsmodels/genmod/generalized_linear_model.py:293: DomainWarning: The nbinom link function does not respect the domain of the NegativeBinomial family.\n",
            "  warnings.warn((f\"The {type(family.link).__name__} link function \"\n"
          ]
        },
        {
          "output_type": "stream",
          "name": "stdout",
          "text": [
            "NaN, inf or invalid value detected in endog, estimation infeasible.\n"
          ]
        },
        {
          "output_type": "stream",
          "name": "stderr",
          "text": [
            "/usr/local/lib/python3.8/dist-packages/statsmodels/genmod/generalized_linear_model.py:293: DomainWarning: The Power link function does not respect the domain of the NegativeBinomial family.\n",
            "  warnings.warn((f\"The {type(family.link).__name__} link function \"\n"
          ]
        },
        {
          "output_type": "stream",
          "name": "stdout",
          "text": [
            "NaN, inf or invalid value detected in weights, estimation infeasible.\n"
          ]
        },
        {
          "output_type": "stream",
          "name": "stderr",
          "text": [
            "/usr/local/lib/python3.8/dist-packages/statsmodels/genmod/generalized_linear_model.py:293: DomainWarning: The Power link function does not respect the domain of the NegativeBinomial family.\n",
            "  warnings.warn((f\"The {type(family.link).__name__} link function \"\n"
          ]
        },
        {
          "output_type": "stream",
          "name": "stdout",
          "text": [
            "NaN, inf or invalid value detected in weights, estimation infeasible.\n",
            "Adding negbinom_score_xCols33Cent_log\n"
          ]
        },
        {
          "output_type": "stream",
          "name": "stderr",
          "text": [
            "/usr/local/lib/python3.8/dist-packages/statsmodels/genmod/generalized_linear_model.py:293: DomainWarning: The cloglog link function does not respect the domain of the NegativeBinomial family.\n",
            "  warnings.warn((f\"The {type(family.link).__name__} link function \"\n"
          ]
        },
        {
          "output_type": "stream",
          "name": "stdout",
          "text": [
            "Adding negbinom_score_xCols33Cent_cloglog\n"
          ]
        },
        {
          "output_type": "stream",
          "name": "stderr",
          "text": [
            "/usr/local/lib/python3.8/dist-packages/statsmodels/genmod/generalized_linear_model.py:293: DomainWarning: The identity link function does not respect the domain of the NegativeBinomial family.\n",
            "  warnings.warn((f\"The {type(family.link).__name__} link function \"\n"
          ]
        },
        {
          "output_type": "stream",
          "name": "stdout",
          "text": [
            "Adding negbinom_score_xCols33Cent_ident\n"
          ]
        },
        {
          "output_type": "stream",
          "name": "stderr",
          "text": [
            "/usr/local/lib/python3.8/dist-packages/statsmodels/genmod/generalized_linear_model.py:293: DomainWarning: The nbinom link function does not respect the domain of the NegativeBinomial family.\n",
            "  warnings.warn((f\"The {type(family.link).__name__} link function \"\n"
          ]
        },
        {
          "output_type": "stream",
          "name": "stdout",
          "text": [
            "NaN, inf or invalid value detected in endog, estimation infeasible.\n"
          ]
        },
        {
          "output_type": "stream",
          "name": "stderr",
          "text": [
            "/usr/local/lib/python3.8/dist-packages/statsmodels/genmod/generalized_linear_model.py:293: DomainWarning: The Power link function does not respect the domain of the NegativeBinomial family.\n",
            "  warnings.warn((f\"The {type(family.link).__name__} link function \"\n"
          ]
        },
        {
          "output_type": "stream",
          "name": "stdout",
          "text": [
            "NaN, inf or invalid value detected in weights, estimation infeasible.\n"
          ]
        },
        {
          "output_type": "stream",
          "name": "stderr",
          "text": [
            "/usr/local/lib/python3.8/dist-packages/statsmodels/genmod/generalized_linear_model.py:293: DomainWarning: The Power link function does not respect the domain of the NegativeBinomial family.\n",
            "  warnings.warn((f\"The {type(family.link).__name__} link function \"\n"
          ]
        },
        {
          "output_type": "stream",
          "name": "stdout",
          "text": [
            "NaN, inf or invalid value detected in weights, estimation infeasible.\n",
            "Adding negbinom_score_xCols34Cent_log\n"
          ]
        },
        {
          "output_type": "stream",
          "name": "stderr",
          "text": [
            "/usr/local/lib/python3.8/dist-packages/statsmodels/genmod/generalized_linear_model.py:293: DomainWarning: The cloglog link function does not respect the domain of the NegativeBinomial family.\n",
            "  warnings.warn((f\"The {type(family.link).__name__} link function \"\n"
          ]
        },
        {
          "output_type": "stream",
          "name": "stdout",
          "text": [
            "Adding negbinom_score_xCols34Cent_cloglog\n"
          ]
        },
        {
          "output_type": "stream",
          "name": "stderr",
          "text": [
            "/usr/local/lib/python3.8/dist-packages/statsmodels/genmod/generalized_linear_model.py:293: DomainWarning: The identity link function does not respect the domain of the NegativeBinomial family.\n",
            "  warnings.warn((f\"The {type(family.link).__name__} link function \"\n"
          ]
        },
        {
          "output_type": "stream",
          "name": "stdout",
          "text": [
            "Adding negbinom_score_xCols34Cent_ident\n"
          ]
        },
        {
          "output_type": "stream",
          "name": "stderr",
          "text": [
            "/usr/local/lib/python3.8/dist-packages/statsmodels/genmod/generalized_linear_model.py:293: DomainWarning: The nbinom link function does not respect the domain of the NegativeBinomial family.\n",
            "  warnings.warn((f\"The {type(family.link).__name__} link function \"\n"
          ]
        },
        {
          "output_type": "stream",
          "name": "stdout",
          "text": [
            "NaN, inf or invalid value detected in endog, estimation infeasible.\n"
          ]
        },
        {
          "output_type": "stream",
          "name": "stderr",
          "text": [
            "/usr/local/lib/python3.8/dist-packages/statsmodels/genmod/generalized_linear_model.py:293: DomainWarning: The Power link function does not respect the domain of the NegativeBinomial family.\n",
            "  warnings.warn((f\"The {type(family.link).__name__} link function \"\n"
          ]
        },
        {
          "output_type": "stream",
          "name": "stdout",
          "text": [
            "NaN, inf or invalid value detected in weights, estimation infeasible.\n"
          ]
        },
        {
          "output_type": "stream",
          "name": "stderr",
          "text": [
            "/usr/local/lib/python3.8/dist-packages/statsmodels/genmod/generalized_linear_model.py:293: DomainWarning: The Power link function does not respect the domain of the NegativeBinomial family.\n",
            "  warnings.warn((f\"The {type(family.link).__name__} link function \"\n"
          ]
        },
        {
          "output_type": "stream",
          "name": "stdout",
          "text": [
            "NaN, inf or invalid value detected in weights, estimation infeasible.\n",
            "Adding negbinom_score_xCols35Cent_log\n"
          ]
        },
        {
          "output_type": "stream",
          "name": "stderr",
          "text": [
            "/usr/local/lib/python3.8/dist-packages/statsmodels/genmod/generalized_linear_model.py:293: DomainWarning: The cloglog link function does not respect the domain of the NegativeBinomial family.\n",
            "  warnings.warn((f\"The {type(family.link).__name__} link function \"\n"
          ]
        },
        {
          "output_type": "stream",
          "name": "stdout",
          "text": [
            "Adding negbinom_score_xCols35Cent_cloglog\n"
          ]
        },
        {
          "output_type": "stream",
          "name": "stderr",
          "text": [
            "/usr/local/lib/python3.8/dist-packages/statsmodels/genmod/generalized_linear_model.py:293: DomainWarning: The identity link function does not respect the domain of the NegativeBinomial family.\n",
            "  warnings.warn((f\"The {type(family.link).__name__} link function \"\n"
          ]
        },
        {
          "output_type": "stream",
          "name": "stdout",
          "text": [
            "Adding negbinom_score_xCols35Cent_ident\n"
          ]
        },
        {
          "output_type": "stream",
          "name": "stderr",
          "text": [
            "/usr/local/lib/python3.8/dist-packages/statsmodels/genmod/generalized_linear_model.py:293: DomainWarning: The nbinom link function does not respect the domain of the NegativeBinomial family.\n",
            "  warnings.warn((f\"The {type(family.link).__name__} link function \"\n"
          ]
        },
        {
          "output_type": "stream",
          "name": "stdout",
          "text": [
            "NaN, inf or invalid value detected in endog, estimation infeasible.\n"
          ]
        },
        {
          "output_type": "stream",
          "name": "stderr",
          "text": [
            "/usr/local/lib/python3.8/dist-packages/statsmodels/genmod/generalized_linear_model.py:293: DomainWarning: The Power link function does not respect the domain of the NegativeBinomial family.\n",
            "  warnings.warn((f\"The {type(family.link).__name__} link function \"\n"
          ]
        },
        {
          "output_type": "stream",
          "name": "stdout",
          "text": [
            "NaN, inf or invalid value detected in weights, estimation infeasible.\n"
          ]
        },
        {
          "output_type": "stream",
          "name": "stderr",
          "text": [
            "/usr/local/lib/python3.8/dist-packages/statsmodels/genmod/generalized_linear_model.py:293: DomainWarning: The Power link function does not respect the domain of the NegativeBinomial family.\n",
            "  warnings.warn((f\"The {type(family.link).__name__} link function \"\n"
          ]
        },
        {
          "output_type": "stream",
          "name": "stdout",
          "text": [
            "NaN, inf or invalid value detected in weights, estimation infeasible.\n",
            "Adding negbinom_score_xCols36Cent_log\n"
          ]
        },
        {
          "output_type": "stream",
          "name": "stderr",
          "text": [
            "/usr/local/lib/python3.8/dist-packages/statsmodels/genmod/generalized_linear_model.py:293: DomainWarning: The cloglog link function does not respect the domain of the NegativeBinomial family.\n",
            "  warnings.warn((f\"The {type(family.link).__name__} link function \"\n"
          ]
        },
        {
          "output_type": "stream",
          "name": "stdout",
          "text": [
            "Adding negbinom_score_xCols36Cent_cloglog\n"
          ]
        },
        {
          "output_type": "stream",
          "name": "stderr",
          "text": [
            "/usr/local/lib/python3.8/dist-packages/statsmodels/genmod/generalized_linear_model.py:293: DomainWarning: The identity link function does not respect the domain of the NegativeBinomial family.\n",
            "  warnings.warn((f\"The {type(family.link).__name__} link function \"\n"
          ]
        },
        {
          "output_type": "stream",
          "name": "stdout",
          "text": [
            "Adding negbinom_score_xCols36Cent_ident\n"
          ]
        },
        {
          "output_type": "stream",
          "name": "stderr",
          "text": [
            "/usr/local/lib/python3.8/dist-packages/statsmodels/genmod/generalized_linear_model.py:293: DomainWarning: The nbinom link function does not respect the domain of the NegativeBinomial family.\n",
            "  warnings.warn((f\"The {type(family.link).__name__} link function \"\n"
          ]
        },
        {
          "output_type": "stream",
          "name": "stdout",
          "text": [
            "NaN, inf or invalid value detected in endog, estimation infeasible.\n"
          ]
        },
        {
          "output_type": "stream",
          "name": "stderr",
          "text": [
            "/usr/local/lib/python3.8/dist-packages/statsmodels/genmod/generalized_linear_model.py:293: DomainWarning: The Power link function does not respect the domain of the NegativeBinomial family.\n",
            "  warnings.warn((f\"The {type(family.link).__name__} link function \"\n"
          ]
        },
        {
          "output_type": "stream",
          "name": "stdout",
          "text": [
            "NaN, inf or invalid value detected in weights, estimation infeasible.\n"
          ]
        },
        {
          "output_type": "stream",
          "name": "stderr",
          "text": [
            "/usr/local/lib/python3.8/dist-packages/statsmodels/genmod/generalized_linear_model.py:293: DomainWarning: The Power link function does not respect the domain of the NegativeBinomial family.\n",
            "  warnings.warn((f\"The {type(family.link).__name__} link function \"\n"
          ]
        },
        {
          "output_type": "stream",
          "name": "stdout",
          "text": [
            "NaN, inf or invalid value detected in weights, estimation infeasible.\n",
            "Adding negbinom_score_xCols37Cent_log\n"
          ]
        },
        {
          "output_type": "stream",
          "name": "stderr",
          "text": [
            "/usr/local/lib/python3.8/dist-packages/statsmodels/genmod/generalized_linear_model.py:293: DomainWarning: The cloglog link function does not respect the domain of the NegativeBinomial family.\n",
            "  warnings.warn((f\"The {type(family.link).__name__} link function \"\n"
          ]
        },
        {
          "output_type": "stream",
          "name": "stdout",
          "text": [
            "Adding negbinom_score_xCols37Cent_cloglog\n"
          ]
        },
        {
          "output_type": "stream",
          "name": "stderr",
          "text": [
            "/usr/local/lib/python3.8/dist-packages/statsmodels/genmod/generalized_linear_model.py:293: DomainWarning: The identity link function does not respect the domain of the NegativeBinomial family.\n",
            "  warnings.warn((f\"The {type(family.link).__name__} link function \"\n"
          ]
        },
        {
          "output_type": "stream",
          "name": "stdout",
          "text": [
            "Adding negbinom_score_xCols37Cent_ident\n"
          ]
        },
        {
          "output_type": "stream",
          "name": "stderr",
          "text": [
            "/usr/local/lib/python3.8/dist-packages/statsmodels/genmod/generalized_linear_model.py:293: DomainWarning: The nbinom link function does not respect the domain of the NegativeBinomial family.\n",
            "  warnings.warn((f\"The {type(family.link).__name__} link function \"\n"
          ]
        },
        {
          "output_type": "stream",
          "name": "stdout",
          "text": [
            "NaN, inf or invalid value detected in endog, estimation infeasible.\n"
          ]
        },
        {
          "output_type": "stream",
          "name": "stderr",
          "text": [
            "/usr/local/lib/python3.8/dist-packages/statsmodels/genmod/generalized_linear_model.py:293: DomainWarning: The Power link function does not respect the domain of the NegativeBinomial family.\n",
            "  warnings.warn((f\"The {type(family.link).__name__} link function \"\n"
          ]
        },
        {
          "output_type": "stream",
          "name": "stdout",
          "text": [
            "NaN, inf or invalid value detected in weights, estimation infeasible.\n"
          ]
        },
        {
          "output_type": "stream",
          "name": "stderr",
          "text": [
            "/usr/local/lib/python3.8/dist-packages/statsmodels/genmod/generalized_linear_model.py:293: DomainWarning: The Power link function does not respect the domain of the NegativeBinomial family.\n",
            "  warnings.warn((f\"The {type(family.link).__name__} link function \"\n"
          ]
        },
        {
          "output_type": "stream",
          "name": "stdout",
          "text": [
            "NaN, inf or invalid value detected in weights, estimation infeasible.\n",
            "Adding negbinom_score_xCols38Cent_log\n"
          ]
        },
        {
          "output_type": "stream",
          "name": "stderr",
          "text": [
            "/usr/local/lib/python3.8/dist-packages/statsmodels/genmod/generalized_linear_model.py:293: DomainWarning: The cloglog link function does not respect the domain of the NegativeBinomial family.\n",
            "  warnings.warn((f\"The {type(family.link).__name__} link function \"\n"
          ]
        },
        {
          "output_type": "stream",
          "name": "stdout",
          "text": [
            "Adding negbinom_score_xCols38Cent_cloglog\n"
          ]
        },
        {
          "output_type": "stream",
          "name": "stderr",
          "text": [
            "/usr/local/lib/python3.8/dist-packages/statsmodels/genmod/generalized_linear_model.py:293: DomainWarning: The identity link function does not respect the domain of the NegativeBinomial family.\n",
            "  warnings.warn((f\"The {type(family.link).__name__} link function \"\n"
          ]
        },
        {
          "output_type": "stream",
          "name": "stdout",
          "text": [
            "Adding negbinom_score_xCols38Cent_ident\n"
          ]
        },
        {
          "output_type": "stream",
          "name": "stderr",
          "text": [
            "/usr/local/lib/python3.8/dist-packages/statsmodels/genmod/generalized_linear_model.py:293: DomainWarning: The nbinom link function does not respect the domain of the NegativeBinomial family.\n",
            "  warnings.warn((f\"The {type(family.link).__name__} link function \"\n"
          ]
        },
        {
          "output_type": "stream",
          "name": "stdout",
          "text": [
            "NaN, inf or invalid value detected in endog, estimation infeasible.\n"
          ]
        },
        {
          "output_type": "stream",
          "name": "stderr",
          "text": [
            "/usr/local/lib/python3.8/dist-packages/statsmodels/genmod/generalized_linear_model.py:293: DomainWarning: The Power link function does not respect the domain of the NegativeBinomial family.\n",
            "  warnings.warn((f\"The {type(family.link).__name__} link function \"\n"
          ]
        },
        {
          "output_type": "stream",
          "name": "stdout",
          "text": [
            "NaN, inf or invalid value detected in weights, estimation infeasible.\n"
          ]
        },
        {
          "output_type": "stream",
          "name": "stderr",
          "text": [
            "/usr/local/lib/python3.8/dist-packages/statsmodels/genmod/generalized_linear_model.py:293: DomainWarning: The Power link function does not respect the domain of the NegativeBinomial family.\n",
            "  warnings.warn((f\"The {type(family.link).__name__} link function \"\n"
          ]
        },
        {
          "output_type": "stream",
          "name": "stdout",
          "text": [
            "NaN, inf or invalid value detected in weights, estimation infeasible.\n",
            "Adding negbinom_score_xCols39Cent_log\n"
          ]
        },
        {
          "output_type": "stream",
          "name": "stderr",
          "text": [
            "/usr/local/lib/python3.8/dist-packages/statsmodels/genmod/generalized_linear_model.py:293: DomainWarning: The cloglog link function does not respect the domain of the NegativeBinomial family.\n",
            "  warnings.warn((f\"The {type(family.link).__name__} link function \"\n"
          ]
        },
        {
          "output_type": "stream",
          "name": "stdout",
          "text": [
            "Adding negbinom_score_xCols39Cent_cloglog\n"
          ]
        },
        {
          "output_type": "stream",
          "name": "stderr",
          "text": [
            "/usr/local/lib/python3.8/dist-packages/statsmodels/genmod/generalized_linear_model.py:293: DomainWarning: The identity link function does not respect the domain of the NegativeBinomial family.\n",
            "  warnings.warn((f\"The {type(family.link).__name__} link function \"\n"
          ]
        },
        {
          "output_type": "stream",
          "name": "stdout",
          "text": [
            "Adding negbinom_score_xCols39Cent_ident\n"
          ]
        },
        {
          "output_type": "stream",
          "name": "stderr",
          "text": [
            "/usr/local/lib/python3.8/dist-packages/statsmodels/genmod/generalized_linear_model.py:293: DomainWarning: The nbinom link function does not respect the domain of the NegativeBinomial family.\n",
            "  warnings.warn((f\"The {type(family.link).__name__} link function \"\n"
          ]
        },
        {
          "output_type": "stream",
          "name": "stdout",
          "text": [
            "NaN, inf or invalid value detected in endog, estimation infeasible.\n"
          ]
        },
        {
          "output_type": "stream",
          "name": "stderr",
          "text": [
            "/usr/local/lib/python3.8/dist-packages/statsmodels/genmod/generalized_linear_model.py:293: DomainWarning: The Power link function does not respect the domain of the NegativeBinomial family.\n",
            "  warnings.warn((f\"The {type(family.link).__name__} link function \"\n"
          ]
        },
        {
          "output_type": "stream",
          "name": "stdout",
          "text": [
            "NaN, inf or invalid value detected in weights, estimation infeasible.\n"
          ]
        },
        {
          "output_type": "stream",
          "name": "stderr",
          "text": [
            "/usr/local/lib/python3.8/dist-packages/statsmodels/genmod/generalized_linear_model.py:293: DomainWarning: The Power link function does not respect the domain of the NegativeBinomial family.\n",
            "  warnings.warn((f\"The {type(family.link).__name__} link function \"\n"
          ]
        },
        {
          "output_type": "stream",
          "name": "stdout",
          "text": [
            "NaN, inf or invalid value detected in weights, estimation infeasible.\n",
            "Adding negbinom_score_xCols40Cent_log\n"
          ]
        },
        {
          "output_type": "stream",
          "name": "stderr",
          "text": [
            "/usr/local/lib/python3.8/dist-packages/statsmodels/genmod/generalized_linear_model.py:293: DomainWarning: The cloglog link function does not respect the domain of the NegativeBinomial family.\n",
            "  warnings.warn((f\"The {type(family.link).__name__} link function \"\n"
          ]
        },
        {
          "output_type": "stream",
          "name": "stdout",
          "text": [
            "Adding negbinom_score_xCols40Cent_cloglog\n"
          ]
        },
        {
          "output_type": "stream",
          "name": "stderr",
          "text": [
            "/usr/local/lib/python3.8/dist-packages/statsmodels/genmod/generalized_linear_model.py:293: DomainWarning: The identity link function does not respect the domain of the NegativeBinomial family.\n",
            "  warnings.warn((f\"The {type(family.link).__name__} link function \"\n"
          ]
        },
        {
          "output_type": "stream",
          "name": "stdout",
          "text": [
            "Adding negbinom_score_xCols40Cent_ident\n"
          ]
        },
        {
          "output_type": "stream",
          "name": "stderr",
          "text": [
            "/usr/local/lib/python3.8/dist-packages/statsmodels/genmod/generalized_linear_model.py:293: DomainWarning: The nbinom link function does not respect the domain of the NegativeBinomial family.\n",
            "  warnings.warn((f\"The {type(family.link).__name__} link function \"\n"
          ]
        },
        {
          "output_type": "stream",
          "name": "stdout",
          "text": [
            "NaN, inf or invalid value detected in endog, estimation infeasible.\n"
          ]
        },
        {
          "output_type": "stream",
          "name": "stderr",
          "text": [
            "/usr/local/lib/python3.8/dist-packages/statsmodels/genmod/generalized_linear_model.py:293: DomainWarning: The Power link function does not respect the domain of the NegativeBinomial family.\n",
            "  warnings.warn((f\"The {type(family.link).__name__} link function \"\n"
          ]
        },
        {
          "output_type": "stream",
          "name": "stdout",
          "text": [
            "NaN, inf or invalid value detected in weights, estimation infeasible.\n"
          ]
        },
        {
          "output_type": "stream",
          "name": "stderr",
          "text": [
            "/usr/local/lib/python3.8/dist-packages/statsmodels/genmod/generalized_linear_model.py:293: DomainWarning: The Power link function does not respect the domain of the NegativeBinomial family.\n",
            "  warnings.warn((f\"The {type(family.link).__name__} link function \"\n"
          ]
        },
        {
          "output_type": "stream",
          "name": "stdout",
          "text": [
            "NaN, inf or invalid value detected in weights, estimation infeasible.\n",
            "Adding negbinom_score_xCols41Cent_log\n"
          ]
        },
        {
          "output_type": "stream",
          "name": "stderr",
          "text": [
            "/usr/local/lib/python3.8/dist-packages/statsmodels/genmod/generalized_linear_model.py:293: DomainWarning: The cloglog link function does not respect the domain of the NegativeBinomial family.\n",
            "  warnings.warn((f\"The {type(family.link).__name__} link function \"\n"
          ]
        },
        {
          "output_type": "stream",
          "name": "stdout",
          "text": [
            "Adding negbinom_score_xCols41Cent_cloglog\n"
          ]
        },
        {
          "output_type": "stream",
          "name": "stderr",
          "text": [
            "/usr/local/lib/python3.8/dist-packages/statsmodels/genmod/generalized_linear_model.py:293: DomainWarning: The identity link function does not respect the domain of the NegativeBinomial family.\n",
            "  warnings.warn((f\"The {type(family.link).__name__} link function \"\n"
          ]
        },
        {
          "output_type": "stream",
          "name": "stdout",
          "text": [
            "Adding negbinom_score_xCols41Cent_ident\n"
          ]
        },
        {
          "output_type": "stream",
          "name": "stderr",
          "text": [
            "/usr/local/lib/python3.8/dist-packages/statsmodels/genmod/generalized_linear_model.py:293: DomainWarning: The nbinom link function does not respect the domain of the NegativeBinomial family.\n",
            "  warnings.warn((f\"The {type(family.link).__name__} link function \"\n"
          ]
        },
        {
          "output_type": "stream",
          "name": "stdout",
          "text": [
            "NaN, inf or invalid value detected in endog, estimation infeasible.\n"
          ]
        },
        {
          "output_type": "stream",
          "name": "stderr",
          "text": [
            "/usr/local/lib/python3.8/dist-packages/statsmodels/genmod/generalized_linear_model.py:293: DomainWarning: The Power link function does not respect the domain of the NegativeBinomial family.\n",
            "  warnings.warn((f\"The {type(family.link).__name__} link function \"\n"
          ]
        },
        {
          "output_type": "stream",
          "name": "stdout",
          "text": [
            "NaN, inf or invalid value detected in weights, estimation infeasible.\n"
          ]
        },
        {
          "output_type": "stream",
          "name": "stderr",
          "text": [
            "/usr/local/lib/python3.8/dist-packages/statsmodels/genmod/generalized_linear_model.py:293: DomainWarning: The Power link function does not respect the domain of the NegativeBinomial family.\n",
            "  warnings.warn((f\"The {type(family.link).__name__} link function \"\n"
          ]
        },
        {
          "output_type": "stream",
          "name": "stdout",
          "text": [
            "NaN, inf or invalid value detected in weights, estimation infeasible.\n",
            "Adding negbinom_score_xCols42Cent_log\n"
          ]
        },
        {
          "output_type": "stream",
          "name": "stderr",
          "text": [
            "/usr/local/lib/python3.8/dist-packages/statsmodels/genmod/generalized_linear_model.py:293: DomainWarning: The cloglog link function does not respect the domain of the NegativeBinomial family.\n",
            "  warnings.warn((f\"The {type(family.link).__name__} link function \"\n"
          ]
        },
        {
          "output_type": "stream",
          "name": "stdout",
          "text": [
            "Adding negbinom_score_xCols42Cent_cloglog\n"
          ]
        },
        {
          "output_type": "stream",
          "name": "stderr",
          "text": [
            "/usr/local/lib/python3.8/dist-packages/statsmodels/genmod/generalized_linear_model.py:293: DomainWarning: The identity link function does not respect the domain of the NegativeBinomial family.\n",
            "  warnings.warn((f\"The {type(family.link).__name__} link function \"\n"
          ]
        },
        {
          "output_type": "stream",
          "name": "stdout",
          "text": [
            "Adding negbinom_score_xCols42Cent_ident\n"
          ]
        },
        {
          "output_type": "stream",
          "name": "stderr",
          "text": [
            "/usr/local/lib/python3.8/dist-packages/statsmodels/genmod/generalized_linear_model.py:293: DomainWarning: The nbinom link function does not respect the domain of the NegativeBinomial family.\n",
            "  warnings.warn((f\"The {type(family.link).__name__} link function \"\n"
          ]
        },
        {
          "output_type": "stream",
          "name": "stdout",
          "text": [
            "NaN, inf or invalid value detected in endog, estimation infeasible.\n"
          ]
        },
        {
          "output_type": "stream",
          "name": "stderr",
          "text": [
            "/usr/local/lib/python3.8/dist-packages/statsmodels/genmod/generalized_linear_model.py:293: DomainWarning: The Power link function does not respect the domain of the NegativeBinomial family.\n",
            "  warnings.warn((f\"The {type(family.link).__name__} link function \"\n"
          ]
        },
        {
          "output_type": "stream",
          "name": "stdout",
          "text": [
            "NaN, inf or invalid value detected in weights, estimation infeasible.\n"
          ]
        },
        {
          "output_type": "stream",
          "name": "stderr",
          "text": [
            "/usr/local/lib/python3.8/dist-packages/statsmodels/genmod/generalized_linear_model.py:293: DomainWarning: The Power link function does not respect the domain of the NegativeBinomial family.\n",
            "  warnings.warn((f\"The {type(family.link).__name__} link function \"\n"
          ]
        },
        {
          "output_type": "stream",
          "name": "stdout",
          "text": [
            "NaN, inf or invalid value detected in weights, estimation infeasible.\n",
            "Adding negbinom_score_xCols43Cent_log\n"
          ]
        },
        {
          "output_type": "stream",
          "name": "stderr",
          "text": [
            "/usr/local/lib/python3.8/dist-packages/statsmodels/genmod/generalized_linear_model.py:293: DomainWarning: The cloglog link function does not respect the domain of the NegativeBinomial family.\n",
            "  warnings.warn((f\"The {type(family.link).__name__} link function \"\n"
          ]
        },
        {
          "output_type": "stream",
          "name": "stdout",
          "text": [
            "Adding negbinom_score_xCols43Cent_cloglog\n"
          ]
        },
        {
          "output_type": "stream",
          "name": "stderr",
          "text": [
            "/usr/local/lib/python3.8/dist-packages/statsmodels/genmod/generalized_linear_model.py:293: DomainWarning: The identity link function does not respect the domain of the NegativeBinomial family.\n",
            "  warnings.warn((f\"The {type(family.link).__name__} link function \"\n"
          ]
        },
        {
          "output_type": "stream",
          "name": "stdout",
          "text": [
            "Adding negbinom_score_xCols43Cent_ident\n"
          ]
        },
        {
          "output_type": "stream",
          "name": "stderr",
          "text": [
            "/usr/local/lib/python3.8/dist-packages/statsmodels/genmod/generalized_linear_model.py:293: DomainWarning: The nbinom link function does not respect the domain of the NegativeBinomial family.\n",
            "  warnings.warn((f\"The {type(family.link).__name__} link function \"\n"
          ]
        },
        {
          "output_type": "stream",
          "name": "stdout",
          "text": [
            "NaN, inf or invalid value detected in endog, estimation infeasible.\n"
          ]
        },
        {
          "output_type": "stream",
          "name": "stderr",
          "text": [
            "/usr/local/lib/python3.8/dist-packages/statsmodels/genmod/generalized_linear_model.py:293: DomainWarning: The Power link function does not respect the domain of the NegativeBinomial family.\n",
            "  warnings.warn((f\"The {type(family.link).__name__} link function \"\n"
          ]
        },
        {
          "output_type": "stream",
          "name": "stdout",
          "text": [
            "NaN, inf or invalid value detected in weights, estimation infeasible.\n"
          ]
        },
        {
          "output_type": "stream",
          "name": "stderr",
          "text": [
            "/usr/local/lib/python3.8/dist-packages/statsmodels/genmod/generalized_linear_model.py:293: DomainWarning: The Power link function does not respect the domain of the NegativeBinomial family.\n",
            "  warnings.warn((f\"The {type(family.link).__name__} link function \"\n"
          ]
        },
        {
          "output_type": "stream",
          "name": "stdout",
          "text": [
            "NaN, inf or invalid value detected in weights, estimation infeasible.\n",
            "Adding negbinom_score_xCols44Cent_log\n"
          ]
        },
        {
          "output_type": "stream",
          "name": "stderr",
          "text": [
            "/usr/local/lib/python3.8/dist-packages/statsmodels/genmod/generalized_linear_model.py:293: DomainWarning: The cloglog link function does not respect the domain of the NegativeBinomial family.\n",
            "  warnings.warn((f\"The {type(family.link).__name__} link function \"\n"
          ]
        },
        {
          "output_type": "stream",
          "name": "stdout",
          "text": [
            "Adding negbinom_score_xCols44Cent_cloglog\n"
          ]
        },
        {
          "output_type": "stream",
          "name": "stderr",
          "text": [
            "/usr/local/lib/python3.8/dist-packages/statsmodels/genmod/generalized_linear_model.py:293: DomainWarning: The identity link function does not respect the domain of the NegativeBinomial family.\n",
            "  warnings.warn((f\"The {type(family.link).__name__} link function \"\n"
          ]
        },
        {
          "output_type": "stream",
          "name": "stdout",
          "text": [
            "Adding negbinom_score_xCols44Cent_ident\n"
          ]
        },
        {
          "output_type": "stream",
          "name": "stderr",
          "text": [
            "/usr/local/lib/python3.8/dist-packages/statsmodels/genmod/generalized_linear_model.py:293: DomainWarning: The nbinom link function does not respect the domain of the NegativeBinomial family.\n",
            "  warnings.warn((f\"The {type(family.link).__name__} link function \"\n"
          ]
        },
        {
          "output_type": "stream",
          "name": "stdout",
          "text": [
            "NaN, inf or invalid value detected in endog, estimation infeasible.\n"
          ]
        },
        {
          "output_type": "stream",
          "name": "stderr",
          "text": [
            "/usr/local/lib/python3.8/dist-packages/statsmodels/genmod/generalized_linear_model.py:293: DomainWarning: The Power link function does not respect the domain of the NegativeBinomial family.\n",
            "  warnings.warn((f\"The {type(family.link).__name__} link function \"\n"
          ]
        },
        {
          "output_type": "stream",
          "name": "stdout",
          "text": [
            "NaN, inf or invalid value detected in weights, estimation infeasible.\n"
          ]
        },
        {
          "output_type": "stream",
          "name": "stderr",
          "text": [
            "/usr/local/lib/python3.8/dist-packages/statsmodels/genmod/generalized_linear_model.py:293: DomainWarning: The Power link function does not respect the domain of the NegativeBinomial family.\n",
            "  warnings.warn((f\"The {type(family.link).__name__} link function \"\n"
          ]
        },
        {
          "output_type": "stream",
          "name": "stdout",
          "text": [
            "NaN, inf or invalid value detected in weights, estimation infeasible.\n",
            "Adding negbinom_score_xCols45Cent_log\n"
          ]
        },
        {
          "output_type": "stream",
          "name": "stderr",
          "text": [
            "/usr/local/lib/python3.8/dist-packages/statsmodels/genmod/generalized_linear_model.py:293: DomainWarning: The cloglog link function does not respect the domain of the NegativeBinomial family.\n",
            "  warnings.warn((f\"The {type(family.link).__name__} link function \"\n"
          ]
        },
        {
          "output_type": "stream",
          "name": "stdout",
          "text": [
            "Adding negbinom_score_xCols45Cent_cloglog\n"
          ]
        },
        {
          "output_type": "stream",
          "name": "stderr",
          "text": [
            "/usr/local/lib/python3.8/dist-packages/statsmodels/genmod/generalized_linear_model.py:293: DomainWarning: The identity link function does not respect the domain of the NegativeBinomial family.\n",
            "  warnings.warn((f\"The {type(family.link).__name__} link function \"\n"
          ]
        },
        {
          "output_type": "stream",
          "name": "stdout",
          "text": [
            "Adding negbinom_score_xCols45Cent_ident\n"
          ]
        },
        {
          "output_type": "stream",
          "name": "stderr",
          "text": [
            "/usr/local/lib/python3.8/dist-packages/statsmodels/genmod/generalized_linear_model.py:293: DomainWarning: The nbinom link function does not respect the domain of the NegativeBinomial family.\n",
            "  warnings.warn((f\"The {type(family.link).__name__} link function \"\n"
          ]
        },
        {
          "output_type": "stream",
          "name": "stdout",
          "text": [
            "NaN, inf or invalid value detected in endog, estimation infeasible.\n"
          ]
        },
        {
          "output_type": "stream",
          "name": "stderr",
          "text": [
            "/usr/local/lib/python3.8/dist-packages/statsmodels/genmod/generalized_linear_model.py:293: DomainWarning: The Power link function does not respect the domain of the NegativeBinomial family.\n",
            "  warnings.warn((f\"The {type(family.link).__name__} link function \"\n"
          ]
        },
        {
          "output_type": "stream",
          "name": "stdout",
          "text": [
            "NaN, inf or invalid value detected in weights, estimation infeasible.\n"
          ]
        },
        {
          "output_type": "stream",
          "name": "stderr",
          "text": [
            "/usr/local/lib/python3.8/dist-packages/statsmodels/genmod/generalized_linear_model.py:293: DomainWarning: The Power link function does not respect the domain of the NegativeBinomial family.\n",
            "  warnings.warn((f\"The {type(family.link).__name__} link function \"\n"
          ]
        },
        {
          "output_type": "stream",
          "name": "stdout",
          "text": [
            "NaN, inf or invalid value detected in weights, estimation infeasible.\n",
            "Adding negbinom_score_xCols46Cent_log\n"
          ]
        },
        {
          "output_type": "stream",
          "name": "stderr",
          "text": [
            "/usr/local/lib/python3.8/dist-packages/statsmodels/genmod/generalized_linear_model.py:293: DomainWarning: The cloglog link function does not respect the domain of the NegativeBinomial family.\n",
            "  warnings.warn((f\"The {type(family.link).__name__} link function \"\n"
          ]
        },
        {
          "output_type": "stream",
          "name": "stdout",
          "text": [
            "Adding negbinom_score_xCols46Cent_cloglog\n"
          ]
        },
        {
          "output_type": "stream",
          "name": "stderr",
          "text": [
            "/usr/local/lib/python3.8/dist-packages/statsmodels/genmod/generalized_linear_model.py:293: DomainWarning: The identity link function does not respect the domain of the NegativeBinomial family.\n",
            "  warnings.warn((f\"The {type(family.link).__name__} link function \"\n"
          ]
        },
        {
          "output_type": "stream",
          "name": "stdout",
          "text": [
            "Adding negbinom_score_xCols46Cent_ident\n"
          ]
        },
        {
          "output_type": "stream",
          "name": "stderr",
          "text": [
            "/usr/local/lib/python3.8/dist-packages/statsmodels/genmod/generalized_linear_model.py:293: DomainWarning: The nbinom link function does not respect the domain of the NegativeBinomial family.\n",
            "  warnings.warn((f\"The {type(family.link).__name__} link function \"\n"
          ]
        },
        {
          "output_type": "stream",
          "name": "stdout",
          "text": [
            "NaN, inf or invalid value detected in endog, estimation infeasible.\n"
          ]
        },
        {
          "output_type": "stream",
          "name": "stderr",
          "text": [
            "/usr/local/lib/python3.8/dist-packages/statsmodels/genmod/generalized_linear_model.py:293: DomainWarning: The Power link function does not respect the domain of the NegativeBinomial family.\n",
            "  warnings.warn((f\"The {type(family.link).__name__} link function \"\n"
          ]
        },
        {
          "output_type": "stream",
          "name": "stdout",
          "text": [
            "NaN, inf or invalid value detected in weights, estimation infeasible.\n"
          ]
        },
        {
          "output_type": "stream",
          "name": "stderr",
          "text": [
            "/usr/local/lib/python3.8/dist-packages/statsmodels/genmod/generalized_linear_model.py:293: DomainWarning: The Power link function does not respect the domain of the NegativeBinomial family.\n",
            "  warnings.warn((f\"The {type(family.link).__name__} link function \"\n"
          ]
        },
        {
          "output_type": "stream",
          "name": "stdout",
          "text": [
            "NaN, inf or invalid value detected in weights, estimation infeasible.\n",
            "Adding negbinom_score_xCols47Cent_log\n"
          ]
        },
        {
          "output_type": "stream",
          "name": "stderr",
          "text": [
            "/usr/local/lib/python3.8/dist-packages/statsmodels/genmod/generalized_linear_model.py:293: DomainWarning: The cloglog link function does not respect the domain of the NegativeBinomial family.\n",
            "  warnings.warn((f\"The {type(family.link).__name__} link function \"\n"
          ]
        },
        {
          "output_type": "stream",
          "name": "stdout",
          "text": [
            "Adding negbinom_score_xCols47Cent_cloglog\n"
          ]
        },
        {
          "output_type": "stream",
          "name": "stderr",
          "text": [
            "/usr/local/lib/python3.8/dist-packages/statsmodels/genmod/generalized_linear_model.py:293: DomainWarning: The identity link function does not respect the domain of the NegativeBinomial family.\n",
            "  warnings.warn((f\"The {type(family.link).__name__} link function \"\n"
          ]
        },
        {
          "output_type": "stream",
          "name": "stdout",
          "text": [
            "Adding negbinom_score_xCols47Cent_ident\n"
          ]
        },
        {
          "output_type": "stream",
          "name": "stderr",
          "text": [
            "/usr/local/lib/python3.8/dist-packages/statsmodels/genmod/generalized_linear_model.py:293: DomainWarning: The nbinom link function does not respect the domain of the NegativeBinomial family.\n",
            "  warnings.warn((f\"The {type(family.link).__name__} link function \"\n"
          ]
        },
        {
          "output_type": "stream",
          "name": "stdout",
          "text": [
            "NaN, inf or invalid value detected in endog, estimation infeasible.\n"
          ]
        },
        {
          "output_type": "stream",
          "name": "stderr",
          "text": [
            "/usr/local/lib/python3.8/dist-packages/statsmodels/genmod/generalized_linear_model.py:293: DomainWarning: The Power link function does not respect the domain of the NegativeBinomial family.\n",
            "  warnings.warn((f\"The {type(family.link).__name__} link function \"\n"
          ]
        },
        {
          "output_type": "stream",
          "name": "stdout",
          "text": [
            "NaN, inf or invalid value detected in weights, estimation infeasible.\n"
          ]
        },
        {
          "output_type": "stream",
          "name": "stderr",
          "text": [
            "/usr/local/lib/python3.8/dist-packages/statsmodels/genmod/generalized_linear_model.py:293: DomainWarning: The Power link function does not respect the domain of the NegativeBinomial family.\n",
            "  warnings.warn((f\"The {type(family.link).__name__} link function \"\n"
          ]
        },
        {
          "output_type": "stream",
          "name": "stdout",
          "text": [
            "NaN, inf or invalid value detected in weights, estimation infeasible.\n",
            "Adding negbinom_score_xCols48Cent_log\n"
          ]
        },
        {
          "output_type": "stream",
          "name": "stderr",
          "text": [
            "/usr/local/lib/python3.8/dist-packages/statsmodels/genmod/generalized_linear_model.py:293: DomainWarning: The cloglog link function does not respect the domain of the NegativeBinomial family.\n",
            "  warnings.warn((f\"The {type(family.link).__name__} link function \"\n"
          ]
        },
        {
          "output_type": "stream",
          "name": "stdout",
          "text": [
            "Adding negbinom_score_xCols48Cent_cloglog\n"
          ]
        },
        {
          "output_type": "stream",
          "name": "stderr",
          "text": [
            "/usr/local/lib/python3.8/dist-packages/statsmodels/genmod/generalized_linear_model.py:293: DomainWarning: The identity link function does not respect the domain of the NegativeBinomial family.\n",
            "  warnings.warn((f\"The {type(family.link).__name__} link function \"\n"
          ]
        },
        {
          "output_type": "stream",
          "name": "stdout",
          "text": [
            "Adding negbinom_score_xCols48Cent_ident\n"
          ]
        },
        {
          "output_type": "stream",
          "name": "stderr",
          "text": [
            "/usr/local/lib/python3.8/dist-packages/statsmodels/genmod/generalized_linear_model.py:293: DomainWarning: The nbinom link function does not respect the domain of the NegativeBinomial family.\n",
            "  warnings.warn((f\"The {type(family.link).__name__} link function \"\n"
          ]
        },
        {
          "output_type": "stream",
          "name": "stdout",
          "text": [
            "NaN, inf or invalid value detected in endog, estimation infeasible.\n"
          ]
        },
        {
          "output_type": "stream",
          "name": "stderr",
          "text": [
            "/usr/local/lib/python3.8/dist-packages/statsmodels/genmod/generalized_linear_model.py:293: DomainWarning: The Power link function does not respect the domain of the NegativeBinomial family.\n",
            "  warnings.warn((f\"The {type(family.link).__name__} link function \"\n"
          ]
        },
        {
          "output_type": "stream",
          "name": "stdout",
          "text": [
            "NaN, inf or invalid value detected in weights, estimation infeasible.\n"
          ]
        },
        {
          "output_type": "stream",
          "name": "stderr",
          "text": [
            "/usr/local/lib/python3.8/dist-packages/statsmodels/genmod/generalized_linear_model.py:293: DomainWarning: The Power link function does not respect the domain of the NegativeBinomial family.\n",
            "  warnings.warn((f\"The {type(family.link).__name__} link function \"\n"
          ]
        },
        {
          "output_type": "stream",
          "name": "stdout",
          "text": [
            "NaN, inf or invalid value detected in weights, estimation infeasible.\n",
            "Adding negbinom_score_xCols49Cent_log\n"
          ]
        },
        {
          "output_type": "stream",
          "name": "stderr",
          "text": [
            "/usr/local/lib/python3.8/dist-packages/statsmodels/genmod/generalized_linear_model.py:293: DomainWarning: The cloglog link function does not respect the domain of the NegativeBinomial family.\n",
            "  warnings.warn((f\"The {type(family.link).__name__} link function \"\n"
          ]
        },
        {
          "output_type": "stream",
          "name": "stdout",
          "text": [
            "Adding negbinom_score_xCols49Cent_cloglog\n"
          ]
        },
        {
          "output_type": "stream",
          "name": "stderr",
          "text": [
            "/usr/local/lib/python3.8/dist-packages/statsmodels/genmod/generalized_linear_model.py:293: DomainWarning: The identity link function does not respect the domain of the NegativeBinomial family.\n",
            "  warnings.warn((f\"The {type(family.link).__name__} link function \"\n"
          ]
        },
        {
          "output_type": "stream",
          "name": "stdout",
          "text": [
            "Adding negbinom_score_xCols49Cent_ident\n"
          ]
        },
        {
          "output_type": "stream",
          "name": "stderr",
          "text": [
            "/usr/local/lib/python3.8/dist-packages/statsmodels/genmod/generalized_linear_model.py:293: DomainWarning: The nbinom link function does not respect the domain of the NegativeBinomial family.\n",
            "  warnings.warn((f\"The {type(family.link).__name__} link function \"\n"
          ]
        },
        {
          "output_type": "stream",
          "name": "stdout",
          "text": [
            "NaN, inf or invalid value detected in endog, estimation infeasible.\n"
          ]
        },
        {
          "output_type": "stream",
          "name": "stderr",
          "text": [
            "/usr/local/lib/python3.8/dist-packages/statsmodels/genmod/generalized_linear_model.py:293: DomainWarning: The Power link function does not respect the domain of the NegativeBinomial family.\n",
            "  warnings.warn((f\"The {type(family.link).__name__} link function \"\n"
          ]
        },
        {
          "output_type": "stream",
          "name": "stdout",
          "text": [
            "NaN, inf or invalid value detected in weights, estimation infeasible.\n"
          ]
        },
        {
          "output_type": "stream",
          "name": "stderr",
          "text": [
            "/usr/local/lib/python3.8/dist-packages/statsmodels/genmod/generalized_linear_model.py:293: DomainWarning: The Power link function does not respect the domain of the NegativeBinomial family.\n",
            "  warnings.warn((f\"The {type(family.link).__name__} link function \"\n"
          ]
        },
        {
          "output_type": "stream",
          "name": "stdout",
          "text": [
            "NaN, inf or invalid value detected in weights, estimation infeasible.\n",
            "Adding negbinom_score_xCols50Cent_log\n"
          ]
        },
        {
          "output_type": "stream",
          "name": "stderr",
          "text": [
            "/usr/local/lib/python3.8/dist-packages/statsmodels/genmod/generalized_linear_model.py:293: DomainWarning: The cloglog link function does not respect the domain of the NegativeBinomial family.\n",
            "  warnings.warn((f\"The {type(family.link).__name__} link function \"\n"
          ]
        },
        {
          "output_type": "stream",
          "name": "stdout",
          "text": [
            "Adding negbinom_score_xCols50Cent_cloglog\n"
          ]
        },
        {
          "output_type": "stream",
          "name": "stderr",
          "text": [
            "/usr/local/lib/python3.8/dist-packages/statsmodels/genmod/generalized_linear_model.py:293: DomainWarning: The identity link function does not respect the domain of the NegativeBinomial family.\n",
            "  warnings.warn((f\"The {type(family.link).__name__} link function \"\n"
          ]
        },
        {
          "output_type": "stream",
          "name": "stdout",
          "text": [
            "Adding negbinom_score_xCols50Cent_ident\n"
          ]
        },
        {
          "output_type": "stream",
          "name": "stderr",
          "text": [
            "/usr/local/lib/python3.8/dist-packages/statsmodels/genmod/generalized_linear_model.py:293: DomainWarning: The nbinom link function does not respect the domain of the NegativeBinomial family.\n",
            "  warnings.warn((f\"The {type(family.link).__name__} link function \"\n"
          ]
        },
        {
          "output_type": "stream",
          "name": "stdout",
          "text": [
            "NaN, inf or invalid value detected in endog, estimation infeasible.\n"
          ]
        },
        {
          "output_type": "stream",
          "name": "stderr",
          "text": [
            "/usr/local/lib/python3.8/dist-packages/statsmodels/genmod/generalized_linear_model.py:293: DomainWarning: The Power link function does not respect the domain of the NegativeBinomial family.\n",
            "  warnings.warn((f\"The {type(family.link).__name__} link function \"\n"
          ]
        },
        {
          "output_type": "stream",
          "name": "stdout",
          "text": [
            "NaN, inf or invalid value detected in weights, estimation infeasible.\n"
          ]
        },
        {
          "output_type": "stream",
          "name": "stderr",
          "text": [
            "/usr/local/lib/python3.8/dist-packages/statsmodels/genmod/generalized_linear_model.py:293: DomainWarning: The Power link function does not respect the domain of the NegativeBinomial family.\n",
            "  warnings.warn((f\"The {type(family.link).__name__} link function \"\n"
          ]
        },
        {
          "output_type": "stream",
          "name": "stdout",
          "text": [
            "NaN, inf or invalid value detected in weights, estimation infeasible.\n",
            "Adding negbinom_score_xCols51Cent_log\n"
          ]
        },
        {
          "output_type": "stream",
          "name": "stderr",
          "text": [
            "/usr/local/lib/python3.8/dist-packages/statsmodels/genmod/generalized_linear_model.py:293: DomainWarning: The cloglog link function does not respect the domain of the NegativeBinomial family.\n",
            "  warnings.warn((f\"The {type(family.link).__name__} link function \"\n"
          ]
        },
        {
          "output_type": "stream",
          "name": "stdout",
          "text": [
            "Adding negbinom_score_xCols51Cent_cloglog\n"
          ]
        },
        {
          "output_type": "stream",
          "name": "stderr",
          "text": [
            "/usr/local/lib/python3.8/dist-packages/statsmodels/genmod/generalized_linear_model.py:293: DomainWarning: The identity link function does not respect the domain of the NegativeBinomial family.\n",
            "  warnings.warn((f\"The {type(family.link).__name__} link function \"\n"
          ]
        },
        {
          "output_type": "stream",
          "name": "stdout",
          "text": [
            "Adding negbinom_score_xCols51Cent_ident\n"
          ]
        },
        {
          "output_type": "stream",
          "name": "stderr",
          "text": [
            "/usr/local/lib/python3.8/dist-packages/statsmodels/genmod/generalized_linear_model.py:293: DomainWarning: The nbinom link function does not respect the domain of the NegativeBinomial family.\n",
            "  warnings.warn((f\"The {type(family.link).__name__} link function \"\n"
          ]
        },
        {
          "output_type": "stream",
          "name": "stdout",
          "text": [
            "NaN, inf or invalid value detected in endog, estimation infeasible.\n"
          ]
        },
        {
          "output_type": "stream",
          "name": "stderr",
          "text": [
            "/usr/local/lib/python3.8/dist-packages/statsmodels/genmod/generalized_linear_model.py:293: DomainWarning: The Power link function does not respect the domain of the NegativeBinomial family.\n",
            "  warnings.warn((f\"The {type(family.link).__name__} link function \"\n"
          ]
        },
        {
          "output_type": "stream",
          "name": "stdout",
          "text": [
            "NaN, inf or invalid value detected in weights, estimation infeasible.\n"
          ]
        },
        {
          "output_type": "stream",
          "name": "stderr",
          "text": [
            "/usr/local/lib/python3.8/dist-packages/statsmodels/genmod/generalized_linear_model.py:293: DomainWarning: The Power link function does not respect the domain of the NegativeBinomial family.\n",
            "  warnings.warn((f\"The {type(family.link).__name__} link function \"\n"
          ]
        },
        {
          "output_type": "stream",
          "name": "stdout",
          "text": [
            "NaN, inf or invalid value detected in weights, estimation infeasible.\n",
            "Adding negbinom_score_xCols52Cent_log\n"
          ]
        },
        {
          "output_type": "stream",
          "name": "stderr",
          "text": [
            "/usr/local/lib/python3.8/dist-packages/statsmodels/genmod/generalized_linear_model.py:293: DomainWarning: The cloglog link function does not respect the domain of the NegativeBinomial family.\n",
            "  warnings.warn((f\"The {type(family.link).__name__} link function \"\n"
          ]
        },
        {
          "output_type": "stream",
          "name": "stdout",
          "text": [
            "Adding negbinom_score_xCols52Cent_cloglog\n"
          ]
        },
        {
          "output_type": "stream",
          "name": "stderr",
          "text": [
            "/usr/local/lib/python3.8/dist-packages/statsmodels/genmod/generalized_linear_model.py:293: DomainWarning: The identity link function does not respect the domain of the NegativeBinomial family.\n",
            "  warnings.warn((f\"The {type(family.link).__name__} link function \"\n"
          ]
        },
        {
          "output_type": "stream",
          "name": "stdout",
          "text": [
            "Adding negbinom_score_xCols52Cent_ident\n"
          ]
        },
        {
          "output_type": "stream",
          "name": "stderr",
          "text": [
            "/usr/local/lib/python3.8/dist-packages/statsmodels/genmod/generalized_linear_model.py:293: DomainWarning: The nbinom link function does not respect the domain of the NegativeBinomial family.\n",
            "  warnings.warn((f\"The {type(family.link).__name__} link function \"\n"
          ]
        },
        {
          "output_type": "stream",
          "name": "stdout",
          "text": [
            "NaN, inf or invalid value detected in endog, estimation infeasible.\n"
          ]
        },
        {
          "output_type": "stream",
          "name": "stderr",
          "text": [
            "/usr/local/lib/python3.8/dist-packages/statsmodels/genmod/generalized_linear_model.py:293: DomainWarning: The Power link function does not respect the domain of the NegativeBinomial family.\n",
            "  warnings.warn((f\"The {type(family.link).__name__} link function \"\n"
          ]
        },
        {
          "output_type": "stream",
          "name": "stdout",
          "text": [
            "NaN, inf or invalid value detected in weights, estimation infeasible.\n"
          ]
        },
        {
          "output_type": "stream",
          "name": "stderr",
          "text": [
            "/usr/local/lib/python3.8/dist-packages/statsmodels/genmod/generalized_linear_model.py:293: DomainWarning: The Power link function does not respect the domain of the NegativeBinomial family.\n",
            "  warnings.warn((f\"The {type(family.link).__name__} link function \"\n"
          ]
        },
        {
          "output_type": "stream",
          "name": "stdout",
          "text": [
            "NaN, inf or invalid value detected in weights, estimation infeasible.\n",
            "Adding negbinom_score_xCols53Cent_log\n"
          ]
        },
        {
          "output_type": "stream",
          "name": "stderr",
          "text": [
            "/usr/local/lib/python3.8/dist-packages/statsmodels/genmod/generalized_linear_model.py:293: DomainWarning: The cloglog link function does not respect the domain of the NegativeBinomial family.\n",
            "  warnings.warn((f\"The {type(family.link).__name__} link function \"\n"
          ]
        },
        {
          "output_type": "stream",
          "name": "stdout",
          "text": [
            "Adding negbinom_score_xCols53Cent_cloglog\n"
          ]
        },
        {
          "output_type": "stream",
          "name": "stderr",
          "text": [
            "/usr/local/lib/python3.8/dist-packages/statsmodels/genmod/generalized_linear_model.py:293: DomainWarning: The identity link function does not respect the domain of the NegativeBinomial family.\n",
            "  warnings.warn((f\"The {type(family.link).__name__} link function \"\n"
          ]
        },
        {
          "output_type": "stream",
          "name": "stdout",
          "text": [
            "Adding negbinom_score_xCols53Cent_ident\n"
          ]
        },
        {
          "output_type": "stream",
          "name": "stderr",
          "text": [
            "/usr/local/lib/python3.8/dist-packages/statsmodels/genmod/generalized_linear_model.py:293: DomainWarning: The nbinom link function does not respect the domain of the NegativeBinomial family.\n",
            "  warnings.warn((f\"The {type(family.link).__name__} link function \"\n"
          ]
        },
        {
          "output_type": "stream",
          "name": "stdout",
          "text": [
            "NaN, inf or invalid value detected in endog, estimation infeasible.\n"
          ]
        },
        {
          "output_type": "stream",
          "name": "stderr",
          "text": [
            "/usr/local/lib/python3.8/dist-packages/statsmodels/genmod/generalized_linear_model.py:293: DomainWarning: The Power link function does not respect the domain of the NegativeBinomial family.\n",
            "  warnings.warn((f\"The {type(family.link).__name__} link function \"\n"
          ]
        },
        {
          "output_type": "stream",
          "name": "stdout",
          "text": [
            "NaN, inf or invalid value detected in weights, estimation infeasible.\n"
          ]
        },
        {
          "output_type": "stream",
          "name": "stderr",
          "text": [
            "/usr/local/lib/python3.8/dist-packages/statsmodels/genmod/generalized_linear_model.py:293: DomainWarning: The Power link function does not respect the domain of the NegativeBinomial family.\n",
            "  warnings.warn((f\"The {type(family.link).__name__} link function \"\n"
          ]
        },
        {
          "output_type": "stream",
          "name": "stdout",
          "text": [
            "NaN, inf or invalid value detected in weights, estimation infeasible.\n",
            "Adding negbinom_score_xCols54Cent_log\n"
          ]
        },
        {
          "output_type": "stream",
          "name": "stderr",
          "text": [
            "/usr/local/lib/python3.8/dist-packages/statsmodels/genmod/generalized_linear_model.py:293: DomainWarning: The cloglog link function does not respect the domain of the NegativeBinomial family.\n",
            "  warnings.warn((f\"The {type(family.link).__name__} link function \"\n"
          ]
        },
        {
          "output_type": "stream",
          "name": "stdout",
          "text": [
            "Adding negbinom_score_xCols54Cent_cloglog\n"
          ]
        },
        {
          "output_type": "stream",
          "name": "stderr",
          "text": [
            "/usr/local/lib/python3.8/dist-packages/statsmodels/genmod/generalized_linear_model.py:293: DomainWarning: The identity link function does not respect the domain of the NegativeBinomial family.\n",
            "  warnings.warn((f\"The {type(family.link).__name__} link function \"\n"
          ]
        },
        {
          "output_type": "stream",
          "name": "stdout",
          "text": [
            "Adding negbinom_score_xCols54Cent_ident\n"
          ]
        },
        {
          "output_type": "stream",
          "name": "stderr",
          "text": [
            "/usr/local/lib/python3.8/dist-packages/statsmodels/genmod/generalized_linear_model.py:293: DomainWarning: The nbinom link function does not respect the domain of the NegativeBinomial family.\n",
            "  warnings.warn((f\"The {type(family.link).__name__} link function \"\n"
          ]
        },
        {
          "output_type": "stream",
          "name": "stdout",
          "text": [
            "NaN, inf or invalid value detected in endog, estimation infeasible.\n"
          ]
        },
        {
          "output_type": "stream",
          "name": "stderr",
          "text": [
            "/usr/local/lib/python3.8/dist-packages/statsmodels/genmod/generalized_linear_model.py:293: DomainWarning: The Power link function does not respect the domain of the NegativeBinomial family.\n",
            "  warnings.warn((f\"The {type(family.link).__name__} link function \"\n"
          ]
        },
        {
          "output_type": "stream",
          "name": "stdout",
          "text": [
            "NaN, inf or invalid value detected in weights, estimation infeasible.\n"
          ]
        },
        {
          "output_type": "stream",
          "name": "stderr",
          "text": [
            "/usr/local/lib/python3.8/dist-packages/statsmodels/genmod/generalized_linear_model.py:293: DomainWarning: The Power link function does not respect the domain of the NegativeBinomial family.\n",
            "  warnings.warn((f\"The {type(family.link).__name__} link function \"\n"
          ]
        },
        {
          "output_type": "stream",
          "name": "stdout",
          "text": [
            "NaN, inf or invalid value detected in weights, estimation infeasible.\n",
            "Adding negbinom_score_xCols55Cent_log\n"
          ]
        },
        {
          "output_type": "stream",
          "name": "stderr",
          "text": [
            "/usr/local/lib/python3.8/dist-packages/statsmodels/genmod/generalized_linear_model.py:293: DomainWarning: The cloglog link function does not respect the domain of the NegativeBinomial family.\n",
            "  warnings.warn((f\"The {type(family.link).__name__} link function \"\n"
          ]
        },
        {
          "output_type": "stream",
          "name": "stdout",
          "text": [
            "Adding negbinom_score_xCols55Cent_cloglog\n"
          ]
        },
        {
          "output_type": "stream",
          "name": "stderr",
          "text": [
            "/usr/local/lib/python3.8/dist-packages/statsmodels/genmod/generalized_linear_model.py:293: DomainWarning: The identity link function does not respect the domain of the NegativeBinomial family.\n",
            "  warnings.warn((f\"The {type(family.link).__name__} link function \"\n"
          ]
        },
        {
          "output_type": "stream",
          "name": "stdout",
          "text": [
            "Adding negbinom_score_xCols55Cent_ident\n"
          ]
        },
        {
          "output_type": "stream",
          "name": "stderr",
          "text": [
            "/usr/local/lib/python3.8/dist-packages/statsmodels/genmod/generalized_linear_model.py:293: DomainWarning: The nbinom link function does not respect the domain of the NegativeBinomial family.\n",
            "  warnings.warn((f\"The {type(family.link).__name__} link function \"\n"
          ]
        },
        {
          "output_type": "stream",
          "name": "stdout",
          "text": [
            "NaN, inf or invalid value detected in endog, estimation infeasible.\n"
          ]
        },
        {
          "output_type": "stream",
          "name": "stderr",
          "text": [
            "/usr/local/lib/python3.8/dist-packages/statsmodels/genmod/generalized_linear_model.py:293: DomainWarning: The Power link function does not respect the domain of the NegativeBinomial family.\n",
            "  warnings.warn((f\"The {type(family.link).__name__} link function \"\n"
          ]
        },
        {
          "output_type": "stream",
          "name": "stdout",
          "text": [
            "NaN, inf or invalid value detected in weights, estimation infeasible.\n"
          ]
        },
        {
          "output_type": "stream",
          "name": "stderr",
          "text": [
            "/usr/local/lib/python3.8/dist-packages/statsmodels/genmod/generalized_linear_model.py:293: DomainWarning: The Power link function does not respect the domain of the NegativeBinomial family.\n",
            "  warnings.warn((f\"The {type(family.link).__name__} link function \"\n"
          ]
        },
        {
          "output_type": "stream",
          "name": "stdout",
          "text": [
            "NaN, inf or invalid value detected in weights, estimation infeasible.\n",
            "Adding negbinom_score_xCols56Cent_log\n"
          ]
        },
        {
          "output_type": "stream",
          "name": "stderr",
          "text": [
            "/usr/local/lib/python3.8/dist-packages/statsmodels/genmod/generalized_linear_model.py:293: DomainWarning: The cloglog link function does not respect the domain of the NegativeBinomial family.\n",
            "  warnings.warn((f\"The {type(family.link).__name__} link function \"\n"
          ]
        },
        {
          "output_type": "stream",
          "name": "stdout",
          "text": [
            "Adding negbinom_score_xCols56Cent_cloglog\n"
          ]
        },
        {
          "output_type": "stream",
          "name": "stderr",
          "text": [
            "/usr/local/lib/python3.8/dist-packages/statsmodels/genmod/generalized_linear_model.py:293: DomainWarning: The identity link function does not respect the domain of the NegativeBinomial family.\n",
            "  warnings.warn((f\"The {type(family.link).__name__} link function \"\n"
          ]
        },
        {
          "output_type": "stream",
          "name": "stdout",
          "text": [
            "Adding negbinom_score_xCols56Cent_ident\n"
          ]
        },
        {
          "output_type": "stream",
          "name": "stderr",
          "text": [
            "/usr/local/lib/python3.8/dist-packages/statsmodels/genmod/generalized_linear_model.py:293: DomainWarning: The nbinom link function does not respect the domain of the NegativeBinomial family.\n",
            "  warnings.warn((f\"The {type(family.link).__name__} link function \"\n"
          ]
        },
        {
          "output_type": "stream",
          "name": "stdout",
          "text": [
            "NaN, inf or invalid value detected in endog, estimation infeasible.\n"
          ]
        },
        {
          "output_type": "stream",
          "name": "stderr",
          "text": [
            "/usr/local/lib/python3.8/dist-packages/statsmodels/genmod/generalized_linear_model.py:293: DomainWarning: The Power link function does not respect the domain of the NegativeBinomial family.\n",
            "  warnings.warn((f\"The {type(family.link).__name__} link function \"\n"
          ]
        },
        {
          "output_type": "stream",
          "name": "stdout",
          "text": [
            "NaN, inf or invalid value detected in weights, estimation infeasible.\n"
          ]
        },
        {
          "output_type": "stream",
          "name": "stderr",
          "text": [
            "/usr/local/lib/python3.8/dist-packages/statsmodels/genmod/generalized_linear_model.py:293: DomainWarning: The Power link function does not respect the domain of the NegativeBinomial family.\n",
            "  warnings.warn((f\"The {type(family.link).__name__} link function \"\n"
          ]
        },
        {
          "output_type": "stream",
          "name": "stdout",
          "text": [
            "NaN, inf or invalid value detected in weights, estimation infeasible.\n",
            "Adding negbinom_score_xCols57Cent_log\n"
          ]
        },
        {
          "output_type": "stream",
          "name": "stderr",
          "text": [
            "/usr/local/lib/python3.8/dist-packages/statsmodels/genmod/generalized_linear_model.py:293: DomainWarning: The cloglog link function does not respect the domain of the NegativeBinomial family.\n",
            "  warnings.warn((f\"The {type(family.link).__name__} link function \"\n"
          ]
        },
        {
          "output_type": "stream",
          "name": "stdout",
          "text": [
            "Adding negbinom_score_xCols57Cent_cloglog\n"
          ]
        },
        {
          "output_type": "stream",
          "name": "stderr",
          "text": [
            "/usr/local/lib/python3.8/dist-packages/statsmodels/genmod/generalized_linear_model.py:293: DomainWarning: The identity link function does not respect the domain of the NegativeBinomial family.\n",
            "  warnings.warn((f\"The {type(family.link).__name__} link function \"\n"
          ]
        },
        {
          "output_type": "stream",
          "name": "stdout",
          "text": [
            "Adding negbinom_score_xCols57Cent_ident\n"
          ]
        },
        {
          "output_type": "stream",
          "name": "stderr",
          "text": [
            "/usr/local/lib/python3.8/dist-packages/statsmodels/genmod/generalized_linear_model.py:293: DomainWarning: The nbinom link function does not respect the domain of the NegativeBinomial family.\n",
            "  warnings.warn((f\"The {type(family.link).__name__} link function \"\n"
          ]
        },
        {
          "output_type": "stream",
          "name": "stdout",
          "text": [
            "NaN, inf or invalid value detected in endog, estimation infeasible.\n"
          ]
        },
        {
          "output_type": "stream",
          "name": "stderr",
          "text": [
            "/usr/local/lib/python3.8/dist-packages/statsmodels/genmod/generalized_linear_model.py:293: DomainWarning: The Power link function does not respect the domain of the NegativeBinomial family.\n",
            "  warnings.warn((f\"The {type(family.link).__name__} link function \"\n"
          ]
        },
        {
          "output_type": "stream",
          "name": "stdout",
          "text": [
            "NaN, inf or invalid value detected in weights, estimation infeasible.\n"
          ]
        },
        {
          "output_type": "stream",
          "name": "stderr",
          "text": [
            "/usr/local/lib/python3.8/dist-packages/statsmodels/genmod/generalized_linear_model.py:293: DomainWarning: The Power link function does not respect the domain of the NegativeBinomial family.\n",
            "  warnings.warn((f\"The {type(family.link).__name__} link function \"\n"
          ]
        },
        {
          "output_type": "stream",
          "name": "stdout",
          "text": [
            "NaN, inf or invalid value detected in weights, estimation infeasible.\n",
            "Adding negbinom_score_xCols58Cent_log\n"
          ]
        },
        {
          "output_type": "stream",
          "name": "stderr",
          "text": [
            "/usr/local/lib/python3.8/dist-packages/statsmodels/genmod/generalized_linear_model.py:293: DomainWarning: The cloglog link function does not respect the domain of the NegativeBinomial family.\n",
            "  warnings.warn((f\"The {type(family.link).__name__} link function \"\n"
          ]
        },
        {
          "output_type": "stream",
          "name": "stdout",
          "text": [
            "Adding negbinom_score_xCols58Cent_cloglog\n"
          ]
        },
        {
          "output_type": "stream",
          "name": "stderr",
          "text": [
            "/usr/local/lib/python3.8/dist-packages/statsmodels/genmod/generalized_linear_model.py:293: DomainWarning: The identity link function does not respect the domain of the NegativeBinomial family.\n",
            "  warnings.warn((f\"The {type(family.link).__name__} link function \"\n"
          ]
        },
        {
          "output_type": "stream",
          "name": "stdout",
          "text": [
            "Adding negbinom_score_xCols58Cent_ident\n"
          ]
        },
        {
          "output_type": "stream",
          "name": "stderr",
          "text": [
            "/usr/local/lib/python3.8/dist-packages/statsmodels/genmod/generalized_linear_model.py:293: DomainWarning: The nbinom link function does not respect the domain of the NegativeBinomial family.\n",
            "  warnings.warn((f\"The {type(family.link).__name__} link function \"\n"
          ]
        },
        {
          "output_type": "stream",
          "name": "stdout",
          "text": [
            "NaN, inf or invalid value detected in endog, estimation infeasible.\n"
          ]
        },
        {
          "output_type": "stream",
          "name": "stderr",
          "text": [
            "/usr/local/lib/python3.8/dist-packages/statsmodels/genmod/generalized_linear_model.py:293: DomainWarning: The Power link function does not respect the domain of the NegativeBinomial family.\n",
            "  warnings.warn((f\"The {type(family.link).__name__} link function \"\n"
          ]
        },
        {
          "output_type": "stream",
          "name": "stdout",
          "text": [
            "NaN, inf or invalid value detected in weights, estimation infeasible.\n"
          ]
        },
        {
          "output_type": "stream",
          "name": "stderr",
          "text": [
            "/usr/local/lib/python3.8/dist-packages/statsmodels/genmod/generalized_linear_model.py:293: DomainWarning: The Power link function does not respect the domain of the NegativeBinomial family.\n",
            "  warnings.warn((f\"The {type(family.link).__name__} link function \"\n"
          ]
        },
        {
          "output_type": "stream",
          "name": "stdout",
          "text": [
            "NaN, inf or invalid value detected in weights, estimation infeasible.\n",
            "Adding negbinom_score_xCols59Cent_log\n"
          ]
        },
        {
          "output_type": "stream",
          "name": "stderr",
          "text": [
            "/usr/local/lib/python3.8/dist-packages/statsmodels/genmod/generalized_linear_model.py:293: DomainWarning: The cloglog link function does not respect the domain of the NegativeBinomial family.\n",
            "  warnings.warn((f\"The {type(family.link).__name__} link function \"\n"
          ]
        },
        {
          "output_type": "stream",
          "name": "stdout",
          "text": [
            "Adding negbinom_score_xCols59Cent_cloglog\n"
          ]
        },
        {
          "output_type": "stream",
          "name": "stderr",
          "text": [
            "/usr/local/lib/python3.8/dist-packages/statsmodels/genmod/generalized_linear_model.py:293: DomainWarning: The identity link function does not respect the domain of the NegativeBinomial family.\n",
            "  warnings.warn((f\"The {type(family.link).__name__} link function \"\n"
          ]
        },
        {
          "output_type": "stream",
          "name": "stdout",
          "text": [
            "Adding negbinom_score_xCols59Cent_ident\n"
          ]
        },
        {
          "output_type": "stream",
          "name": "stderr",
          "text": [
            "/usr/local/lib/python3.8/dist-packages/statsmodels/genmod/generalized_linear_model.py:293: DomainWarning: The nbinom link function does not respect the domain of the NegativeBinomial family.\n",
            "  warnings.warn((f\"The {type(family.link).__name__} link function \"\n"
          ]
        },
        {
          "output_type": "stream",
          "name": "stdout",
          "text": [
            "NaN, inf or invalid value detected in endog, estimation infeasible.\n"
          ]
        },
        {
          "output_type": "stream",
          "name": "stderr",
          "text": [
            "/usr/local/lib/python3.8/dist-packages/statsmodels/genmod/generalized_linear_model.py:293: DomainWarning: The Power link function does not respect the domain of the NegativeBinomial family.\n",
            "  warnings.warn((f\"The {type(family.link).__name__} link function \"\n"
          ]
        },
        {
          "output_type": "stream",
          "name": "stdout",
          "text": [
            "NaN, inf or invalid value detected in weights, estimation infeasible.\n"
          ]
        },
        {
          "output_type": "stream",
          "name": "stderr",
          "text": [
            "/usr/local/lib/python3.8/dist-packages/statsmodels/genmod/generalized_linear_model.py:293: DomainWarning: The Power link function does not respect the domain of the NegativeBinomial family.\n",
            "  warnings.warn((f\"The {type(family.link).__name__} link function \"\n"
          ]
        },
        {
          "output_type": "stream",
          "name": "stdout",
          "text": [
            "NaN, inf or invalid value detected in weights, estimation infeasible.\n",
            "Adding negbinom_score_xCols60Cent_log\n"
          ]
        },
        {
          "output_type": "stream",
          "name": "stderr",
          "text": [
            "/usr/local/lib/python3.8/dist-packages/statsmodels/genmod/generalized_linear_model.py:293: DomainWarning: The cloglog link function does not respect the domain of the NegativeBinomial family.\n",
            "  warnings.warn((f\"The {type(family.link).__name__} link function \"\n"
          ]
        },
        {
          "output_type": "stream",
          "name": "stdout",
          "text": [
            "Adding negbinom_score_xCols60Cent_cloglog\n"
          ]
        },
        {
          "output_type": "stream",
          "name": "stderr",
          "text": [
            "/usr/local/lib/python3.8/dist-packages/statsmodels/genmod/generalized_linear_model.py:293: DomainWarning: The identity link function does not respect the domain of the NegativeBinomial family.\n",
            "  warnings.warn((f\"The {type(family.link).__name__} link function \"\n"
          ]
        },
        {
          "output_type": "stream",
          "name": "stdout",
          "text": [
            "Adding negbinom_score_xCols60Cent_ident\n"
          ]
        },
        {
          "output_type": "stream",
          "name": "stderr",
          "text": [
            "/usr/local/lib/python3.8/dist-packages/statsmodels/genmod/generalized_linear_model.py:293: DomainWarning: The nbinom link function does not respect the domain of the NegativeBinomial family.\n",
            "  warnings.warn((f\"The {type(family.link).__name__} link function \"\n"
          ]
        },
        {
          "output_type": "stream",
          "name": "stdout",
          "text": [
            "NaN, inf or invalid value detected in endog, estimation infeasible.\n"
          ]
        },
        {
          "output_type": "stream",
          "name": "stderr",
          "text": [
            "/usr/local/lib/python3.8/dist-packages/statsmodels/genmod/generalized_linear_model.py:293: DomainWarning: The Power link function does not respect the domain of the NegativeBinomial family.\n",
            "  warnings.warn((f\"The {type(family.link).__name__} link function \"\n"
          ]
        },
        {
          "output_type": "stream",
          "name": "stdout",
          "text": [
            "NaN, inf or invalid value detected in weights, estimation infeasible.\n"
          ]
        },
        {
          "output_type": "stream",
          "name": "stderr",
          "text": [
            "/usr/local/lib/python3.8/dist-packages/statsmodels/genmod/generalized_linear_model.py:293: DomainWarning: The Power link function does not respect the domain of the NegativeBinomial family.\n",
            "  warnings.warn((f\"The {type(family.link).__name__} link function \"\n"
          ]
        },
        {
          "output_type": "stream",
          "name": "stdout",
          "text": [
            "NaN, inf or invalid value detected in weights, estimation infeasible.\n",
            "Adding negbinom_score_xCols61Cent_log\n"
          ]
        },
        {
          "output_type": "stream",
          "name": "stderr",
          "text": [
            "/usr/local/lib/python3.8/dist-packages/statsmodels/genmod/generalized_linear_model.py:293: DomainWarning: The cloglog link function does not respect the domain of the NegativeBinomial family.\n",
            "  warnings.warn((f\"The {type(family.link).__name__} link function \"\n"
          ]
        },
        {
          "output_type": "stream",
          "name": "stdout",
          "text": [
            "Adding negbinom_score_xCols61Cent_cloglog\n"
          ]
        },
        {
          "output_type": "stream",
          "name": "stderr",
          "text": [
            "/usr/local/lib/python3.8/dist-packages/statsmodels/genmod/generalized_linear_model.py:293: DomainWarning: The identity link function does not respect the domain of the NegativeBinomial family.\n",
            "  warnings.warn((f\"The {type(family.link).__name__} link function \"\n"
          ]
        },
        {
          "output_type": "stream",
          "name": "stdout",
          "text": [
            "Adding negbinom_score_xCols61Cent_ident\n"
          ]
        },
        {
          "output_type": "stream",
          "name": "stderr",
          "text": [
            "/usr/local/lib/python3.8/dist-packages/statsmodels/genmod/generalized_linear_model.py:293: DomainWarning: The nbinom link function does not respect the domain of the NegativeBinomial family.\n",
            "  warnings.warn((f\"The {type(family.link).__name__} link function \"\n"
          ]
        },
        {
          "output_type": "stream",
          "name": "stdout",
          "text": [
            "NaN, inf or invalid value detected in endog, estimation infeasible.\n"
          ]
        },
        {
          "output_type": "stream",
          "name": "stderr",
          "text": [
            "/usr/local/lib/python3.8/dist-packages/statsmodels/genmod/generalized_linear_model.py:293: DomainWarning: The Power link function does not respect the domain of the NegativeBinomial family.\n",
            "  warnings.warn((f\"The {type(family.link).__name__} link function \"\n"
          ]
        },
        {
          "output_type": "stream",
          "name": "stdout",
          "text": [
            "NaN, inf or invalid value detected in weights, estimation infeasible.\n"
          ]
        },
        {
          "output_type": "stream",
          "name": "stderr",
          "text": [
            "/usr/local/lib/python3.8/dist-packages/statsmodels/genmod/generalized_linear_model.py:293: DomainWarning: The Power link function does not respect the domain of the NegativeBinomial family.\n",
            "  warnings.warn((f\"The {type(family.link).__name__} link function \"\n"
          ]
        },
        {
          "output_type": "stream",
          "name": "stdout",
          "text": [
            "NaN, inf or invalid value detected in weights, estimation infeasible.\n",
            "Adding negbinom_score_xCols62Cent_log\n"
          ]
        },
        {
          "output_type": "stream",
          "name": "stderr",
          "text": [
            "/usr/local/lib/python3.8/dist-packages/statsmodels/genmod/generalized_linear_model.py:293: DomainWarning: The cloglog link function does not respect the domain of the NegativeBinomial family.\n",
            "  warnings.warn((f\"The {type(family.link).__name__} link function \"\n"
          ]
        },
        {
          "output_type": "stream",
          "name": "stdout",
          "text": [
            "Adding negbinom_score_xCols62Cent_cloglog\n"
          ]
        },
        {
          "output_type": "stream",
          "name": "stderr",
          "text": [
            "/usr/local/lib/python3.8/dist-packages/statsmodels/genmod/generalized_linear_model.py:293: DomainWarning: The identity link function does not respect the domain of the NegativeBinomial family.\n",
            "  warnings.warn((f\"The {type(family.link).__name__} link function \"\n"
          ]
        },
        {
          "output_type": "stream",
          "name": "stdout",
          "text": [
            "Adding negbinom_score_xCols62Cent_ident\n"
          ]
        },
        {
          "output_type": "stream",
          "name": "stderr",
          "text": [
            "/usr/local/lib/python3.8/dist-packages/statsmodels/genmod/generalized_linear_model.py:293: DomainWarning: The nbinom link function does not respect the domain of the NegativeBinomial family.\n",
            "  warnings.warn((f\"The {type(family.link).__name__} link function \"\n"
          ]
        },
        {
          "output_type": "stream",
          "name": "stdout",
          "text": [
            "NaN, inf or invalid value detected in endog, estimation infeasible.\n"
          ]
        },
        {
          "output_type": "stream",
          "name": "stderr",
          "text": [
            "/usr/local/lib/python3.8/dist-packages/statsmodels/genmod/generalized_linear_model.py:293: DomainWarning: The Power link function does not respect the domain of the NegativeBinomial family.\n",
            "  warnings.warn((f\"The {type(family.link).__name__} link function \"\n"
          ]
        },
        {
          "output_type": "stream",
          "name": "stdout",
          "text": [
            "NaN, inf or invalid value detected in weights, estimation infeasible.\n",
            "NaN, inf or invalid value detected in weights, estimation infeasible.\n"
          ]
        },
        {
          "output_type": "stream",
          "name": "stderr",
          "text": [
            "/usr/local/lib/python3.8/dist-packages/statsmodels/genmod/generalized_linear_model.py:293: DomainWarning: The Power link function does not respect the domain of the NegativeBinomial family.\n",
            "  warnings.warn((f\"The {type(family.link).__name__} link function \"\n"
          ]
        }
      ]
    },
    {
      "cell_type": "markdown",
      "source": [
        "##### 3.5.2.3 Gaussian GLM"
      ],
      "metadata": {
        "id": "_kM_Imjo8PJj"
      }
    },
    {
      "cell_type": "code",
      "source": [
        "#get dict of available links for Gaussian model\n",
        "#linkFuncts = {'log':sm.genmod.families.links.log(),\n",
        "#              'ident':sm.genmod.families.links.identity(),\n",
        "#              'invpow':sm.genmod.families.links.inverse_power()}\n",
        "\n",
        "linkFuncts = {'log':sm.genmod.families.links.log(),\n",
        "              'ident':sm.genmod.families.links.identity()}\n",
        "           \n",
        "for k0 in yDict.keys():\n",
        "    Y = yDict[k0]\n",
        "    for k1 in xCols.keys():\n",
        "        x = xCols[k1]\n",
        "        for k2 in linkFuncts.keys():\n",
        "            glm  = sm.GLM(Y,\n",
        "                          sm.add_constant(df.loc[ixTr,x]),\n",
        "                          family=sm.families.Gaussian(link=linkFuncts[k2])\n",
        "                          )\n",
        "            try:\n",
        "                res = glm.fit()\n",
        "            except ValueError as ve:\n",
        "                print(ve)\n",
        "            else:                \n",
        "                print(f'Adding gaussian_{k0}_{k1}_{k2}')\n",
        "                resDict[f'gaussian_{k0}_{k1}_{k2}'] = res"
      ],
      "metadata": {
        "colab": {
          "base_uri": "https://localhost:8080/"
        },
        "id": "YPYsJ6n98THb",
        "outputId": "9adf54f9-f63c-47e7-ca96-58e4acdc7732"
      },
      "execution_count": null,
      "outputs": [
        {
          "output_type": "stream",
          "name": "stdout",
          "text": [
            "Adding gaussian_score_xCols0_log\n",
            "Adding gaussian_score_xCols0_ident\n",
            "Adding gaussian_score_xCols1_log\n",
            "Adding gaussian_score_xCols1_ident\n",
            "Adding gaussian_score_xCols2_log\n",
            "Adding gaussian_score_xCols2_ident\n",
            "Adding gaussian_score_xCols3_log\n",
            "Adding gaussian_score_xCols3_ident\n",
            "Adding gaussian_score_xCols4_log\n",
            "Adding gaussian_score_xCols4_ident\n",
            "Adding gaussian_score_xCols5_log\n",
            "Adding gaussian_score_xCols5_ident\n",
            "Adding gaussian_score_xCols6_log\n",
            "Adding gaussian_score_xCols6_ident\n",
            "Adding gaussian_score_xCols7_log\n",
            "Adding gaussian_score_xCols7_ident\n",
            "Adding gaussian_score_xCols8_log\n",
            "Adding gaussian_score_xCols8_ident\n",
            "Adding gaussian_score_xCols9_log\n",
            "Adding gaussian_score_xCols9_ident\n",
            "Adding gaussian_score_xCols10_log\n",
            "Adding gaussian_score_xCols10_ident\n",
            "Adding gaussian_score_xCols11_log\n",
            "Adding gaussian_score_xCols11_ident\n",
            "Adding gaussian_score_xCols12_log\n",
            "Adding gaussian_score_xCols12_ident\n",
            "Adding gaussian_score_xCols13_log\n",
            "Adding gaussian_score_xCols13_ident\n",
            "Adding gaussian_score_xCols14_log\n",
            "Adding gaussian_score_xCols14_ident\n",
            "Adding gaussian_score_xCols15_log\n",
            "Adding gaussian_score_xCols15_ident\n",
            "Adding gaussian_score_xCols16_log\n",
            "Adding gaussian_score_xCols16_ident\n",
            "Adding gaussian_score_xCols17_log\n",
            "Adding gaussian_score_xCols17_ident\n",
            "Adding gaussian_score_xCols18_log\n",
            "Adding gaussian_score_xCols18_ident\n",
            "Adding gaussian_score_xCols19_log\n",
            "Adding gaussian_score_xCols19_ident\n",
            "Adding gaussian_score_xCols20_log\n",
            "Adding gaussian_score_xCols20_ident\n",
            "Adding gaussian_score_xCols21_log\n",
            "Adding gaussian_score_xCols21_ident\n",
            "Adding gaussian_score_xCols22_log\n",
            "Adding gaussian_score_xCols22_ident\n",
            "Adding gaussian_score_xCols23_log\n",
            "Adding gaussian_score_xCols23_ident\n",
            "Adding gaussian_score_xCols24_log\n",
            "Adding gaussian_score_xCols24_ident\n",
            "Adding gaussian_score_xCols25_log\n",
            "Adding gaussian_score_xCols25_ident\n",
            "Adding gaussian_score_xCols26_log\n",
            "Adding gaussian_score_xCols26_ident\n",
            "Adding gaussian_score_xCols27_log\n",
            "Adding gaussian_score_xCols27_ident\n",
            "Adding gaussian_score_xCols28_log\n",
            "Adding gaussian_score_xCols28_ident\n",
            "Adding gaussian_score_xCols29_log\n",
            "Adding gaussian_score_xCols29_ident\n",
            "Adding gaussian_score_xCols30_log\n",
            "Adding gaussian_score_xCols30_ident\n",
            "Adding gaussian_score_xCols31_log\n",
            "Adding gaussian_score_xCols31_ident\n",
            "Adding gaussian_score_xCols0Cent_log\n",
            "Adding gaussian_score_xCols0Cent_ident\n",
            "Adding gaussian_score_xCols32Cent_log\n",
            "Adding gaussian_score_xCols32Cent_ident\n",
            "Adding gaussian_score_xCols33Cent_log\n",
            "Adding gaussian_score_xCols33Cent_ident\n",
            "Adding gaussian_score_xCols34Cent_log\n",
            "Adding gaussian_score_xCols34Cent_ident\n",
            "Adding gaussian_score_xCols35Cent_log\n",
            "Adding gaussian_score_xCols35Cent_ident\n",
            "Adding gaussian_score_xCols36Cent_log\n",
            "Adding gaussian_score_xCols36Cent_ident\n",
            "Adding gaussian_score_xCols37Cent_log\n",
            "Adding gaussian_score_xCols37Cent_ident\n",
            "Adding gaussian_score_xCols38Cent_log\n",
            "Adding gaussian_score_xCols38Cent_ident\n",
            "Adding gaussian_score_xCols39Cent_log\n",
            "Adding gaussian_score_xCols39Cent_ident\n",
            "Adding gaussian_score_xCols40Cent_log\n",
            "Adding gaussian_score_xCols40Cent_ident\n",
            "Adding gaussian_score_xCols41Cent_log\n",
            "Adding gaussian_score_xCols41Cent_ident\n",
            "Adding gaussian_score_xCols42Cent_log\n",
            "Adding gaussian_score_xCols42Cent_ident\n",
            "Adding gaussian_score_xCols43Cent_log\n",
            "Adding gaussian_score_xCols43Cent_ident\n",
            "Adding gaussian_score_xCols44Cent_log\n",
            "Adding gaussian_score_xCols44Cent_ident\n",
            "Adding gaussian_score_xCols45Cent_log\n",
            "Adding gaussian_score_xCols45Cent_ident\n",
            "Adding gaussian_score_xCols46Cent_log\n",
            "Adding gaussian_score_xCols46Cent_ident\n",
            "Adding gaussian_score_xCols47Cent_log\n",
            "Adding gaussian_score_xCols47Cent_ident\n",
            "Adding gaussian_score_xCols48Cent_log\n",
            "Adding gaussian_score_xCols48Cent_ident\n",
            "Adding gaussian_score_xCols49Cent_log\n",
            "Adding gaussian_score_xCols49Cent_ident\n",
            "Adding gaussian_score_xCols50Cent_log\n",
            "Adding gaussian_score_xCols50Cent_ident\n",
            "Adding gaussian_score_xCols51Cent_log\n",
            "Adding gaussian_score_xCols51Cent_ident\n",
            "Adding gaussian_score_xCols52Cent_log\n",
            "Adding gaussian_score_xCols52Cent_ident\n",
            "Adding gaussian_score_xCols53Cent_log\n",
            "Adding gaussian_score_xCols53Cent_ident\n",
            "Adding gaussian_score_xCols54Cent_log\n",
            "Adding gaussian_score_xCols54Cent_ident\n",
            "Adding gaussian_score_xCols55Cent_log\n",
            "Adding gaussian_score_xCols55Cent_ident\n",
            "Adding gaussian_score_xCols56Cent_log\n",
            "Adding gaussian_score_xCols56Cent_ident\n",
            "Adding gaussian_score_xCols57Cent_log\n",
            "Adding gaussian_score_xCols57Cent_ident\n",
            "Adding gaussian_score_xCols58Cent_log\n",
            "Adding gaussian_score_xCols58Cent_ident\n",
            "Adding gaussian_score_xCols59Cent_log\n",
            "Adding gaussian_score_xCols59Cent_ident\n",
            "Adding gaussian_score_xCols60Cent_log\n",
            "Adding gaussian_score_xCols60Cent_ident\n",
            "Adding gaussian_score_xCols61Cent_log\n",
            "Adding gaussian_score_xCols61Cent_ident\n",
            "Adding gaussian_score_xCols62Cent_log\n",
            "Adding gaussian_score_xCols62Cent_ident\n"
          ]
        }
      ]
    },
    {
      "cell_type": "markdown",
      "source": [
        "Discard models that did not converge to a solution. Specifically, discard models where the log-likelihood is not-a-number, or diverges to infinity."
      ],
      "metadata": {
        "id": "d8jX3WE69OjJ"
      }
    },
    {
      "cell_type": "code",
      "source": [
        "# delete vars used in for-loops\n",
        "del(k0,k1,k2, linkFuncts, res, glm)\n",
        "del(x,Y)\n",
        "\n",
        "# discard null/inf values for llf\n",
        "discardList = [k for k in resDict.keys() if np.isnan(resDict[k].llf) or resDict[k].llf==np.inf]\n",
        "      \n",
        "# remove from resDict\n",
        "[resDict.pop(k) for k in discardList]\n",
        "    \n",
        "\n",
        "del(discardList)"
      ],
      "metadata": {
        "colab": {
          "base_uri": "https://localhost:8080/"
        },
        "id": "n-cINYZR9SSR",
        "outputId": "27ce5eef-5a63-4dd5-9e65-6e5f688a4a2c"
      },
      "execution_count": null,
      "outputs": [
        {
          "output_type": "stream",
          "name": "stderr",
          "text": [
            "/usr/local/lib/python3.8/dist-packages/statsmodels/genmod/families/family.py:460: RuntimeWarning: invalid value encountered in log\n",
            "  return var_weights / scale * (endog * np.log(mu) - mu -\n",
            "/usr/local/lib/python3.8/dist-packages/statsmodels/genmod/families/family.py:1279: RuntimeWarning: divide by zero encountered in log\n",
            "  ll_obs = endog * np.log(self.alpha * mu)\n",
            "/usr/local/lib/python3.8/dist-packages/statsmodels/genmod/families/family.py:1279: RuntimeWarning: invalid value encountered in multiply\n",
            "  ll_obs = endog * np.log(self.alpha * mu)\n",
            "/usr/local/lib/python3.8/dist-packages/statsmodels/genmod/families/family.py:1279: RuntimeWarning: invalid value encountered in log\n",
            "  ll_obs = endog * np.log(self.alpha * mu)\n",
            "/usr/local/lib/python3.8/dist-packages/statsmodels/genmod/families/family.py:1280: RuntimeWarning: invalid value encountered in log\n",
            "  ll_obs -= (endog + 1 / self.alpha) * np.log(1 + self.alpha * mu)\n"
          ]
        }
      ]
    },
    {
      "cell_type": "markdown",
      "source": [
        "### 3.6 Model Selection"
      ],
      "metadata": {
        "id": "aUVmPWwE9lhR"
      }
    },
    {
      "cell_type": "markdown",
      "source": [
        "##### 3.6.1 Sieve Results\n",
        "\n",
        "Extract the best five models by log-likelihood, AIC, and BIC for each model."
      ],
      "metadata": {
        "id": "wnXWa5se9uy5"
      }
    },
    {
      "cell_type": "code",
      "source": [
        "keep0 = []\n",
        "\n",
        "# choose N best models\n",
        "N = 5\n",
        "\n",
        "# get top max llf\n",
        "loglik = sorted([resDict[k].llf for k in resDict.keys()])[-N:]\n",
        "keep0 += [k for k in resDict.keys() if resDict[k].llf in loglik]\n",
        "del(loglik)\n",
        "\n",
        "# get top BIC \n",
        "bIC = sorted([resDict[k].bic for k in resDict.keys()])[:N]\n",
        "keep0 += [k for k in resDict.keys() if resDict[k].bic_deviance in bIC]\n",
        "del(bIC)\n",
        "\n",
        "# get top AIC\n",
        "aIC = sorted([resDict[k].aic for k in resDict.keys()])[:N]\n",
        "keep0 += [k for k in resDict.keys() if resDict[k].aic in aIC]\n",
        "del(aIC)\n",
        "\n",
        "# remove duplicates\n",
        "keep0 = list(set(keep0))\n"
      ],
      "metadata": {
        "id": "EzsmJKUTY1sF"
      },
      "execution_count": null,
      "outputs": []
    },
    {
      "cell_type": "markdown",
      "source": [
        "Calculate the AIC and prediction error on the test data. For the prediction error, we are simply calculating the sum of the absolute value of the difference between the true value and predicted value, or\n",
        "\n",
        "$$ errPred = \\sum_i |Y_i - \\hat{Y}_i|\n",
        "$$\n",
        "\n",
        "This is sufficient to give a relative measure of the accuracy of each model."
      ],
      "metadata": {
        "id": "CL2P5JkWZmS9"
      }
    },
    {
      "cell_type": "code",
      "source": [
        "print('Model',' '*35,'Log-Likelihood',' '*6,'AIC')\n",
        "print('_'*80)\n",
        "for k in keep0:\n",
        "    print(k,' '*(40-len(k)),resDict[k].llf,' '*(20-len(str(resDict[k].llf))),resDict[k].aic)\n",
        "\n",
        "del(k)\n",
        "\n",
        "# make predictions for each model on testing data\n",
        "print('\\nModel'+' '*(37)+'Prediction Error (Test data)')\n",
        "print('_'*80)\n",
        "for k in keep0:\n",
        "    #print(k)\n",
        "    cols = xCols[k.split('_')[2]]\n",
        "    errPred = sum(abs(df.loc[ixTe,'score'] - resDict[k].predict(sm.add_constant(df.loc[ixTe,cols]))))\n",
        "    print(k,' '*(40-len(k)), str(round(errPred,3)))\n",
        "\n",
        "del(k, cols, errPred)"
      ],
      "metadata": {
        "colab": {
          "base_uri": "https://localhost:8080/"
        },
        "id": "-cmnLtr0912h",
        "outputId": "82a7bc44-9bea-49de-f6ad-f5a79e6e0992"
      },
      "execution_count": null,
      "outputs": [
        {
          "output_type": "stream",
          "name": "stdout",
          "text": [
            "Model                                     Log-Likelihood        AIC\n",
            "________________________________________________________________________________\n",
            "gaussian_score_xCols0Cent_ident           -186876.5062406164    373795.0124812328\n",
            "negbinom_score_xCols16_log                -258228.1035131702    516490.2070263404\n",
            "gaussian_score_xCols0_ident               -186876.5062406164    373795.0124812328\n",
            "negbinom_score_xCols41Cent_log            -258223.73382382517   516483.46764765034\n",
            "gaussian_score_xCols3_ident               -186878.69623906253   373797.39247812505\n",
            "negbinom_score_xCols10_log                -258223.7338238252    516483.4676476504\n",
            "negbinom_score_xCols37Cent_log            -258228.0843645711    516492.1687291422\n",
            "gaussian_score_xCols2_ident               -186879.50574901735   373797.0114980347\n",
            "negbinom_score_xCols6_log                 -258228.08436457108   516492.16872914217\n",
            "gaussian_score_xCols34Cent_ident          -186878.69623906258   373797.39247812517\n",
            "gaussian_score_xCols33Cent_ident          -186879.50574901735   373797.0114980347\n",
            "negbinom_score_xCols47Cent_log            -258228.1035131702    516490.2070263404\n",
            "\n",
            "Model                                     Prediction Error (Test data)\n",
            "________________________________________________________________________________\n",
            "gaussian_score_xCols0Cent_ident           39351.957\n",
            "negbinom_score_xCols16_log                47903.613\n",
            "gaussian_score_xCols0_ident               39351.957\n",
            "negbinom_score_xCols41Cent_log            47868.744\n",
            "gaussian_score_xCols3_ident               39352.966\n",
            "negbinom_score_xCols10_log                47868.744\n",
            "negbinom_score_xCols37Cent_log            47901.404\n",
            "gaussian_score_xCols2_ident               39354.098\n",
            "negbinom_score_xCols6_log                 47901.404\n",
            "gaussian_score_xCols34Cent_ident          39352.966\n",
            "gaussian_score_xCols33Cent_ident          39354.098\n",
            "negbinom_score_xCols47Cent_log            47903.613\n"
          ]
        }
      ]
    },
    {
      "cell_type": "markdown",
      "source": [
        "#### 3.6.2 Model Parameters\n",
        "\n",
        "Print the summaries of the remaining candidates."
      ],
      "metadata": {
        "id": "KGcC4WMu9514"
      }
    },
    {
      "cell_type": "code",
      "source": [
        "for k in keep0:\n",
        "    print('*'*80)\n",
        "    print(k+'\\n')\n",
        "    print(resDict[k].summary())\n",
        "    #print(resDict[k].summary2())\n",
        "    print('\\n')\n",
        "    "
      ],
      "metadata": {
        "colab": {
          "base_uri": "https://localhost:8080/"
        },
        "id": "BbQjyHFN9-s4",
        "outputId": "ef412c52-ebbd-4661-be42-f71016d04a73"
      },
      "execution_count": null,
      "outputs": [
        {
          "output_type": "stream",
          "name": "stdout",
          "text": [
            "********************************************************************************\n",
            "gaussian_score_xCols0Cent_ident\n",
            "\n",
            "                 Generalized Linear Model Regression Results                  \n",
            "==============================================================================\n",
            "Dep. Variable:                  score   No. Observations:               104824\n",
            "Model:                            GLM   Df Residuals:                   104803\n",
            "Model Family:                Gaussian   Df Model:                           20\n",
            "Link Function:               identity   Scale:                          2.0706\n",
            "Method:                          IRLS   Log-Likelihood:            -1.8688e+05\n",
            "Date:                Thu, 15 Dec 2022   Deviance:                   2.1701e+05\n",
            "Time:                        16:18:53   Pearson chi2:                 2.17e+05\n",
            "No. Iterations:                     3                                         \n",
            "Covariance Type:            nonrobust                                         \n",
            "===============================================================================\n",
            "                  coef    std err          z      P>|z|      [0.025      0.975]\n",
            "-------------------------------------------------------------------------------\n",
            "const           4.4902      0.004   1010.282      0.000       4.481       4.499\n",
            "abCent         -0.1655      0.002   -107.909      0.000      -0.169      -0.163\n",
            "1bCent          0.6150      0.002    263.841      0.000       0.610       0.620\n",
            "2bCent          0.8644      0.004    236.175      0.000       0.857       0.872\n",
            "3bCent          1.1231      0.008    132.691      0.000       1.107       1.140\n",
            "4bCent          1.4999      0.005    321.137      0.000       1.491       1.509\n",
            "sachCent       -0.0543      0.006     -8.468      0.000      -0.067      -0.042\n",
            "sacfCent        0.3191      0.010     33.337      0.000       0.300       0.338\n",
            "hbpCent         0.3498      0.009     40.381      0.000       0.333       0.367\n",
            "bbCent          0.3250      0.002    142.164      0.000       0.320       0.329\n",
            "ibbCent        -0.1934      0.008    -23.849      0.000      -0.209      -0.178\n",
            "kCent          -0.0133      0.002     -8.008      0.000      -0.017      -0.010\n",
            "sbCent          0.0517      0.005     10.035      0.000       0.042       0.062\n",
            "csCent         -0.3627      0.008    -42.727      0.000      -0.379      -0.346\n",
            "gidpCent       -0.4129      0.006    -74.877      0.000      -0.424      -0.402\n",
            "ciCent         -0.4002      0.067     -5.980      0.000      -0.531      -0.269\n",
            "oppWPCent       0.2189      0.008     27.239      0.000       0.203       0.235\n",
            "oppBalkCent     0.1620      0.022      7.325      0.000       0.119       0.205\n",
            "oppERRCent      0.5293      0.005    109.452      0.000       0.520       0.539\n",
            "oppPBCent       0.2192      0.015     14.174      0.000       0.189       0.249\n",
            "oppTPCent      -0.7045      0.139     -5.060      0.000      -0.977      -0.432\n",
            "===============================================================================\n",
            "\n",
            "\n",
            "********************************************************************************\n",
            "negbinom_score_xCols16_log\n",
            "\n",
            "                 Generalized Linear Model Regression Results                  \n",
            "==============================================================================\n",
            "Dep. Variable:                  score   No. Observations:               104824\n",
            "Model:                            GLM   Df Residuals:                   104807\n",
            "Model Family:        NegativeBinomial   Df Model:                           16\n",
            "Link Function:                    log   Scale:                          1.0000\n",
            "Method:                          IRLS   Log-Likelihood:            -2.5823e+05\n",
            "Date:                Thu, 15 Dec 2022   Deviance:                       20990.\n",
            "Time:                        16:18:54   Pearson chi2:                 1.47e+04\n",
            "No. Iterations:                     9                                         \n",
            "Covariance Type:            nonrobust                                         \n",
            "==============================================================================\n",
            "                 coef    std err          z      P>|z|      [0.025      0.975]\n",
            "------------------------------------------------------------------------------\n",
            "const          0.7419      0.032     22.844      0.000       0.678       0.806\n",
            "ab            -0.0404      0.001    -33.137      0.000      -0.043      -0.038\n",
            "1b             0.1489      0.002     81.138      0.000       0.145       0.152\n",
            "2b             0.2063      0.003     72.565      0.000       0.201       0.212\n",
            "3b             0.2656      0.006     40.905      0.000       0.253       0.278\n",
            "4b             0.3643      0.004    101.351      0.000       0.357       0.371\n",
            "sach           0.0038      0.005      0.763      0.446      -0.006       0.014\n",
            "sacf           0.0862      0.007     11.762      0.000       0.072       0.101\n",
            "bb             0.0772      0.002     43.341      0.000       0.074       0.081\n",
            "ibb           -0.0189      0.006     -3.030      0.002      -0.031      -0.007\n",
            "k             -0.0040      0.001     -2.982      0.003      -0.007      -0.001\n",
            "sb             0.0239      0.004      5.991      0.000       0.016       0.032\n",
            "cs            -0.0709      0.007    -10.620      0.000      -0.084      -0.058\n",
            "oppERR         0.1257      0.004     33.651      0.000       0.118       0.133\n",
            "rbMisc         0.0758      0.007     11.362      0.000       0.063       0.089\n",
            "xbMisc         0.0474      0.005      9.096      0.000       0.037       0.058\n",
            "multOuts      -0.1006      0.004    -23.013      0.000      -0.109      -0.092\n",
            "==============================================================================\n",
            "\n",
            "\n",
            "********************************************************************************\n",
            "gaussian_score_xCols0_ident\n",
            "\n",
            "                 Generalized Linear Model Regression Results                  \n",
            "==============================================================================\n",
            "Dep. Variable:                  score   No. Observations:               104824\n",
            "Model:                            GLM   Df Residuals:                   104803\n",
            "Model Family:                Gaussian   Df Model:                           20\n",
            "Link Function:               identity   Scale:                          2.0706\n",
            "Method:                          IRLS   Log-Likelihood:            -1.8688e+05\n",
            "Date:                Thu, 15 Dec 2022   Deviance:                   2.1701e+05\n",
            "Time:                        16:18:54   Pearson chi2:                 2.17e+05\n",
            "No. Iterations:                     3                                         \n",
            "Covariance Type:            nonrobust                                         \n",
            "==============================================================================\n",
            "                 coef    std err          z      P>|z|      [0.025      0.975]\n",
            "------------------------------------------------------------------------------\n",
            "const          2.0791      0.041     50.793      0.000       1.999       2.159\n",
            "ab            -0.1655      0.002   -107.909      0.000      -0.169      -0.163\n",
            "1b             0.6150      0.002    263.841      0.000       0.610       0.620\n",
            "2b             0.8644      0.004    236.175      0.000       0.857       0.872\n",
            "3b             1.1231      0.008    132.691      0.000       1.107       1.140\n",
            "4b             1.4999      0.005    321.137      0.000       1.491       1.509\n",
            "sach          -0.0543      0.006     -8.468      0.000      -0.067      -0.042\n",
            "sacf           0.3191      0.010     33.337      0.000       0.300       0.338\n",
            "hbp            0.3498      0.009     40.381      0.000       0.333       0.367\n",
            "bb             0.3250      0.002    142.164      0.000       0.320       0.329\n",
            "ibb           -0.1934      0.008    -23.849      0.000      -0.209      -0.178\n",
            "k             -0.0133      0.002     -8.008      0.000      -0.017      -0.010\n",
            "sb             0.0517      0.005     10.035      0.000       0.042       0.062\n",
            "cs            -0.3627      0.008    -42.727      0.000      -0.379      -0.346\n",
            "gidp          -0.4129      0.006    -74.877      0.000      -0.424      -0.402\n",
            "ci            -0.4002      0.067     -5.980      0.000      -0.531      -0.269\n",
            "oppWP          0.2189      0.008     27.239      0.000       0.203       0.235\n",
            "oppBalk        0.1620      0.022      7.325      0.000       0.119       0.205\n",
            "oppERR         0.5293      0.005    109.452      0.000       0.520       0.539\n",
            "oppPB          0.2192      0.015     14.174      0.000       0.189       0.249\n",
            "oppTP         -0.7045      0.139     -5.060      0.000      -0.977      -0.432\n",
            "==============================================================================\n",
            "\n",
            "\n",
            "********************************************************************************\n",
            "negbinom_score_xCols41Cent_log\n",
            "\n",
            "                 Generalized Linear Model Regression Results                  \n",
            "==============================================================================\n",
            "Dep. Variable:                  score   No. Observations:               104824\n",
            "Model:                            GLM   Df Residuals:                   104806\n",
            "Model Family:        NegativeBinomial   Df Model:                           17\n",
            "Link Function:                    log   Scale:                          1.0000\n",
            "Method:                          IRLS   Log-Likelihood:            -2.5822e+05\n",
            "Date:                Thu, 15 Dec 2022   Deviance:                       20981.\n",
            "Time:                        16:18:54   Pearson chi2:                 1.47e+04\n",
            "No. Iterations:                     9                                         \n",
            "Covariance Type:            nonrobust                                         \n",
            "================================================================================\n",
            "                   coef    std err          z      P>|z|      [0.025      0.975]\n",
            "--------------------------------------------------------------------------------\n",
            "const            1.3254      0.004    374.107      0.000       1.318       1.332\n",
            "abCent          -0.0404      0.001    -33.170      0.000      -0.043      -0.038\n",
            "1bCent           0.1489      0.002     81.132      0.000       0.145       0.152\n",
            "2bCent           0.2063      0.003     72.563      0.000       0.201       0.212\n",
            "3bCent           0.2655      0.006     40.885      0.000       0.253       0.278\n",
            "4bCent           0.3644      0.004    101.367      0.000       0.357       0.371\n",
            "sachCent         0.0036      0.005      0.723      0.470      -0.006       0.013\n",
            "sacfCent         0.0862      0.007     11.763      0.000       0.072       0.101\n",
            "hbpCent          0.0782      0.007     11.634      0.000       0.065       0.091\n",
            "bbCent           0.0772      0.002     43.331      0.000       0.074       0.081\n",
            "ibbCent         -0.0189      0.006     -3.031      0.002      -0.031      -0.007\n",
            "kCent           -0.0039      0.001     -2.957      0.003      -0.007      -0.001\n",
            "sbCent           0.0238      0.004      5.976      0.000       0.016       0.032\n",
            "csCent          -0.0709      0.007    -10.621      0.000      -0.084      -0.058\n",
            "ciCent          -0.0806      0.052     -1.538      0.124      -0.183       0.022\n",
            "oppERRCent       0.1265      0.004     33.776      0.000       0.119       0.134\n",
            "xbMiscCent       0.0474      0.005      9.100      0.000       0.037       0.058\n",
            "multOutsCent    -0.1005      0.004    -22.990      0.000      -0.109      -0.092\n",
            "================================================================================\n",
            "\n",
            "\n",
            "********************************************************************************\n",
            "gaussian_score_xCols3_ident\n",
            "\n",
            "                 Generalized Linear Model Regression Results                  \n",
            "==============================================================================\n",
            "Dep. Variable:                  score   No. Observations:               104824\n",
            "Model:                            GLM   Df Residuals:                   104804\n",
            "Model Family:                Gaussian   Df Model:                           19\n",
            "Link Function:               identity   Scale:                          2.0707\n",
            "Method:                          IRLS   Log-Likelihood:            -1.8688e+05\n",
            "Date:                Thu, 15 Dec 2022   Deviance:                   2.1702e+05\n",
            "Time:                        16:18:54   Pearson chi2:                 2.17e+05\n",
            "No. Iterations:                     3                                         \n",
            "Covariance Type:            nonrobust                                         \n",
            "==============================================================================\n",
            "                 coef    std err          z      P>|z|      [0.025      0.975]\n",
            "------------------------------------------------------------------------------\n",
            "const          2.0787      0.041     50.782      0.000       1.998       2.159\n",
            "ab            -0.1655      0.002   -107.892      0.000      -0.169      -0.163\n",
            "1b             0.6149      0.002    263.829      0.000       0.610       0.620\n",
            "2b             0.8644      0.004    236.165      0.000       0.857       0.872\n",
            "3b             1.1231      0.008    132.683      0.000       1.106       1.140\n",
            "4b             1.4998      0.005    321.129      0.000       1.491       1.509\n",
            "sach          -0.0543      0.006     -8.470      0.000      -0.067      -0.042\n",
            "sacf           0.3192      0.010     33.347      0.000       0.300       0.338\n",
            "hbp            0.3498      0.009     40.377      0.000       0.333       0.367\n",
            "bb             0.3249      0.002    142.154      0.000       0.320       0.329\n",
            "ibb           -0.1934      0.008    -23.837      0.000      -0.209      -0.177\n",
            "k             -0.0133      0.002     -8.012      0.000      -0.017      -0.010\n",
            "sb             0.0517      0.005     10.036      0.000       0.042       0.062\n",
            "cs            -0.3626      0.008    -42.725      0.000      -0.379      -0.346\n",
            "ci            -0.3997      0.067     -5.973      0.000      -0.531      -0.269\n",
            "oppWP          0.2190      0.008     27.243      0.000       0.203       0.235\n",
            "oppBalk        0.1620      0.022      7.322      0.000       0.119       0.205\n",
            "oppERR         0.5292      0.005    109.434      0.000       0.520       0.539\n",
            "oppPB          0.2192      0.015     14.176      0.000       0.189       0.249\n",
            "multOuts      -0.4133      0.006    -75.002      0.000      -0.424      -0.403\n",
            "==============================================================================\n",
            "\n",
            "\n",
            "********************************************************************************\n",
            "negbinom_score_xCols10_log\n",
            "\n",
            "                 Generalized Linear Model Regression Results                  \n",
            "==============================================================================\n",
            "Dep. Variable:                  score   No. Observations:               104824\n",
            "Model:                            GLM   Df Residuals:                   104806\n",
            "Model Family:        NegativeBinomial   Df Model:                           17\n",
            "Link Function:                    log   Scale:                          1.0000\n",
            "Method:                          IRLS   Log-Likelihood:            -2.5822e+05\n",
            "Date:                Thu, 15 Dec 2022   Deviance:                       20981.\n",
            "Time:                        16:18:54   Pearson chi2:                 1.47e+04\n",
            "No. Iterations:                     9                                         \n",
            "Covariance Type:            nonrobust                                         \n",
            "==============================================================================\n",
            "                 coef    std err          z      P>|z|      [0.025      0.975]\n",
            "------------------------------------------------------------------------------\n",
            "const          0.7427      0.032     22.868      0.000       0.679       0.806\n",
            "ab            -0.0404      0.001    -33.170      0.000      -0.043      -0.038\n",
            "1b             0.1489      0.002     81.132      0.000       0.145       0.152\n",
            "2b             0.2063      0.003     72.563      0.000       0.201       0.212\n",
            "3b             0.2655      0.006     40.885      0.000       0.253       0.278\n",
            "4b             0.3644      0.004    101.367      0.000       0.357       0.371\n",
            "sach           0.0036      0.005      0.723      0.470      -0.006       0.013\n",
            "sacf           0.0862      0.007     11.763      0.000       0.072       0.101\n",
            "hbp            0.0782      0.007     11.634      0.000       0.065       0.091\n",
            "bb             0.0772      0.002     43.331      0.000       0.074       0.081\n",
            "ibb           -0.0189      0.006     -3.031      0.002      -0.031      -0.007\n",
            "k             -0.0039      0.001     -2.957      0.003      -0.007      -0.001\n",
            "sb             0.0238      0.004      5.976      0.000       0.016       0.032\n",
            "cs            -0.0709      0.007    -10.621      0.000      -0.084      -0.058\n",
            "ci            -0.0806      0.052     -1.538      0.124      -0.183       0.022\n",
            "oppERR         0.1265      0.004     33.776      0.000       0.119       0.134\n",
            "xbMisc         0.0474      0.005      9.100      0.000       0.037       0.058\n",
            "multOuts      -0.1005      0.004    -22.990      0.000      -0.109      -0.092\n",
            "==============================================================================\n",
            "\n",
            "\n",
            "********************************************************************************\n",
            "negbinom_score_xCols37Cent_log\n",
            "\n",
            "                 Generalized Linear Model Regression Results                  \n",
            "==============================================================================\n",
            "Dep. Variable:                  score   No. Observations:               104824\n",
            "Model:                            GLM   Df Residuals:                   104806\n",
            "Model Family:        NegativeBinomial   Df Model:                           17\n",
            "Link Function:                    log   Scale:                          1.0000\n",
            "Method:                          IRLS   Log-Likelihood:            -2.5823e+05\n",
            "Date:                Thu, 15 Dec 2022   Deviance:                       20990.\n",
            "Time:                        16:18:54   Pearson chi2:                 1.47e+04\n",
            "No. Iterations:                     9                                         \n",
            "Covariance Type:            nonrobust                                         \n",
            "==============================================================================\n",
            "                 coef    std err          z      P>|z|      [0.025      0.975]\n",
            "------------------------------------------------------------------------------\n",
            "const          1.3254      0.004    374.126      0.000       1.318       1.332\n",
            "abCent        -0.0404      0.001    -33.137      0.000      -0.043      -0.038\n",
            "1bCent         0.1489      0.002     81.136      0.000       0.145       0.153\n",
            "2bCent         0.2063      0.003     72.565      0.000       0.201       0.212\n",
            "3bCent         0.2656      0.006     40.905      0.000       0.253       0.278\n",
            "4bCent         0.3643      0.004    101.351      0.000       0.357       0.371\n",
            "sachCent       0.0038      0.005      0.763      0.445      -0.006       0.014\n",
            "sacfCent       0.0861      0.007     11.761      0.000       0.072       0.101\n",
            "bbCent         0.0772      0.002     43.342      0.000       0.074       0.081\n",
            "ibbCent       -0.0189      0.006     -3.031      0.002      -0.031      -0.007\n",
            "kCent         -0.0040      0.001     -2.982      0.003      -0.007      -0.001\n",
            "sbCent         0.0239      0.004      5.991      0.000       0.016       0.032\n",
            "csCent        -0.0709      0.007    -10.620      0.000      -0.084      -0.058\n",
            "gidpCent      -0.1006      0.004    -22.989      0.000      -0.109      -0.092\n",
            "oppERRCent     0.1257      0.004     33.651      0.000       0.118       0.133\n",
            "oppTPCent     -0.1219      0.109     -1.122      0.262      -0.335       0.091\n",
            "rbMiscCent     0.0758      0.007     11.362      0.000       0.063       0.089\n",
            "xbMiscCent     0.0474      0.005      9.095      0.000       0.037       0.058\n",
            "==============================================================================\n",
            "\n",
            "\n",
            "********************************************************************************\n",
            "gaussian_score_xCols2_ident\n",
            "\n",
            "                 Generalized Linear Model Regression Results                  \n",
            "==============================================================================\n",
            "Dep. Variable:                  score   No. Observations:               104824\n",
            "Model:                            GLM   Df Residuals:                   104805\n",
            "Model Family:                Gaussian   Df Model:                           18\n",
            "Link Function:               identity   Scale:                          2.0707\n",
            "Method:                          IRLS   Log-Likelihood:            -1.8688e+05\n",
            "Date:                Thu, 15 Dec 2022   Deviance:                   2.1702e+05\n",
            "Time:                        16:18:54   Pearson chi2:                 2.17e+05\n",
            "No. Iterations:                     3                                         \n",
            "Covariance Type:            nonrobust                                         \n",
            "==============================================================================\n",
            "                 coef    std err          z      P>|z|      [0.025      0.975]\n",
            "------------------------------------------------------------------------------\n",
            "const          2.0789      0.041     50.786      0.000       1.999       2.159\n",
            "ab            -0.1656      0.002   -107.923      0.000      -0.169      -0.163\n",
            "1b             0.6150      0.002    263.864      0.000       0.610       0.620\n",
            "2b             0.8645      0.004    236.225      0.000       0.857       0.872\n",
            "3b             1.1231      0.008    132.692      0.000       1.107       1.140\n",
            "4b             1.4999      0.005    321.171      0.000       1.491       1.509\n",
            "sach          -0.0542      0.006     -8.461      0.000      -0.067      -0.042\n",
            "sacf           0.3191      0.010     33.336      0.000       0.300       0.338\n",
            "hbp            0.3500      0.009     40.399      0.000       0.333       0.367\n",
            "bb             0.3251      0.002    142.224      0.000       0.321       0.330\n",
            "ibb           -0.1938      0.008    -23.895      0.000      -0.210      -0.178\n",
            "k             -0.0133      0.002     -7.975      0.000      -0.017      -0.010\n",
            "sb             0.0514      0.005      9.987      0.000       0.041       0.062\n",
            "cs            -0.3630      0.008    -42.768      0.000      -0.380      -0.346\n",
            "gidp          -0.4129      0.006    -74.879      0.000      -0.424      -0.402\n",
            "ci            -0.4005      0.067     -5.985      0.000      -0.532      -0.269\n",
            "oppERR         0.5294      0.005    109.471      0.000       0.520       0.539\n",
            "oppTP         -0.7052      0.139     -5.065      0.000      -0.978      -0.432\n",
            "xbMisc         0.2136      0.007     31.716      0.000       0.200       0.227\n",
            "==============================================================================\n",
            "\n",
            "\n",
            "********************************************************************************\n",
            "negbinom_score_xCols6_log\n",
            "\n",
            "                 Generalized Linear Model Regression Results                  \n",
            "==============================================================================\n",
            "Dep. Variable:                  score   No. Observations:               104824\n",
            "Model:                            GLM   Df Residuals:                   104806\n",
            "Model Family:        NegativeBinomial   Df Model:                           17\n",
            "Link Function:                    log   Scale:                          1.0000\n",
            "Method:                          IRLS   Log-Likelihood:            -2.5823e+05\n",
            "Date:                Thu, 15 Dec 2022   Deviance:                       20990.\n",
            "Time:                        16:18:54   Pearson chi2:                 1.47e+04\n",
            "No. Iterations:                     9                                         \n",
            "Covariance Type:            nonrobust                                         \n",
            "==============================================================================\n",
            "                 coef    std err          z      P>|z|      [0.025      0.975]\n",
            "------------------------------------------------------------------------------\n",
            "const          0.7419      0.032     22.844      0.000       0.678       0.806\n",
            "ab            -0.0404      0.001    -33.137      0.000      -0.043      -0.038\n",
            "1b             0.1489      0.002     81.136      0.000       0.145       0.153\n",
            "2b             0.2063      0.003     72.565      0.000       0.201       0.212\n",
            "3b             0.2656      0.006     40.905      0.000       0.253       0.278\n",
            "4b             0.3643      0.004    101.351      0.000       0.357       0.371\n",
            "sach           0.0038      0.005      0.763      0.445      -0.006       0.014\n",
            "sacf           0.0861      0.007     11.761      0.000       0.072       0.101\n",
            "bb             0.0772      0.002     43.342      0.000       0.074       0.081\n",
            "ibb           -0.0189      0.006     -3.031      0.002      -0.031      -0.007\n",
            "k             -0.0040      0.001     -2.982      0.003      -0.007      -0.001\n",
            "sb             0.0239      0.004      5.991      0.000       0.016       0.032\n",
            "cs            -0.0709      0.007    -10.620      0.000      -0.084      -0.058\n",
            "gidp          -0.1006      0.004    -22.989      0.000      -0.109      -0.092\n",
            "oppERR         0.1257      0.004     33.651      0.000       0.118       0.133\n",
            "oppTP         -0.1219      0.109     -1.122      0.262      -0.335       0.091\n",
            "rbMisc         0.0758      0.007     11.362      0.000       0.063       0.089\n",
            "xbMisc         0.0474      0.005      9.095      0.000       0.037       0.058\n",
            "==============================================================================\n",
            "\n",
            "\n",
            "********************************************************************************\n",
            "gaussian_score_xCols34Cent_ident\n",
            "\n",
            "                 Generalized Linear Model Regression Results                  \n",
            "==============================================================================\n",
            "Dep. Variable:                  score   No. Observations:               104824\n",
            "Model:                            GLM   Df Residuals:                   104804\n",
            "Model Family:                Gaussian   Df Model:                           19\n",
            "Link Function:               identity   Scale:                          2.0707\n",
            "Method:                          IRLS   Log-Likelihood:            -1.8688e+05\n",
            "Date:                Thu, 15 Dec 2022   Deviance:                   2.1702e+05\n",
            "Time:                        16:18:54   Pearson chi2:                 2.17e+05\n",
            "No. Iterations:                     3                                         \n",
            "Covariance Type:            nonrobust                                         \n",
            "================================================================================\n",
            "                   coef    std err          z      P>|z|      [0.025      0.975]\n",
            "--------------------------------------------------------------------------------\n",
            "const            4.4902      0.004   1010.265      0.000       4.481       4.499\n",
            "abCent          -0.1655      0.002   -107.892      0.000      -0.169      -0.163\n",
            "1bCent           0.6149      0.002    263.829      0.000       0.610       0.620\n",
            "2bCent           0.8644      0.004    236.165      0.000       0.857       0.872\n",
            "3bCent           1.1231      0.008    132.683      0.000       1.106       1.140\n",
            "4bCent           1.4998      0.005    321.129      0.000       1.491       1.509\n",
            "sachCent        -0.0543      0.006     -8.470      0.000      -0.067      -0.042\n",
            "sacfCent         0.3192      0.010     33.347      0.000       0.300       0.338\n",
            "hbpCent          0.3498      0.009     40.377      0.000       0.333       0.367\n",
            "bbCent           0.3249      0.002    142.154      0.000       0.320       0.329\n",
            "ibbCent         -0.1934      0.008    -23.837      0.000      -0.209      -0.177\n",
            "kCent           -0.0133      0.002     -8.012      0.000      -0.017      -0.010\n",
            "sbCent           0.0517      0.005     10.036      0.000       0.042       0.062\n",
            "csCent          -0.3626      0.008    -42.725      0.000      -0.379      -0.346\n",
            "ciCent          -0.3997      0.067     -5.973      0.000      -0.531      -0.269\n",
            "oppWPCent        0.2190      0.008     27.243      0.000       0.203       0.235\n",
            "oppBalkCent      0.1620      0.022      7.322      0.000       0.119       0.205\n",
            "oppERRCent       0.5292      0.005    109.434      0.000       0.520       0.539\n",
            "oppPBCent        0.2192      0.015     14.176      0.000       0.189       0.249\n",
            "multOutsCent    -0.4133      0.006    -75.002      0.000      -0.424      -0.403\n",
            "================================================================================\n",
            "\n",
            "\n",
            "********************************************************************************\n",
            "gaussian_score_xCols33Cent_ident\n",
            "\n",
            "                 Generalized Linear Model Regression Results                  \n",
            "==============================================================================\n",
            "Dep. Variable:                  score   No. Observations:               104824\n",
            "Model:                            GLM   Df Residuals:                   104805\n",
            "Model Family:                Gaussian   Df Model:                           18\n",
            "Link Function:               identity   Scale:                          2.0707\n",
            "Method:                          IRLS   Log-Likelihood:            -1.8688e+05\n",
            "Date:                Thu, 15 Dec 2022   Deviance:                   2.1702e+05\n",
            "Time:                        16:18:54   Pearson chi2:                 2.17e+05\n",
            "No. Iterations:                     3                                         \n",
            "Covariance Type:            nonrobust                                         \n",
            "==============================================================================\n",
            "                 coef    std err          z      P>|z|      [0.025      0.975]\n",
            "------------------------------------------------------------------------------\n",
            "const          4.4902      0.004   1010.262      0.000       4.481       4.499\n",
            "abCent        -0.1656      0.002   -107.923      0.000      -0.169      -0.163\n",
            "1bCent         0.6150      0.002    263.864      0.000       0.610       0.620\n",
            "2bCent         0.8645      0.004    236.225      0.000       0.857       0.872\n",
            "3bCent         1.1231      0.008    132.692      0.000       1.107       1.140\n",
            "4bCent         1.4999      0.005    321.171      0.000       1.491       1.509\n",
            "sachCent      -0.0542      0.006     -8.461      0.000      -0.067      -0.042\n",
            "sacfCent       0.3191      0.010     33.336      0.000       0.300       0.338\n",
            "hbpCent        0.3500      0.009     40.399      0.000       0.333       0.367\n",
            "bbCent         0.3251      0.002    142.224      0.000       0.321       0.330\n",
            "ibbCent       -0.1938      0.008    -23.895      0.000      -0.210      -0.178\n",
            "kCent         -0.0133      0.002     -7.975      0.000      -0.017      -0.010\n",
            "sbCent         0.0514      0.005      9.987      0.000       0.041       0.062\n",
            "csCent        -0.3630      0.008    -42.768      0.000      -0.380      -0.346\n",
            "gidpCent      -0.4129      0.006    -74.879      0.000      -0.424      -0.402\n",
            "ciCent        -0.4005      0.067     -5.985      0.000      -0.532      -0.269\n",
            "oppERRCent     0.5294      0.005    109.471      0.000       0.520       0.539\n",
            "oppTPCent     -0.7052      0.139     -5.065      0.000      -0.978      -0.432\n",
            "xbMiscCent     0.2136      0.007     31.716      0.000       0.200       0.227\n",
            "==============================================================================\n",
            "\n",
            "\n",
            "********************************************************************************\n",
            "negbinom_score_xCols47Cent_log\n",
            "\n",
            "                 Generalized Linear Model Regression Results                  \n",
            "==============================================================================\n",
            "Dep. Variable:                  score   No. Observations:               104824\n",
            "Model:                            GLM   Df Residuals:                   104807\n",
            "Model Family:        NegativeBinomial   Df Model:                           16\n",
            "Link Function:                    log   Scale:                          1.0000\n",
            "Method:                          IRLS   Log-Likelihood:            -2.5823e+05\n",
            "Date:                Thu, 15 Dec 2022   Deviance:                       20990.\n",
            "Time:                        16:18:54   Pearson chi2:                 1.47e+04\n",
            "No. Iterations:                     9                                         \n",
            "Covariance Type:            nonrobust                                         \n",
            "================================================================================\n",
            "                   coef    std err          z      P>|z|      [0.025      0.975]\n",
            "--------------------------------------------------------------------------------\n",
            "const            1.3254      0.004    374.126      0.000       1.318       1.332\n",
            "abCent          -0.0404      0.001    -33.137      0.000      -0.043      -0.038\n",
            "1bCent           0.1489      0.002     81.138      0.000       0.145       0.152\n",
            "2bCent           0.2063      0.003     72.565      0.000       0.201       0.212\n",
            "3bCent           0.2656      0.006     40.905      0.000       0.253       0.278\n",
            "4bCent           0.3643      0.004    101.351      0.000       0.357       0.371\n",
            "sachCent         0.0038      0.005      0.763      0.446      -0.006       0.014\n",
            "sacfCent         0.0862      0.007     11.762      0.000       0.072       0.101\n",
            "bbCent           0.0772      0.002     43.341      0.000       0.074       0.081\n",
            "ibbCent         -0.0189      0.006     -3.030      0.002      -0.031      -0.007\n",
            "kCent           -0.0040      0.001     -2.982      0.003      -0.007      -0.001\n",
            "sbCent           0.0239      0.004      5.991      0.000       0.016       0.032\n",
            "csCent          -0.0709      0.007    -10.620      0.000      -0.084      -0.058\n",
            "oppERRCent       0.1257      0.004     33.651      0.000       0.118       0.133\n",
            "rbMiscCent       0.0758      0.007     11.362      0.000       0.063       0.089\n",
            "xbMiscCent       0.0474      0.005      9.096      0.000       0.037       0.058\n",
            "multOutsCent    -0.1006      0.004    -23.013      0.000      -0.109      -0.092\n",
            "================================================================================\n",
            "\n",
            "\n"
          ]
        }
      ]
    },
    {
      "cell_type": "markdown",
      "source": [
        "#### 3.6.3 Select Best Model"
      ],
      "metadata": {
        "id": "zUtIl2LEJofw"
      }
    },
    {
      "cell_type": "code",
      "source": [
        "#best model: Gauss-Ident\n",
        "resBest = resDict['gaussian_score_xCols0Cent_ident']\n"
      ],
      "metadata": {
        "id": "N4LZSDXFJpk4"
      },
      "execution_count": null,
      "outputs": []
    },
    {
      "cell_type": "markdown",
      "source": [
        "## 4. Model Diagnostics\n",
        "\n",
        "The four key assumptions of a GLM are\n",
        "- Linearity in the transformed response $Y$ with respect to the regressors, $X_1, X_2, ... X_i$. There should not be an observable pattern the residuals vs fitted plot or the QQ plot.\n",
        "- The response distribution is properly specified. If this is true, we expect the deviance residuals to asymptotically converge to a standard normal distribution, $N(0,1)$. Check that the QQ plot aligns with the diagonal line and that the histogram of the residuals is approximately normal.\n",
        "- Independence of the regressors (i.e., no serial correlation). Given nature of the data set, this is unlikely to be a problem. In the OLS analysis of the same data, the Durbin-Watson test for autocorrelation confirmed this was true.\n",
        "- No multicollinearity. This was addressed prior to fitting the models (see Section 3.4), so this is not an issue.\n"
      ],
      "metadata": {
        "id": "Pz4QLbc8-UQY"
      }
    },
    {
      "cell_type": "markdown",
      "source": [
        "### 4.1 Diagnostic plots\n",
        "\n",
        "With respect to linearity: \n",
        "- The residuals vs fitted plot is generally good for fitted less than or equal to 15. The upward trend on the right edge of the plot is heavily influenced by a small number of outliers. \n",
        "- Likewise, the QQ plot is good for quantiles less than 2. \n",
        "\n",
        "With respect to the response distribution:\n",
        "- The histogram of the residuals is *approximately* normal.\n",
        "- The QQ plot is good for quantiles less than 2."
      ],
      "metadata": {
        "id": "a9Y0Be_L-gPI"
      }
    },
    {
      "cell_type": "code",
      "source": [
        "# histogram of deviance residuals lkdf\n",
        "_ = plotGLMResidualsHist(resBest,\n",
        "                         plotTitle='Gaussian-Ident (Centered)')\n",
        "\n",
        "# dianostic plots\n",
        "_ = glmDiagnosticPlots(resBest,\n",
        "                       figureTitle='Gaussian-Ident (Centered)')"
      ],
      "metadata": {
        "colab": {
          "base_uri": "https://localhost:8080/",
          "height": 1000
        },
        "id": "XBX3L555-pm3",
        "outputId": "042b89bf-3f82-4027-e0fe-75d84034a99c"
      },
      "execution_count": null,
      "outputs": [
        {
          "output_type": "display_data",
          "data": {
            "text/plain": [
              "<Figure size 720x360 with 2 Axes>"
            ],
            "image/png": "[encoded data removed]"
          },
          "metadata": {
            "needs_background": "light"
          }
        },
        {
          "output_type": "display_data",
          "data": {
            "text/plain": [
              "<Figure size 720x720 with 4 Axes>"
            ],
            "image/png": "[encoded data removed]"
          },
          "metadata": {
            "needs_background": "light"
          }
        }
      ]
    },
    {
      "cell_type": "markdown",
      "source": [
        "### 4.2 Prediction Error\n",
        "\n",
        "We want to make sure that the model is generalizes well, so we will compare the mean prediction error for each data set (training, testing, and validation).\n",
        "Once again, take the sum of the absolute value of the difference between $Y_i$ and $\\hat{Y}_i$ as the total prediction error. The mean of the prediction error should be the approximately the same across each data set. Significantly higher mean prediction errors in the testing and validation sets could indicate a problem with overfitting."
      ],
      "metadata": {
        "id": "ONik5md-_BYn"
      }
    },
    {
      "cell_type": "code",
      "source": [
        "print('Gaussian-Ident Model: Training Data')\n",
        "errPred = sum(abs(df.loc[ixTr,'score'] - resBest.predict(sm.add_constant(df.loc[ixTr,xCols['xCols0Cent']]))))\n",
        "errPredMean = errPred/len(ixTr)\n",
        "print(f'\\tTotal Prediction Error: {errPred}')\n",
        "print(f'\\tMean Prediction Error: {errPredMean}')\n",
        "\n",
        "print('\\nGaussian-Ident Model: Testing Data')\n",
        "errPred = sum(abs(df.loc[ixTe,'score'] - resBest.predict(sm.add_constant(df.loc[ixTe,xCols['xCols0Cent']]))))\n",
        "errPredMean = errPred/len(ixTe)\n",
        "print(f'\\tTotal Prediction Error: {errPred}')\n",
        "print(f'\\tMean Prediction Error: {errPredMean}')\n",
        "\n",
        "print('\\nGaussian-Ident Model: Validation Data')\n",
        "errPred = sum(abs(df.loc[ixV,'score'] - resBest.predict(sm.add_constant(df.loc[ixV,xCols['xCols0Cent']]))))\n",
        "errPredMean = errPred/len(ixV)\n",
        "print(f'\\tTotal Prediction Error: {errPred}')\n",
        "print(f'\\tMean Prediction Error: {errPredMean}')"
      ],
      "metadata": {
        "colab": {
          "base_uri": "https://localhost:8080/"
        },
        "id": "oG1Wz0Xc_Abf",
        "outputId": "79ed2b7b-a668-4eba-d402-064a99f25495"
      },
      "execution_count": null,
      "outputs": [
        {
          "output_type": "stream",
          "name": "stdout",
          "text": [
            "Gaussian-Ident Model: Training Data\n",
            "\tTotal Prediction Error: 118155.88736197155\n",
            "\tMean Prediction Error: 1.127183539666217\n",
            "\n",
            "Gaussian-Ident Model: Testing Data\n",
            "\tTotal Prediction Error: 39351.957156903816\n",
            "\tMean Prediction Error: 1.1262079204654518\n",
            "\n",
            "Gaussian-Ident Model: Validation Data\n",
            "\tTotal Prediction Error: 39541.39187854387\n",
            "\tMean Prediction Error: 1.1316617119871748\n"
          ]
        }
      ]
    },
    {
      "cell_type": "markdown",
      "source": [
        "## 5. Conclusions"
      ],
      "metadata": {
        "id": "4qNCQlf9_aZ2"
      }
    },
    {
      "cell_type": "markdown",
      "source": [
        "### 5.1 GLM vs OLS\n",
        "\n",
        "The Gaussian GLM with the identity linking function produced the best model for runs scored. If we compare this result to the results from the OLS model, we can see that the parameter estimates, and the standard errors are all generally in agreement. \n",
        "\n",
        "GLM results:\n",
        "\n",
        "| **Parameter** | **$\\hat{\\beta}$** | **Std Err** | **95% CI LL** | **95% CI UL** |\n",
        "|---------------|-------------------|-------------|---------------|---------------|\n",
        "| const         | 4.4902            | 0.004       | 4.481         | 4.499         |\n",
        "| abCent        | -0.1655           | 0.002       | -0.169        | -0.163        |\n",
        "| 1bCent        | 0.6150            | 0.002       | 0.610         | 0.620         |\n",
        "| 2bCent        | 0.8644            | 0.004       | 0.857         | 0.872         |\n",
        "| 3bCent        | 1.1231            | 0.008       | 1.107         | 1.140         |\n",
        "| 4bCent        | 1.4999            | 0.005       | 1.491         | 1.509         |\n",
        "| sachCent      | -0.0543           | 0.006       | -0.067        | -0.042        |\n",
        "| sacfCent      | 0.3191            | 0.010       | 0.300         | 0.338         |\n",
        "| hbpCent       | 0.3498            | 0.009       | 0.333         | 0.367         |\n",
        "| bbCent        | 0.3250            | 0.002       | 0.320         | 0.329         |\n",
        "| ibbCent       | -0.1934           | 0.008       | -0.209        | -0.178        |\n",
        "| kCent         | -0.0133           | 0.002       | -0.017        | -0.010        |\n",
        "| sbCent        | 0.0517            | 0.005       | 0.042         | 0.062         |\n",
        "| csCent        | -0.3627           | 0.008       | -0.379        | -0.346        |\n",
        "| gidpCent      | -0.4129           | 0.006       | -0.424        | -0.402        |\n",
        "| ciCent        | -0.4002           | 0.067       | -0.531        | -0.269        |\n",
        "| oppWPCent     | 0.2189            | 0.008       | 0.203         | 0.235         |\n",
        "| oppBalkCent   | 0.1620            | 0.022       | 0.119         | 0.205         |\n",
        "| oppERRCent    | 0.5293            | 0.005       | 0.520         | 0.539         |\n",
        "| oppPBCent     | 0.2192            | 0.015       | 0.189         | 0.249         |\n",
        "| oppTPCent     | -0.7045           | 0.139       | -0.977        | -0.432        |\n",
        "\n",
        "OLS results:\n",
        "\n",
        "| **Parameter** | **$\\hat{\\beta}$** | **Std Err** | **95% CI LL** | **95% CI UL** |\n",
        "|:-------------:|:---------------:|:-----------:|:-------------:|:-------------:|\n",
        "|     const     |      4.4923     |    0.004    |     4.484     |     4.501     |\n",
        "|     abCent    |     -0.1639     |    0.002    |     -0.167    |     -0.161    |\n",
        "|     1bCent    |      0.6147     |    0.002    |     0.610     |     0.619     |\n",
        "|     2bCent    |      0.8664     |    0.004    |     0.859     |     0.874     |\n",
        "|     3bCent    |      1.1281     |    0.008    |     1.111     |     1.145     |\n",
        "|     4bCent    |      1.5069     |    0.005    |     1.498     |     1.516     |\n",
        "|    sachCent   |     -0.0551     |    0.006    |     -0.068    |     -0.043    |\n",
        "|    sacfCent   |      0.3175     |    0.010    |     0.299     |     0.336     |\n",
        "|     bbCent    |      0.3298     |    0.002    |     0.325     |     0.334     |\n",
        "|    ibbCent    |     -0.1999     |    0.008    |     -0.216    |     -0.184    |\n",
        "|     kCent     |     -0.0125     |    0.002    |     -0.016    |     -0.009    |\n",
        "|     sbCent    |      0.0437     |    0.005    |     0.034     |     0.054     |\n",
        "|     csCent    |     -0.3773     |    0.008    |     -0.394    |     -0.361    |\n",
        "|   oppERRCent  |      0.5269     |    0.005    |     0.517     |     0.536     |\n",
        "|   rbMiscCent  |      0.3377     |    0.009    |     0.321     |     0.354     |\n",
        "|   xbMiscCent  |      0.2075     |    0.007    |     0.194     |     0.221     |\n",
        "|  multOutsCent |     -0.4166     |    0.006    |     -0.427    |     -0.406    |\n",
        "\n",
        "Given the similarity in the results, we can conclude that heteroskedasticity is the primary issue with this data set. A GLM can deal with this issue via a dispersion parameter, while heteroskedasticity in an OLS model is a departure from one of its primary assumptions. Despite this, however, OLS does produce an accurate and robust model.\n",
        "\n"
      ],
      "metadata": {
        "id": "5eOXw0Qn_d1W"
      }
    },
    {
      "cell_type": "markdown",
      "source": [
        "### 5.2 Use Case\n",
        "\n",
        "With a model that estimates the value of each on-field event in terms of run scoring, the next step is to apply it. One possible use case is to estimate the productivity of individual players. Hitters can be ranked by the number of runs they produce and pitchers by how few runs they allow. However, the residuals vs. fitted plot shows that the model works best when the fitted values are in the range (3,8). The model is based on per-game observations and the error increases as the fitted values increase. Applying the model to a full season of data, for instance, will produce wildly inaccurate results. \n",
        "\n",
        "To apply the model to larger blocks of data, perform the following steps.\n",
        "\n",
        "1. Scale the data set down to the per-game level by dividing the number of at-bats by the mean number of at-bats per game, which, for this data set is 34.125 ab/game. \n",
        "2. Center the scaled data by subtracting the mean from each column.\n",
        "3. Apply the model to the centered data.\n",
        "4. Scale the predictions up to the original size using the scaling factor in  (1). \n",
        "\n",
        "For example, suppose we want to know who we the 25 most productive hitters in the 2006 season (playoffs included). Applying this procedure gives the following results.\n",
        "\n",
        "| **First** | **Last** | **Team** | **Games** | **ab** | **1b** | **2b** | **3b** | **4b** | **sach** | **sacf** | **hbp** | **bb** | **ibb** | **k** | **sb** | **cs** | **gidp** | **ci** | **runsCreated** | **95% CI LL** | **95% CI UL** |\n",
        "|:---------:|:--------:|:--------:|:---------:|:------:|:------:|:------:|:------:|:------:|:--------:|:--------:|:-------:|:------:|:-------:|:-----:|:------:|:------:|:--------:|:------:|:---------------:|:-------------:|:-------------:|\n",
        "|    Ryan   |  Howard  |    PHI   |   160.0   |  582.0 |  98.0  |  25.0  |   1.0  |  58.0  |    0.0   |    6.0   |   9.0   |  71.0  |   37.0  | 181.0 |   0.0  |   0.0  |    9.0   |   0.0  |     123.793     |    123.044    |    124.541    |\n",
        "|   Albert  |  Pujols  |    SLN   |   160.0   |  590.0 |  103.0 |  36.0  |   1.0  |  52.0  |    0.0   |    3.0   |   5.0   |  72.0  |   33.0  |  61.0 |   7.0  |   3.0  |   23.0   |   0.0  |     120.213     |    119.582    |    120.843    |\n",
        "|   David   |   Ortiz  |    BOS   |   152.0   |  560.0 |  75.0  |  29.0  |   2.0  |  54.0  |    0.0   |    5.0   |   4.0   |  96.0  |   23.0  | 118.0 |   1.0  |   0.0  |   15.0   |   0.0  |     117.862     |    117.327    |    118.397    |\n",
        "|   Chase   |   Utley  |    PHI   |   161.0   |  660.0 |  128.0 |  40.0  |   4.0  |  32.0  |    0.0   |    4.0   |   14.0  |  62.0  |   1.0   | 132.0 |  15.0  |   4.0  |   10.0   |   0.0  |     116.314     |    115.952    |    116.676    |\n",
        "|   Grady   | Sizemore |    CLE   |   163.0   |  657.0 |  98.0  |  53.0  |  11.0  |  28.0  |    1.0   |    4.0   |   13.0  |  70.0  |   8.0   | 154.0 |  22.0  |   6.0  |    3.0   |   0.0  |     114.363     |    113.948    |    114.778    |\n",
        "|   Carlos  |  Beltran |    NYN   |   151.0   |  550.0 |  67.0  |  40.0  |   1.0  |  44.0  |    1.0   |    7.0   |   4.0   |  98.0  |   6.0   | 104.0 |  21.0  |   3.0  |   10.0   |   0.0  |     114.147     |    113.718    |    114.577    |\n",
        "|  Garrett  |  Atkins  |    COL   |   157.0   |  602.0 |  120.0 |  48.0  |   1.0  |  29.0  |    0.0   |    7.0   |   7.0   |  73.0  |   6.0   |  76.0 |   4.0  |   0.0  |   26.0   |   0.0  |     112.632     |    112.268    |    112.996    |\n",
        "|   Lance   |  Berkman |    HOU   |   153.0   |  536.0 |  95.0  |  29.0  |   0.0  |  45.0  |    0.0   |    8.0   |   4.0   |  77.0  |   22.0  | 106.0 |   3.0  |   2.0  |   13.0   |   0.0  |     112.163     |    111.695    |    112.631    |\n",
        "|   Derek   |   Jeter  |    NYA   |   159.0   |  642.0 |  161.0 |  43.0  |   3.0  |  15.0  |    7.0   |    4.0   |   12.0  |  66.0  |   4.0   | 106.0 |  34.0  |   6.0  |   19.0   |   0.0  |     110.726     |    110.302    |    111.149    |\n",
        "|   Justin  |  Morneau |    MIN   |   160.0   |  604.0 |  120.0 |  38.0  |   1.0  |  36.0  |    0.0   |   11.0   |   5.0   |  44.0  |   9.0   |  93.0 |   3.0  |   3.0  |   12.0   |   0.0  |     109.207     |    108.841    |    109.572    |\n",
        "|    Matt   | Holliday |    COL   |   156.0   |  605.0 |  112.0 |  45.0  |   5.0  |  34.0  |    0.0   |    3.0   |   15.0  |  44.0  |   3.0   | 110.0 |  10.0  |   5.0  |   24.0   |   0.0  |     108.324     |    107.939    |     108.71    |\n",
        "|    Jim    |   Thome  |    CHA   |   144.0   |  491.0 |  73.0  |  26.0  |   0.0  |  42.0  |    0.0   |    7.0   |   6.0   |  95.0  |   12.0  | 147.0 |   0.0  |   0.0  |    7.0   |   0.0  |     107.157     |    106.704    |     107.61    |\n",
        "|   Jason   |    Bay   |    PIT   |   160.0   |  573.0 |  97.0  |  29.0  |   3.0  |  35.0  |    0.0   |    9.0   |   8.0   |  93.0  |   9.0   | 158.0 |  11.0  |   2.0  |   15.0   |   0.0  |     106.361     |    105.967    |    106.755    |\n",
        "|  Jermaine |    Dye   |    CHA   |   147.0   |  540.0 |  96.0  |  27.0  |   3.0  |  44.0  |    0.0   |    7.0   |   6.0   |  55.0  |   4.0   | 118.0 |   7.0  |   3.0  |   20.0   |   0.0  |      106.19     |    105.822    |    106.558    |\n",
        "|   Travis  |  Hafner  |    CLE   |   129.0   |  454.0 |  66.0  |  31.0  |   1.0  |  42.0  |    0.0   |    2.0   |   7.0   |  84.0  |   16.0  | 111.0 |   0.0  |   0.0  |   12.0   |   1.0  |     104.588     |    104.142    |    105.035    |\n",
        "|  Alfonso  |  Soriano |    WAS   |   160.0   |  649.0 |  91.0  |  41.0  |   2.0  |  46.0  |    2.0   |    3.0   |   9.0   |  51.0  |   16.0  | 160.0 |  42.0  |  17.0  |    3.0   |   0.0  |     104.517     |    103.929    |    105.105    |\n",
        "|   Vernon  |   Wells  |    TOR   |   155.0   |  613.0 |  109.0 |  40.0  |   5.0  |  32.0  |    0.0   |    9.0   |   3.0   |  54.0  |   0.0   |  90.0 |  17.0  |   4.0  |   16.0   |   0.0  |     104.199     |    103.867    |     104.53    |\n",
        "|   Miguel  |  Cabrera |    FLO   |   159.0   |  576.0 |  117.0 |  50.0  |   2.0  |  26.0  |    0.0   |    4.0   |   10.0  |  59.0  |   27.0  | 108.0 |   9.0  |   6.0  |   20.0   |   0.0  |     103.173     |     102.68    |    103.665    |\n",
        "|   Carlos  |    Lee   |    MIL   |   162.0   |  625.0 |  112.0 |  37.0  |   1.0  |  37.0  |    0.0   |   11.0   |   2.0   |  52.0  |   6.0   |  65.0 |  19.0  |   2.0  |   23.0   |   0.0  |     101.777     |    101.372    |    102.182    |\n",
        "|   Bobby   |   Abreu  |    NYA   |   160.0   |  563.0 |  109.0 |  42.0  |   2.0  |  15.0  |    2.0   |    9.0   |   3.0   |  120.0 |   6.0   | 140.0 |  30.0  |   6.0  |   17.0   |   0.0  |      101.25     |    100.791    |     101.71    |\n",
        "|    Paul   |  Konerko |    CHA   |   153.0   |  568.0 |  114.0 |  30.0  |   0.0  |  35.0  |    0.0   |    9.0   |   8.0   |  57.0  |   3.0   | 104.0 |   1.0  |   0.0  |   25.0   |   0.0  |     101.083     |    100.724    |    101.443    |\n",
        "|   Aramis  |  Ramirez |    CHN   |   157.0   |  594.0 |  93.0  |  38.0  |   4.0  |  38.0  |    0.0   |    7.0   |   9.0   |  46.0  |   4.0   |  63.0 |   2.0  |   1.0  |   17.0   |   0.0  |     100.814     |    100.452    |    101.176    |\n",
        "|   Carlos  |  Delgado |    NYN   |   154.0   |  561.0 |  75.0  |  33.0  |   2.0  |  42.0  |    0.0   |   10.0   |   10.0  |  69.0  |   11.0  | 126.0 |   0.0  |   0.0  |   14.0   |   0.0  |     100.732     |    100.329    |    101.136    |\n",
        "|    Mark   | Teixeira |    TEX   |   162.0   |  628.0 |  98.0  |  45.0  |   1.0  |  33.0  |    0.0   |    6.0   |   4.0   |  77.0  |   12.0  | 128.0 |   2.0  |   0.0  |   20.0   |   0.0  |     100.273     |     99.909    |    100.637    |\n",
        "|   David   |  Wright  |    NYN   |   165.0   |  622.0 |  114.0 |  43.0  |   5.0  |  28.0  |    0.0   |    8.0   |   5.0   |  57.0  |   14.0  | 121.0 |  20.0  |   5.0  |   18.0   |   0.0  |      99.943     |     99.587    |     100.3     |\n",
        "\n",
        "Alternatively, we could scale the data set down to the at-bat level prior to fitting the model. We have showed that the Gaussian GLM with the identity linking function produces valid results and this should apply to a linear transformation of the design matrix as well. If the model performs as expected, scaling up to a larger data block would be a simple matter of multiplying the predictions by the proper factor."
      ],
      "metadata": {
        "id": "GJPgseq0_iD3"
      }
    }
  ]
}